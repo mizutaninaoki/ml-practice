{
  "nbformat": 4,
  "nbformat_minor": 0,
  "metadata": {
    "colab": {
      "name": "Kernel SVC（クラス分類）（SVM Classification）【Pythonとscikit-learnで機械学習：第5回】.ipynb",
      "provenance": [],
      "collapsed_sections": [],
      "authorship_tag": "ABX9TyMr48MwK5oQyL6DK+FO/bT5"
    },
    "kernelspec": {
      "name": "python3",
      "display_name": "Python 3"
    },
    "language_info": {
      "name": "python"
    }
  },
  "cells": [
    {
      "cell_type": "code",
      "execution_count": 1,
      "metadata": {
        "id": "PbSP_auDiTVb"
      },
      "outputs": [],
      "source": [
        "# 1：ライブラリのインポート--------------------------------\n",
        "import numpy as np #numpyという行列などを扱うライブラリを利用\n",
        "import pandas as pd #pandasというデータ分析ライブラリを利用\n",
        "import matplotlib.pyplot as plt #プロット用のライブラリを利用\n",
        "from sklearn import svm, metrics, preprocessing #機械学習用のライブラリを利用\n",
        "import sklearn.model_selection as cross_validation\n",
        "from mlxtend.plotting import plot_decision_regions #学習結果をプロットする外部ライブラリを利用\n",
        "from sklearn.kernel_approximation import RBFSampler #カーネル近似用の関数\n",
        "from matplotlib.colors import ListedColormap #plot用"
      ]
    },
    {
      "cell_type": "code",
      "source": [
        "# 2：XORのデータを作成する(x=正、y=正)=0,(x=正、y=負)=1, 的な--------------\n",
        "np.random.seed(0)\n",
        "X_xor=np.random.randn(200,2) \n",
        "y_xor=np.logical_xor(X_xor[:,0]>0, X_xor[:,1]>0)\n",
        "y_xor=np.where(y_xor,1,0)\n",
        "pd.DataFrame(y_xor)  #この行を実行するとデータが見れる"
      ],
      "metadata": {
        "colab": {
          "base_uri": "https://localhost:8080/",
          "height": 424
        },
        "id": "Rmys5gLxilrw",
        "outputId": "7b1eb206-ea36-4222-8051-6e256f718f3b"
      },
      "execution_count": 2,
      "outputs": [
        {
          "output_type": "execute_result",
          "data": {
            "text/plain": [
              "     0\n",
              "0    0\n",
              "1    0\n",
              "2    1\n",
              "3    1\n",
              "4    1\n",
              "..  ..\n",
              "195  1\n",
              "196  0\n",
              "197  0\n",
              "198  0\n",
              "199  0\n",
              "\n",
              "[200 rows x 1 columns]"
            ],
            "text/html": [
              "\n",
              "  <div id=\"df-dfdef7e7-476a-4b57-8023-110bb9672a65\">\n",
              "    <div class=\"colab-df-container\">\n",
              "      <div>\n",
              "<style scoped>\n",
              "    .dataframe tbody tr th:only-of-type {\n",
              "        vertical-align: middle;\n",
              "    }\n",
              "\n",
              "    .dataframe tbody tr th {\n",
              "        vertical-align: top;\n",
              "    }\n",
              "\n",
              "    .dataframe thead th {\n",
              "        text-align: right;\n",
              "    }\n",
              "</style>\n",
              "<table border=\"1\" class=\"dataframe\">\n",
              "  <thead>\n",
              "    <tr style=\"text-align: right;\">\n",
              "      <th></th>\n",
              "      <th>0</th>\n",
              "    </tr>\n",
              "  </thead>\n",
              "  <tbody>\n",
              "    <tr>\n",
              "      <th>0</th>\n",
              "      <td>0</td>\n",
              "    </tr>\n",
              "    <tr>\n",
              "      <th>1</th>\n",
              "      <td>0</td>\n",
              "    </tr>\n",
              "    <tr>\n",
              "      <th>2</th>\n",
              "      <td>1</td>\n",
              "    </tr>\n",
              "    <tr>\n",
              "      <th>3</th>\n",
              "      <td>1</td>\n",
              "    </tr>\n",
              "    <tr>\n",
              "      <th>4</th>\n",
              "      <td>1</td>\n",
              "    </tr>\n",
              "    <tr>\n",
              "      <th>...</th>\n",
              "      <td>...</td>\n",
              "    </tr>\n",
              "    <tr>\n",
              "      <th>195</th>\n",
              "      <td>1</td>\n",
              "    </tr>\n",
              "    <tr>\n",
              "      <th>196</th>\n",
              "      <td>0</td>\n",
              "    </tr>\n",
              "    <tr>\n",
              "      <th>197</th>\n",
              "      <td>0</td>\n",
              "    </tr>\n",
              "    <tr>\n",
              "      <th>198</th>\n",
              "      <td>0</td>\n",
              "    </tr>\n",
              "    <tr>\n",
              "      <th>199</th>\n",
              "      <td>0</td>\n",
              "    </tr>\n",
              "  </tbody>\n",
              "</table>\n",
              "<p>200 rows × 1 columns</p>\n",
              "</div>\n",
              "      <button class=\"colab-df-convert\" onclick=\"convertToInteractive('df-dfdef7e7-476a-4b57-8023-110bb9672a65')\"\n",
              "              title=\"Convert this dataframe to an interactive table.\"\n",
              "              style=\"display:none;\">\n",
              "        \n",
              "  <svg xmlns=\"http://www.w3.org/2000/svg\" height=\"24px\"viewBox=\"0 0 24 24\"\n",
              "       width=\"24px\">\n",
              "    <path d=\"M0 0h24v24H0V0z\" fill=\"none\"/>\n",
              "    <path d=\"M18.56 5.44l.94 2.06.94-2.06 2.06-.94-2.06-.94-.94-2.06-.94 2.06-2.06.94zm-11 1L8.5 8.5l.94-2.06 2.06-.94-2.06-.94L8.5 2.5l-.94 2.06-2.06.94zm10 10l.94 2.06.94-2.06 2.06-.94-2.06-.94-.94-2.06-.94 2.06-2.06.94z\"/><path d=\"M17.41 7.96l-1.37-1.37c-.4-.4-.92-.59-1.43-.59-.52 0-1.04.2-1.43.59L10.3 9.45l-7.72 7.72c-.78.78-.78 2.05 0 2.83L4 21.41c.39.39.9.59 1.41.59.51 0 1.02-.2 1.41-.59l7.78-7.78 2.81-2.81c.8-.78.8-2.07 0-2.86zM5.41 20L4 18.59l7.72-7.72 1.47 1.35L5.41 20z\"/>\n",
              "  </svg>\n",
              "      </button>\n",
              "      \n",
              "  <style>\n",
              "    .colab-df-container {\n",
              "      display:flex;\n",
              "      flex-wrap:wrap;\n",
              "      gap: 12px;\n",
              "    }\n",
              "\n",
              "    .colab-df-convert {\n",
              "      background-color: #E8F0FE;\n",
              "      border: none;\n",
              "      border-radius: 50%;\n",
              "      cursor: pointer;\n",
              "      display: none;\n",
              "      fill: #1967D2;\n",
              "      height: 32px;\n",
              "      padding: 0 0 0 0;\n",
              "      width: 32px;\n",
              "    }\n",
              "\n",
              "    .colab-df-convert:hover {\n",
              "      background-color: #E2EBFA;\n",
              "      box-shadow: 0px 1px 2px rgba(60, 64, 67, 0.3), 0px 1px 3px 1px rgba(60, 64, 67, 0.15);\n",
              "      fill: #174EA6;\n",
              "    }\n",
              "\n",
              "    [theme=dark] .colab-df-convert {\n",
              "      background-color: #3B4455;\n",
              "      fill: #D2E3FC;\n",
              "    }\n",
              "\n",
              "    [theme=dark] .colab-df-convert:hover {\n",
              "      background-color: #434B5C;\n",
              "      box-shadow: 0px 1px 3px 1px rgba(0, 0, 0, 0.15);\n",
              "      filter: drop-shadow(0px 1px 2px rgba(0, 0, 0, 0.3));\n",
              "      fill: #FFFFFF;\n",
              "    }\n",
              "  </style>\n",
              "\n",
              "      <script>\n",
              "        const buttonEl =\n",
              "          document.querySelector('#df-dfdef7e7-476a-4b57-8023-110bb9672a65 button.colab-df-convert');\n",
              "        buttonEl.style.display =\n",
              "          google.colab.kernel.accessAllowed ? 'block' : 'none';\n",
              "\n",
              "        async function convertToInteractive(key) {\n",
              "          const element = document.querySelector('#df-dfdef7e7-476a-4b57-8023-110bb9672a65');\n",
              "          const dataTable =\n",
              "            await google.colab.kernel.invokeFunction('convertToInteractive',\n",
              "                                                     [key], {});\n",
              "          if (!dataTable) return;\n",
              "\n",
              "          const docLinkHtml = 'Like what you see? Visit the ' +\n",
              "            '<a target=\"_blank\" href=https://colab.research.google.com/notebooks/data_table.ipynb>data table notebook</a>'\n",
              "            + ' to learn more about interactive tables.';\n",
              "          element.innerHTML = '';\n",
              "          dataTable['output_type'] = 'display_data';\n",
              "          await google.colab.output.renderOutput(dataTable, element);\n",
              "          const docLink = document.createElement('div');\n",
              "          docLink.innerHTML = docLinkHtml;\n",
              "          element.appendChild(docLink);\n",
              "        }\n",
              "      </script>\n",
              "    </div>\n",
              "  </div>\n",
              "  "
            ]
          },
          "metadata": {},
          "execution_count": 2
        }
      ]
    },
    {
      "cell_type": "code",
      "source": [
        "# 3：プロットしてみる------------------------------------------------------\n",
        "%matplotlib inline\n",
        " \n",
        "plt.scatter(X_xor[y_xor==1, 0], X_xor[y_xor==1, 1], c='b', marker='x', label='1')\n",
        "plt.scatter(X_xor[y_xor==0, 0], X_xor[y_xor==0, 1], c='r', marker='s', label='0')\n",
        "plt.legend(loc='best')\n",
        "plt.show\n",
        " "
      ],
      "metadata": {
        "colab": {
          "base_uri": "https://localhost:8080/",
          "height": 282
        },
        "id": "IbIR9XmMilt_",
        "outputId": "f0e3c08a-92ec-4907-8640-a650359f5030"
      },
      "execution_count": 3,
      "outputs": [
        {
          "output_type": "execute_result",
          "data": {
            "text/plain": [
              "<function matplotlib.pyplot.show>"
            ]
          },
          "metadata": {},
          "execution_count": 3
        },
        {
          "output_type": "display_data",
          "data": {
            "text/plain": [
              "<Figure size 432x288 with 1 Axes>"
            ],
            "image/png": "[encoded data removed]"
          },
          "metadata": {
            "needs_background": "light"
          }
        }
      ]
    },
    {
      "cell_type": "code",
      "source": [
        "# 4：データの整形-------------------------------------------------------\n",
        "X_std=X_xor\n",
        "z=y_xor"
      ],
      "metadata": {
        "id": "obb7nk7Rilwe"
      },
      "execution_count": 4,
      "outputs": []
    },
    {
      "cell_type": "code",
      "source": [
        "# 解説5：機械学習で分類する---------------------------------------------------\n",
        "# カーネルの種類としてはrbfカーネル（ガウスカーネル）を使用します。\n",
        "# ガウスカーネルの係数gammaはdefaultでは1/次元数であり、今回は1/2としています。\n",
        "clf_result=svm.SVC(kernel='rbf', gamma=1/2, C=1.0, class_weight=\"balanced\", random_state=0) #loss='squared_hinge' #loss=\"hinge\", loss=\"log\"\n",
        "clf_result.fit(X_std, z)"
      ],
      "metadata": {
        "colab": {
          "base_uri": "https://localhost:8080/"
        },
        "id": "jcEq_RWyilyQ",
        "outputId": "d70b0032-61a5-4b95-df35-5e3ba1e980b9"
      },
      "execution_count": 6,
      "outputs": [
        {
          "output_type": "execute_result",
          "data": {
            "text/plain": [
              "SVC(class_weight='balanced', gamma=0.5, random_state=0)"
            ]
          },
          "metadata": {},
          "execution_count": 6
        }
      ]
    },
    {
      "cell_type": "code",
      "source": [
        "scores=cross_validation.cross_val_score(clf_result, X_std, z, cv=10)\n",
        "print(\"平均正解率 = \", scores.mean())\n",
        "print(\"正解率の標準偏差 = \", scores.std())"
      ],
      "metadata": {
        "colab": {
          "base_uri": "https://localhost:8080/"
        },
        "id": "t3JA2zlNil5z",
        "outputId": "246bcf6d-106f-4a74-c1e0-3f544c85664a"
      },
      "execution_count": 9,
      "outputs": [
        {
          "output_type": "stream",
          "name": "stdout",
          "text": [
            "平均正解率 =  0.9400000000000001\n",
            "正解率の標準偏差 =  0.048989794855663564\n"
          ]
        }
      ]
    },
    {
      "cell_type": "code",
      "source": [
        "# 7：トレーニングデータとテストデータに分けて実行してみる------------------\n",
        "X_train, X_test, y_train, y_test = cross_validation.train_test_split(X_std, z, random_state=0)\n",
        "clf_result.fit(X_train, y_train)\n",
        "score = clf_result.score(X_test, y_test)\n",
        "print(\"正答率 = \",score)"
      ],
      "metadata": {
        "colab": {
          "base_uri": "https://localhost:8080/"
        },
        "id": "Y0C4SPb3jYlw",
        "outputId": "9e9e3d7c-b9c4-464e-c929-695e5b7771d5"
      },
      "execution_count": 15,
      "outputs": [
        {
          "output_type": "stream",
          "name": "stdout",
          "text": [
            "正答率 =  0.98\n"
          ]
        }
      ]
    },
    {
      "cell_type": "code",
      "source": [
        "#plotする\n",
        "X_train_plot=np.vstack(X_train)\n",
        "train_label_plot=np.hstack(y_train)\n",
        "X_test_plot=np.vstack(X_test)\n",
        "test_label_plot=np.hstack(y_test)\n",
        "# plot_decision_regions(X_train_plot, train_label_plot, clf=clf_result, res=0.01) #学習データをプロット\n",
        "plot_decision_regions(X_test_plot, test_label_plot, clf=clf_result, res=0.01, legend=2) #テストデータをプロット\n",
        " "
      ],
      "metadata": {
        "colab": {
          "base_uri": "https://localhost:8080/",
          "height": 317
        },
        "id": "2IdC3tOfjYn3",
        "outputId": "8af4f77d-f5bb-4484-f52b-14ff18e45eb4"
      },
      "execution_count": 21,
      "outputs": [
        {
          "output_type": "stream",
          "name": "stderr",
          "text": [
            "/usr/local/lib/python3.7/dist-packages/mlxtend/plotting/decision_regions.py:244: MatplotlibDeprecationWarning: Passing unsupported keyword arguments to axis() will raise a TypeError in 3.3.\n",
            "  ax.axis(xmin=xx.min(), xmax=xx.max(), y_min=yy.min(), y_max=yy.max())\n"
          ]
        },
        {
          "output_type": "execute_result",
          "data": {
            "text/plain": [
              "<matplotlib.axes._subplots.AxesSubplot at 0x7f8bf3c027d0>"
            ]
          },
          "metadata": {},
          "execution_count": 21
        },
        {
          "output_type": "display_data",
          "data": {
            "text/plain": [
              "<Figure size 432x288 with 1 Axes>"
            ],
            "image/png": "[encoded data removed]"
          },
          "metadata": {
            "needs_background": "light"
          }
        }
      ]
    },
    {
      "cell_type": "code",
      "source": [
        "# 8：任意のデータに対する識別結果を見てみる------------------\n",
        "#predicted_label=clf_result.predict([1.0,-1.0])\n",
        "#print(\"このテストデータのラベル = \", predicted_label)"
      ],
      "metadata": {
        "id": "w4X6XohHjYp9"
      },
      "execution_count": 18,
      "outputs": []
    },
    {
      "cell_type": "code",
      "source": [
        "# 9：識別平面の式を手に入れる--------------------------------\n",
        "print(clf_result.intercept_)\n",
        "print(clf_result.dual_coef_ )  #coef[0]*x+coef[1]*y+intercept=0"
      ],
      "metadata": {
        "colab": {
          "base_uri": "https://localhost:8080/"
        },
        "id": "wWYvPl24jYsD",
        "outputId": "d266fdba-92a0-426d-8656-8b563523e7f7"
      },
      "execution_count": 19,
      "outputs": [
        {
          "output_type": "stream",
          "name": "stdout",
          "text": [
            "[0.20125157]\n",
            "[[-0.96153846 -0.96153846 -0.96153846 -0.96153846 -0.96153846 -0.96153846\n",
            "  -0.96153846 -0.96153846 -0.96153846 -0.72282637 -0.96153846 -0.96153846\n",
            "  -0.96153846 -0.07745821 -0.96153846 -0.96153846 -0.69294488 -0.96153846\n",
            "  -0.96153846 -0.96153846 -0.96153846 -0.96153846 -0.96153846 -0.63505171\n",
            "  -0.96153846 -0.96153846 -0.96153846 -0.96153846 -0.96153846 -0.96153846\n",
            "  -0.96153846 -0.7689468  -0.96153846 -0.07358411 -0.96153846 -0.96153846\n",
            "  -0.96153846 -0.96153846 -0.96153846 -0.96153846  1.04166667  1.04166667\n",
            "   1.04166667  0.04458936  1.04166667  1.04166667  1.04166667  1.04166667\n",
            "   1.04166667  1.04166667  1.04166667  1.04166667  1.04166667  1.04166667\n",
            "   0.14534162  1.04166667  1.04166667  1.04166667  0.87554979  1.04166667\n",
            "   1.04166667  0.22263901  1.04166667  1.04166667  1.04166667  1.04166667\n",
            "   1.04166667  1.04166667  1.04166667  1.04166667  1.04166667  1.04166667\n",
            "   1.04166667  1.04166667  1.04166667  1.04166667  1.04166667]]\n"
          ]
        }
      ]
    }
  ]
}