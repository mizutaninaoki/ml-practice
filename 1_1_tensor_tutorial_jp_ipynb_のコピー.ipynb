{
  "nbformat": 4,
  "nbformat_minor": 0,
  "metadata": {
    "kernelspec": {
      "display_name": "Python 3",
      "language": "python",
      "name": "python3"
    },
    "language_info": {
      "codemirror_mode": {
        "name": "ipython",
        "version": 3
      },
      "file_extension": ".py",
      "mimetype": "text/x-python",
      "name": "python",
      "nbconvert_exporter": "python",
      "pygments_lexer": "ipython3",
      "version": "3.6.8"
    },
    "colab": {
      "provenance": [],
      "collapsed_sections": [],
      "toc_visible": true
    },
    "accelerator": "GPU"
  },
  "cells": [
    {
      "cell_type": "markdown",
      "metadata": {
        "id": "2UbJrC7Fq43T"
      },
      "source": [
        "「PyTorchとは？」\n",
        "===============================================================\n",
        "【原題】What is PyTorch?\n",
        "\n",
        "【原著】[Soumith Chintala](http://soumith.ch/)\n",
        "\n",
        "【元URL】https://pytorch.org/tutorials/beginner/blitz/tensor_tutorial.html\n",
        "\n",
        "【翻訳】電通国際情報サービスISID AIトランスフォーメーションセンター　徳原 光\n",
        "\n",
        "【日付】2020年10月13日\n",
        "\n",
        "【チュトーリアル概要】\n",
        "\n",
        "本チュートリアルでは、PyTorchでの演算処理に用いるTorch Tensorについて、その操作方法を解説します。\n",
        "\n",
        "---\n"
      ]
    },
    {
      "cell_type": "markdown",
      "metadata": {
        "id": "zl9avtaZAMR-"
      },
      "source": [
        "\n",
        "PyTorchとは？\n",
        "================\n",
        "\n",
        "PyTorchはPythonをベースとした科学計算ライブラリです。\n",
        "\n",
        "PyTorchは以下に示す2つの機能を使用したいユーザーを対象としています。\n",
        "\n",
        "- Numpyベースの演算の代わりに、GPUを用いた高速な演算の実施\n",
        "- 高い柔軟性と実行速度を有したディープラーニングのプラットフォーム\n"
      ]
    },
    {
      "cell_type": "markdown",
      "metadata": {
        "id": "pU-27_tSYy0b"
      },
      "source": [
        "\n",
        "\n",
        "Tensors（テンソル）\n",
        "-------------\n",
        "\n",
        "TensorはNumPy ndarraysのような多次元配列です。\n",
        "\n",
        "PyTorchにおいてテンソルはGPU上でも使用できるため、処理速度の向上させることも可能です。"
      ]
    },
    {
      "cell_type": "code",
      "metadata": {
        "id": "BPEmNafrDUT3"
      },
      "source": [
        "%matplotlib inline"
      ],
      "execution_count": null,
      "outputs": []
    },
    {
      "cell_type": "code",
      "source": [
        "# from __future__ import print_function\n",
        "# import torch"
      ],
      "metadata": {
        "id": "iLM5gAkWRqbH"
      },
      "execution_count": null,
      "outputs": []
    },
    {
      "cell_type": "code",
      "metadata": {
        "id": "x9tnynuYAMR_"
      },
      "source": [
        "from __future__ import print_function\n",
        "import torch"
      ],
      "execution_count": null,
      "outputs": []
    },
    {
      "cell_type": "markdown",
      "metadata": {
        "id": "AAtJYu0nAMSF"
      },
      "source": [
        "【注意】\n",
        "\n",
        "初期化されていない行列が宣言・作成されても、実際に使用されるまで明確な値は保有していません。\n",
        "\n",
        "宣言時にメモリ上の割り当てられた適当な値が初期値として入っています。\n",
        "\n",
        "\n"
      ]
    },
    {
      "cell_type": "markdown",
      "metadata": {
        "id": "VZy0JcQ6AMSG"
      },
      "source": [
        "初期化されていない、3×5行列を生成してみましょう：\n",
        "\n"
      ]
    },
    {
      "cell_type": "code",
      "source": [
        "# x = torch.empty(5, 3)\n",
        "# print(x)"
      ],
      "metadata": {
        "id": "M6Hpp4BDSFj8"
      },
      "execution_count": null,
      "outputs": []
    },
    {
      "cell_type": "code",
      "metadata": {
        "id": "z4d_varHAMSH",
        "colab": {
          "base_uri": "https://localhost:8080/"
        },
        "outputId": "63555228-1744-42af-f4ac-e407c327be2b"
      },
      "source": [
        "x = torch.empty(5, 3)\n",
        "print(x)"
      ],
      "execution_count": null,
      "outputs": [
        {
          "output_type": "stream",
          "name": "stdout",
          "text": [
            "tensor([[6.6463e-35, 0.0000e+00, 3.3631e-44],\n",
            "        [0.0000e+00,        nan, 0.0000e+00],\n",
            "        [1.1578e+27, 1.1362e+30, 7.1547e+22],\n",
            "        [4.5828e+30, 1.2121e+04, 7.1846e+22],\n",
            "        [9.2198e-39, 7.0374e+22, 0.0000e+00]])\n"
          ]
        }
      ]
    },
    {
      "cell_type": "markdown",
      "metadata": {
        "id": "rW-q-OY_AMSJ"
      },
      "source": [
        "次に、乱数によって初期化された3x5行列を生成してみましょう:\n",
        "\n"
      ]
    },
    {
      "cell_type": "code",
      "source": [
        "# x = torch.rand(5, 3)\n",
        "# print(x)"
      ],
      "metadata": {
        "id": "rQlcHDdaSYsL"
      },
      "execution_count": null,
      "outputs": []
    },
    {
      "cell_type": "code",
      "metadata": {
        "id": "Fk6NU9oIAMSK",
        "colab": {
          "base_uri": "https://localhost:8080/"
        },
        "outputId": "9f6c86ec-f7ee-4202-8129-940611203bb6"
      },
      "source": [
        "x = torch.rand(5, 3)\n",
        "print(x)"
      ],
      "execution_count": null,
      "outputs": [
        {
          "output_type": "stream",
          "name": "stdout",
          "text": [
            "tensor([[0.5038, 0.9606, 0.5691],\n",
            "        [0.9894, 0.0454, 0.7251],\n",
            "        [0.1370, 0.0041, 0.5591],\n",
            "        [0.7339, 0.0983, 0.4560],\n",
            "        [0.3185, 0.4829, 0.4849]])\n"
          ]
        }
      ]
    },
    {
      "cell_type": "markdown",
      "metadata": {
        "id": "3BEWXROCAMSM"
      },
      "source": [
        "long型の数値0で初期化された行列を生成する場合は次の通りです。\n",
        "\n"
      ]
    },
    {
      "cell_type": "code",
      "source": [
        "# x = torch.zeros(5, 3, dtype=torch.long)\n",
        "# x"
      ],
      "metadata": {
        "id": "RUmppVqCSf1Z",
        "outputId": "b258ad4e-2503-4850-b052-8828d9a47a92",
        "colab": {
          "base_uri": "https://localhost:8080/"
        }
      },
      "execution_count": null,
      "outputs": [
        {
          "output_type": "execute_result",
          "data": {
            "text/plain": [
              "tensor([[0, 0, 0],\n",
              "        [0, 0, 0],\n",
              "        [0, 0, 0],\n",
              "        [0, 0, 0],\n",
              "        [0, 0, 0]])"
            ]
          },
          "metadata": {},
          "execution_count": 15
        }
      ]
    },
    {
      "cell_type": "code",
      "metadata": {
        "id": "jAUBy1bDAMSN",
        "colab": {
          "base_uri": "https://localhost:8080/"
        },
        "outputId": "e09ebd73-386d-4a3e-817e-2f0946839282"
      },
      "source": [
        "x = torch.zeros(5, 3, dtype=torch.long)\n",
        "print(x)"
      ],
      "execution_count": null,
      "outputs": [
        {
          "output_type": "stream",
          "name": "stdout",
          "text": [
            "tensor([[0, 0, 0],\n",
            "        [0, 0, 0],\n",
            "        [0, 0, 0],\n",
            "        [0, 0, 0],\n",
            "        [0, 0, 0]])\n"
          ]
        }
      ]
    },
    {
      "cell_type": "markdown",
      "metadata": {
        "id": "eNMp7LS4AMSR"
      },
      "source": [
        "直接、数値を指定して行列を生成することもできます。\n",
        "\n"
      ]
    },
    {
      "cell_type": "code",
      "source": [
        "# x = torch.tensor([5.5, 3], dtype=torch.long)\n",
        "# x"
      ],
      "metadata": {
        "id": "qBXtw6WDclLp",
        "outputId": "c3dfb3a5-5456-439c-c4b0-05e4bebf4abb",
        "colab": {
          "base_uri": "https://localhost:8080/"
        }
      },
      "execution_count": null,
      "outputs": [
        {
          "output_type": "execute_result",
          "data": {
            "text/plain": [
              "tensor([5.5000, 3.0000])"
            ]
          },
          "metadata": {},
          "execution_count": 23
        }
      ]
    },
    {
      "cell_type": "code",
      "metadata": {
        "id": "WuSmaoLnAMSR",
        "colab": {
          "base_uri": "https://localhost:8080/"
        },
        "outputId": "1749d89a-ec43-4429-8964-5e6ffd6e9510"
      },
      "source": [
        "x = torch.tensor([5.5, 3])\n",
        "print(x)"
      ],
      "execution_count": null,
      "outputs": [
        {
          "output_type": "stream",
          "name": "stdout",
          "text": [
            "tensor([5.5000, 3.0000])\n"
          ]
        }
      ]
    },
    {
      "cell_type": "markdown",
      "metadata": {
        "id": "KgBDdfF6AMSU"
      },
      "source": [
        "その他に、すでにあるtensorをもとに、新しくtensorを生成することもできます。\n",
        "\n",
        "本メソッドで生成したテンソルは、テンソルの特性（例えばデータ型：dtypeなど）を、もとのtensorから引き継ぎます（ユーザーが値や特性を直接上書きしない限り）。"
      ]
    },
    {
      "cell_type": "code",
      "source": [
        "# import torch\n",
        "# import numpy as np\n",
        "\n",
        "# # テンソルの新規作成\n",
        "# x = torch.empty(2, 3) # 2行×3列のテンソル（未初期化状態）を生成\n",
        "# x = torch.rand(2, 3)  # 2行×3列のテンソル（ランダムに初期化）を生成\n",
        "# x = torch.zeros(2, 3, dtype=torch.float) # 2行×3列のテンソル（0で初期化、torch.float型）を生成\n",
        "# x = torch.ones(2, 3, dtype=torch.float)  # 2行×3列のテンソル（1で初期化、torch.float型）を生成\n",
        "# x = torch.tensor([[0.0, 0.1, 0.2],\n",
        "#                   [1.0, 1.1, 1.2]])      # 1行×2列のテンソルをPythonリスト値から作成\n",
        "\n",
        "# # 既存のテンソルを使った新規作成\n",
        "# # 「new_*()」パターン\n",
        "# y = x.new_ones(2, 3)   # 2行×3列のテンソル（1で初期化、既存のテンソルと「同じデータ型」）を生成\n",
        "# # 「*_like()」パターン # 既存のテンソルと「同じサイズ」のテンソル（1で初期化、torch.int型）を生成\n",
        "# y = torch.ones_like(x, dtype=torch.int)\n",
        "# y"
      ],
      "metadata": {
        "id": "oVGO38Updm_b",
        "outputId": "6dcbf959-0ab3-457f-f454-efd551f3086a",
        "colab": {
          "base_uri": "https://localhost:8080/"
        }
      },
      "execution_count": null,
      "outputs": [
        {
          "output_type": "execute_result",
          "data": {
            "text/plain": [
              "tensor([[1, 1, 1],\n",
              "        [1, 1, 1]], dtype=torch.int32)"
            ]
          },
          "metadata": {},
          "execution_count": 31
        }
      ]
    },
    {
      "cell_type": "code",
      "source": [
        "# x = x.new_ones(5, 3, dtype=torch.double)\n",
        "# print(x)\n",
        "\n",
        "# x = torch.randn_like(x, dtype=torch.float)\n",
        "# print(x)"
      ],
      "metadata": {
        "id": "WQObqmFWdEaK",
        "outputId": "315d20ae-b095-43d5-945b-fd22d2d071d6",
        "colab": {
          "base_uri": "https://localhost:8080/"
        }
      },
      "execution_count": null,
      "outputs": [
        {
          "output_type": "stream",
          "name": "stdout",
          "text": [
            "tensor([[1., 1., 1.],\n",
            "        [1., 1., 1.],\n",
            "        [1., 1., 1.],\n",
            "        [1., 1., 1.],\n",
            "        [1., 1., 1.]], dtype=torch.float64)\n",
            "tensor([[-0.1072, -0.0824, -0.9604],\n",
            "        [-0.8681, -1.0503,  0.8826],\n",
            "        [ 0.3431,  1.2594, -0.6635],\n",
            "        [ 0.2788, -0.0113, -0.8235],\n",
            "        [ 0.0937,  0.7254,  0.6754]])\n"
          ]
        }
      ]
    },
    {
      "cell_type": "code",
      "metadata": {
        "id": "3P_cXyNZAMSU",
        "colab": {
          "base_uri": "https://localhost:8080/"
        },
        "outputId": "60f83aaf-f3a6-40d7-b76c-88fca013c00d"
      },
      "source": [
        "x = x.new_ones(5, 3, dtype=torch.double)      # new_* methods take in sizes\n",
        "print(x)\n",
        "\n",
        "x = torch.randn_like(x, dtype=torch.float)    # override dtype!\n",
        "print(x)                                      # result has the same size"
      ],
      "execution_count": null,
      "outputs": [
        {
          "output_type": "stream",
          "name": "stdout",
          "text": [
            "tensor([[1., 1., 1.],\n",
            "        [1., 1., 1.],\n",
            "        [1., 1., 1.],\n",
            "        [1., 1., 1.],\n",
            "        [1., 1., 1.]], dtype=torch.float64)\n",
            "tensor([[-1.2299,  0.8970,  0.1323],\n",
            "        [-1.1328,  0.6298,  1.4558],\n",
            "        [ 0.8885, -1.6032,  0.7505],\n",
            "        [ 0.3868, -0.8734,  1.4104],\n",
            "        [-0.4534,  0.1195, -0.9755]])\n"
          ]
        }
      ]
    },
    {
      "cell_type": "markdown",
      "metadata": {
        "id": "cLygdY1nAMSX"
      },
      "source": [
        "テンソルサイズ（size）≒テンソルの形、を求めてみます。\n",
        "\n"
      ]
    },
    {
      "cell_type": "code",
      "metadata": {
        "id": "CEwFrYkgAMSX",
        "colab": {
          "base_uri": "https://localhost:8080/"
        },
        "outputId": "3eadf88f-98eb-473d-d7ba-5c3c773bdc8a"
      },
      "source": [
        "print(x.size())"
      ],
      "execution_count": null,
      "outputs": [
        {
          "output_type": "stream",
          "name": "stdout",
          "text": [
            "torch.Size([5, 3])\n"
          ]
        }
      ]
    },
    {
      "cell_type": "markdown",
      "metadata": {
        "id": "SOB44xlLWtKQ"
      },
      "source": [
        "【メモ】\n",
        "\n",
        "``torch.Size``はタプルとなっているため、Pythonの通常のタプルと同様の操作が可能です。"
      ]
    },
    {
      "cell_type": "markdown",
      "metadata": {
        "id": "2029dArbAMSZ"
      },
      "source": [
        "**テンソルの操作（変形・変換等）**\n",
        "\n",
        "\n",
        "PyTorchにはテンソルに対する操作（変形・変換等）が多く用意されています。\n",
        "\n",
        "ここで、tensorを操作（変形・変換等）する追加の例を紹介します。\n",
        "\n"
      ]
    },
    {
      "cell_type": "markdown",
      "metadata": {
        "id": "8I41xxUFXmtP"
      },
      "source": [
        "補足: 用例1"
      ]
    },
    {
      "cell_type": "code",
      "source": [
        "# y = torch.rand(5, 3)\n",
        "# print(x @ y.T)"
      ],
      "metadata": {
        "id": "NMcFSypLecv6",
        "outputId": "d4610910-fc92-4e8e-a021-81e7b47651b0",
        "colab": {
          "base_uri": "https://localhost:8080/"
        }
      },
      "execution_count": null,
      "outputs": [
        {
          "output_type": "stream",
          "name": "stdout",
          "text": [
            "tensor([[-0.4657, -0.1267, -0.0602,  0.1401, -0.5390],\n",
            "        [ 0.2424,  0.1149,  1.0844,  0.4411,  0.1844],\n",
            "        [ 0.4360, -0.5888,  0.3106, -0.0594,  0.5821],\n",
            "        [ 0.7289, -0.0840,  1.0525,  0.2247,  0.8019],\n",
            "        [-0.8291, -0.5849, -1.0960, -0.2560, -0.8256]])\n"
          ]
        }
      ]
    },
    {
      "cell_type": "code",
      "metadata": {
        "id": "g4OnVKj5AMSa",
        "colab": {
          "base_uri": "https://localhost:8080/"
        },
        "outputId": "29fee0d2-df8e-466e-f2d4-fab582665a47"
      },
      "source": [
        "y = torch.rand(5, 3)\n",
        "print(x + y)"
      ],
      "execution_count": null,
      "outputs": [
        {
          "output_type": "stream",
          "name": "stdout",
          "text": [
            "tensor([[-0.5497,  1.7893,  0.6868],\n",
            "        [-0.3208,  1.3220,  2.1799],\n",
            "        [ 1.5776, -1.2873,  1.3336],\n",
            "        [ 0.6011,  0.0357,  2.2423],\n",
            "        [-0.2669,  0.1705, -0.8588]])\n"
          ]
        }
      ]
    },
    {
      "cell_type": "markdown",
      "metadata": {
        "id": "dznbfngYAMSc"
      },
      "source": [
        "補足: 用例2\n",
        "\n"
      ]
    },
    {
      "cell_type": "code",
      "source": [
        "# print(torch.add(x, y))"
      ],
      "metadata": {
        "id": "NNLAh-gdeuYa",
        "outputId": "ffb71dfe-afe6-4847-c9ba-366c9ef85433",
        "colab": {
          "base_uri": "https://localhost:8080/"
        }
      },
      "execution_count": null,
      "outputs": [
        {
          "output_type": "stream",
          "name": "stdout",
          "text": [
            "tensor([[-0.5497,  1.7893,  0.6868],\n",
            "        [-0.3208,  1.3220,  2.1799],\n",
            "        [ 1.5776, -1.2873,  1.3336],\n",
            "        [ 0.6011,  0.0357,  2.2423],\n",
            "        [-0.2669,  0.1705, -0.8588]])\n"
          ]
        }
      ]
    },
    {
      "cell_type": "code",
      "metadata": {
        "id": "s_YL8Q8nAMSd",
        "colab": {
          "base_uri": "https://localhost:8080/"
        },
        "outputId": "ace04746-dd7a-46fb-d08f-64657b918828"
      },
      "source": [
        "print(torch.add(x, y))"
      ],
      "execution_count": null,
      "outputs": [
        {
          "output_type": "stream",
          "name": "stdout",
          "text": [
            "tensor([[-0.5497,  1.7893,  0.6868],\n",
            "        [-0.3208,  1.3220,  2.1799],\n",
            "        [ 1.5776, -1.2873,  1.3336],\n",
            "        [ 0.6011,  0.0357,  2.2423],\n",
            "        [-0.2669,  0.1705, -0.8588]])\n"
          ]
        }
      ]
    },
    {
      "cell_type": "markdown",
      "metadata": {
        "id": "UEjgcYv_AMSe"
      },
      "source": [
        "補足: 出力先を引数で指定 \n",
        "\n"
      ]
    },
    {
      "cell_type": "code",
      "source": [
        "# result = torch.empty(5, 3)\n",
        "# torch.add(x, y, out=result)\n",
        "# print(result)"
      ],
      "metadata": {
        "id": "ujkIzUYRey5c"
      },
      "execution_count": null,
      "outputs": []
    },
    {
      "cell_type": "code",
      "metadata": {
        "id": "PQCoVYYEAMSf",
        "colab": {
          "base_uri": "https://localhost:8080/"
        },
        "outputId": "79ec025f-8d4f-4e3e-812e-f7f1955aefab"
      },
      "source": [
        "result = torch.empty(5, 3)\n",
        "torch.add(x, y, out=result)\n",
        "print(result)"
      ],
      "execution_count": null,
      "outputs": [
        {
          "output_type": "stream",
          "name": "stdout",
          "text": [
            "tensor([[-0.5497,  1.7893,  0.6868],\n",
            "        [-0.3208,  1.3220,  2.1799],\n",
            "        [ 1.5776, -1.2873,  1.3336],\n",
            "        [ 0.6011,  0.0357,  2.2423],\n",
            "        [-0.2669,  0.1705, -0.8588]])\n"
          ]
        }
      ]
    },
    {
      "cell_type": "markdown",
      "metadata": {
        "id": "fIE94xsPAMSj"
      },
      "source": [
        "補足：テンソルそのものの変更（in-place：インプレース処理）\n",
        "\n"
      ]
    },
    {
      "cell_type": "code",
      "source": [
        "# y.add_(x)"
      ],
      "metadata": {
        "id": "9UYP0dOofAvB"
      },
      "execution_count": null,
      "outputs": []
    },
    {
      "cell_type": "code",
      "metadata": {
        "id": "ZF6MQ32FAMSk",
        "colab": {
          "base_uri": "https://localhost:8080/"
        },
        "outputId": "cfdfce82-0723-42af-fbbb-4245fd9cdae6"
      },
      "source": [
        "# adds x to y\n",
        "y.add_(x)\n",
        "print(y)"
      ],
      "execution_count": null,
      "outputs": [
        {
          "output_type": "stream",
          "name": "stdout",
          "text": [
            "tensor([[-0.5497,  1.7893,  0.6868],\n",
            "        [-0.3208,  1.3220,  2.1799],\n",
            "        [ 1.5776, -1.2873,  1.3336],\n",
            "        [ 0.6011,  0.0357,  2.2423],\n",
            "        [-0.2669,  0.1705, -0.8588]])\n"
          ]
        }
      ]
    },
    {
      "cell_type": "markdown",
      "metadata": {
        "id": "ltaptXLKAMSm"
      },
      "source": [
        "【メモ】\n",
        "\n",
        "メソッド名の後に``_``をつけることで、変数の内容を出力結果で置き換えることができます。\n",
        "\n",
        "例えば、``y.add_(x)``の場合xとyの値を加算した結果はyに上書きして、格納されます。"
      ]
    },
    {
      "cell_type": "markdown",
      "metadata": {
        "id": "9ylKCEeObFO8"
      },
      "source": [
        "NumPyと同様、インデクシングやスライシングを行うことも可能です。"
      ]
    },
    {
      "cell_type": "code",
      "source": [
        "# x.shape"
      ],
      "metadata": {
        "id": "Zu2n0kAdfLEJ",
        "outputId": "cb5e2e30-3549-40db-d4b8-6b46a5ec65ec",
        "colab": {
          "base_uri": "https://localhost:8080/"
        }
      },
      "execution_count": null,
      "outputs": [
        {
          "output_type": "execute_result",
          "data": {
            "text/plain": [
              "torch.Size([5, 3])"
            ]
          },
          "metadata": {},
          "execution_count": 53
        }
      ]
    },
    {
      "cell_type": "code",
      "metadata": {
        "id": "fSE80t58AMSm",
        "colab": {
          "base_uri": "https://localhost:8080/"
        },
        "outputId": "9c712c74-ff82-4559-9430-cd8580c20c92"
      },
      "source": [
        "print(x[:, 1])"
      ],
      "execution_count": null,
      "outputs": [
        {
          "output_type": "stream",
          "name": "stdout",
          "text": [
            "tensor([ 0.8970,  0.6298, -1.6032, -0.8734,  0.1195])\n"
          ]
        }
      ]
    },
    {
      "cell_type": "markdown",
      "metadata": {
        "id": "mp9zaxscAMSo"
      },
      "source": [
        "リサイズ: tensorの形を変えたい場合は ``torch.view``を使用してください:\n",
        "\n"
      ]
    },
    {
      "cell_type": "code",
      "source": [
        "# x = torch.randn(4, 4)\n",
        "# y = x.view(16)\n",
        "# z = x.view(-1, 8)\n",
        "# print(x.size(), y.size(), z.size())"
      ],
      "metadata": {
        "id": "WpO-qKe6fvAZ",
        "outputId": "793326a5-44ff-4636-8ec8-4eb0eab9be14",
        "colab": {
          "base_uri": "https://localhost:8080/"
        }
      },
      "execution_count": null,
      "outputs": [
        {
          "output_type": "stream",
          "name": "stdout",
          "text": [
            "torch.Size([4, 4]) torch.Size([16]) torch.Size([2, 8])\n"
          ]
        }
      ]
    },
    {
      "cell_type": "code",
      "metadata": {
        "id": "D0bTxzDvAMSo",
        "colab": {
          "base_uri": "https://localhost:8080/"
        },
        "outputId": "1a11afb2-97cd-4c80-9681-d12a37b489fd"
      },
      "source": [
        "x = torch.randn(4, 4)\n",
        "y = x.view(16)\n",
        "z = x.view(-1, 8)  #  -1を指定すると他に設定した次元の値から自動で計算\n",
        "print(x.size(), y.size(), z.size())"
      ],
      "execution_count": null,
      "outputs": [
        {
          "output_type": "stream",
          "name": "stdout",
          "text": [
            "torch.Size([4, 4]) torch.Size([16]) torch.Size([2, 8])\n"
          ]
        }
      ]
    },
    {
      "cell_type": "markdown",
      "metadata": {
        "id": "0IqvUIL6AMSq"
      },
      "source": [
        "``.item()``を使用すると、要素を1つしか持たないtensorから、中身の数値だけを取り出すことができます。\n"
      ]
    },
    {
      "cell_type": "code",
      "source": [
        "# x = torch.randn(1)\n",
        "# print(x)\n",
        "# x.item()"
      ],
      "metadata": {
        "id": "HgoQtzbggWZ9",
        "outputId": "af7a8079-7b9b-493b-ce94-25f7d6655a1c",
        "colab": {
          "base_uri": "https://localhost:8080/"
        }
      },
      "execution_count": null,
      "outputs": [
        {
          "output_type": "stream",
          "name": "stdout",
          "text": [
            "tensor([-0.1351])\n"
          ]
        },
        {
          "output_type": "execute_result",
          "data": {
            "text/plain": [
              "-0.13507966697216034"
            ]
          },
          "metadata": {},
          "execution_count": 68
        }
      ]
    },
    {
      "cell_type": "code",
      "metadata": {
        "id": "PB3tzjNzAMSr",
        "colab": {
          "base_uri": "https://localhost:8080/"
        },
        "outputId": "80c58024-6fe2-46ae-dad0-d9dd6640b611"
      },
      "source": [
        "x = torch.randn(1)\n",
        "print(x)\n",
        "print(x.item())"
      ],
      "execution_count": null,
      "outputs": [
        {
          "output_type": "stream",
          "name": "stdout",
          "text": [
            "tensor([-1.1100])\n",
            "-1.1099542379379272\n"
          ]
        }
      ]
    },
    {
      "cell_type": "markdown",
      "metadata": {
        "id": "tyOawt7EdfJx"
      },
      "source": [
        "**参考:**\n",
        "\n",
        "PyTorchでは、転置、インデックシング、スライシング、演算処理、線形代数、乱数生成などの100を超える機能が提供されています。\n",
        "\n",
        "詳しくは[こちらのページ](https://pytorch.org/docs/stable/torch.html)をご覧ください。"
      ]
    },
    {
      "cell_type": "markdown",
      "metadata": {
        "id": "CEj9q_ktAMSt"
      },
      "source": [
        "NumPyとの接続\n",
        "------------\n",
        "\n",
        "PyTorchではTorch TensorからNumPy Arrayへの変換やその逆を簡単に行うことできます。\n",
        "\n",
        "（Torch TensorがCPU上にある場合）Torch TensorとNumPy Arrayはメモリ上の同じ領域に配置され、変換することができます。\n",
        "\n"
      ]
    },
    {
      "cell_type": "markdown",
      "metadata": {
        "id": "BloXeu20gJS6"
      },
      "source": [
        "Torch Tensorから NumPy Arrayへの変換\n",
        "--------\n",
        "\n",
        "\n"
      ]
    },
    {
      "cell_type": "code",
      "metadata": {
        "id": "ISvp-esTAMSt",
        "colab": {
          "base_uri": "https://localhost:8080/"
        },
        "outputId": "77c9c206-ad2d-458a-c4e2-7db1ccc449fc"
      },
      "source": [
        "a = torch.ones(5)\n",
        "print(a)"
      ],
      "execution_count": null,
      "outputs": [
        {
          "output_type": "stream",
          "name": "stdout",
          "text": [
            "tensor([1., 1., 1., 1., 1.])\n"
          ]
        }
      ]
    },
    {
      "cell_type": "code",
      "source": [
        "# b = a.numpy()\n",
        "# print(b)"
      ],
      "metadata": {
        "id": "oAJ6tUuDgm_0",
        "outputId": "5f7c5227-12ba-474a-91cc-c972af795787",
        "colab": {
          "base_uri": "https://localhost:8080/"
        }
      },
      "execution_count": null,
      "outputs": [
        {
          "output_type": "stream",
          "name": "stdout",
          "text": [
            "[1. 1. 1. 1. 1.]\n"
          ]
        }
      ]
    },
    {
      "cell_type": "code",
      "metadata": {
        "id": "mLkdbh4kAMSw",
        "colab": {
          "base_uri": "https://localhost:8080/"
        },
        "outputId": "9fbaf802-c659-4ea0-942b-f27c0e620eaa"
      },
      "source": [
        "b = a.numpy()\n",
        "print(b)"
      ],
      "execution_count": null,
      "outputs": [
        {
          "output_type": "stream",
          "name": "stdout",
          "text": [
            "[1. 1. 1. 1. 1.]\n"
          ]
        }
      ]
    },
    {
      "cell_type": "markdown",
      "metadata": {
        "id": "HAlxNlTbAMSz"
      },
      "source": [
        "メモリを共有しているため、Torch Tensorの値がNumPy Arrayにも反映されることが分かります。\n",
        "\n"
      ]
    },
    {
      "cell_type": "code",
      "metadata": {
        "id": "PkcVVOa8AMSz",
        "colab": {
          "base_uri": "https://localhost:8080/"
        },
        "outputId": "ffb08a07-1a88-49bc-f14b-93015a0acb84"
      },
      "source": [
        "a.add_(1)\n",
        "print(a)\n",
        "print(b)"
      ],
      "execution_count": null,
      "outputs": [
        {
          "output_type": "stream",
          "name": "stdout",
          "text": [
            "tensor([2., 2., 2., 2., 2.])\n",
            "[2. 2. 2. 2. 2.]\n"
          ]
        }
      ]
    },
    {
      "cell_type": "markdown",
      "metadata": {
        "id": "ySjxVQRgAMS1"
      },
      "source": [
        "NumPy ArrayからTorch Tensorへの変換\n",
        "---------\n",
        "\n",
        "NumPy ArrayからTorch Tensorへの変換も、容易に可能です。\n",
        "\n"
      ]
    },
    {
      "cell_type": "code",
      "metadata": {
        "id": "26bv0CakAMS2",
        "colab": {
          "base_uri": "https://localhost:8080/"
        },
        "outputId": "254e8913-bb21-4431-b96b-db1904a35c69"
      },
      "source": [
        "import numpy as np\n",
        "a = np.ones(5)\n",
        "b = torch.from_numpy(a)\n",
        "np.add(a, 1, out=a)\n",
        "print(a)\n",
        "print(b)"
      ],
      "execution_count": null,
      "outputs": [
        {
          "output_type": "stream",
          "name": "stdout",
          "text": [
            "[2. 2. 2. 2. 2.]\n",
            "tensor([2., 2., 2., 2., 2.], dtype=torch.float64)\n"
          ]
        }
      ]
    },
    {
      "cell_type": "markdown",
      "metadata": {
        "id": "u1HZ1yg4AMS4"
      },
      "source": [
        "CharTensorを除き、CPU上のすべてのTensorはNumPyへの変換、およびその逆（NumpyからTensor）に対応しています。\n"
      ]
    },
    {
      "cell_type": "markdown",
      "metadata": {
        "id": "ekIwcDFzY8i1"
      },
      "source": [
        "CUDA Tensors（CUDA テンソル）\n",
        "------------\n",
        "\n",
        "tensorは ``.to`` メソッドを使用することであらゆるデバイス上のメモリへと移動させることができます。"
      ]
    },
    {
      "cell_type": "code",
      "metadata": {
        "id": "2STSTspeAMS4",
        "colab": {
          "base_uri": "https://localhost:8080/"
        },
        "outputId": "4ed85fcc-056f-4b45-cd69-0ce6cdc93f63"
      },
      "source": [
        "# let us run this cell only if CUDA is available\n",
        "# We will use ``torch.device`` objects to move tensors in and out of GPU\n",
        "if torch.cuda.is_available():\n",
        "    device = torch.device(\"cuda\")          # a CUDA device object\n",
        "    y = torch.ones_like(x, device=device)  # directly create a tensor on GPU\n",
        "    x = x.to(device)                       # or just use strings ``.to(\"cuda\")``\n",
        "    z = x + y\n",
        "    print(z)\n",
        "    print(z.to(\"cpu\", torch.double))       # ``.to`` can also change dtype together!\n",
        "\n",
        "\n",
        "# 日本語訳注：\n",
        "# tensor([1.8299], device='cuda:0')\n",
        "# tensor([1.8299], dtype=torch.float64)\n",
        "# のような出力（値は変わります）がセルのあとに表示されれば、GPUでのCUDAでのテンソル計算が成功しています。\n",
        "# もし、何も表示されなければ、Google ColaroboratoryがGPU使用モードになっていないので、\n",
        "# 下のセルの説明を読んで、GPUを使用可能な状態にしてみてください。"
      ],
      "execution_count": null,
      "outputs": [
        {
          "output_type": "stream",
          "name": "stdout",
          "text": [
            "tensor([-0.1100], device='cuda:0')\n",
            "tensor([-0.1100], dtype=torch.float64)\n"
          ]
        }
      ]
    },
    {
      "cell_type": "markdown",
      "metadata": {
        "id": "wnzN5tsWMCZa"
      },
      "source": [
        "（日本語訳注）\n",
        "\n",
        "Google ColaboratoryでCUDA、すなわちGPUを使用可能にするには、上部メニューの「ランタイム」を選択し、「ランタイムのタイプを変更」で、「ハードウェア アクセラレータ」にGPUを選択します。\n",
        "\n",
        "\n",
        "上記で、現在のランタイムの環境を確認し、GPUでなければ、GPUに設定して、上記セルを実行してみてください。"
      ]
    }
  ]
}