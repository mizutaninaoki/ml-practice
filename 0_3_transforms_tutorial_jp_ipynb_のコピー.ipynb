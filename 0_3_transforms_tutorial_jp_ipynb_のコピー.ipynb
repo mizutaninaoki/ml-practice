{
  "nbformat": 4,
  "nbformat_minor": 0,
  "metadata": {
    "kernelspec": {
      "display_name": "Python 3",
      "language": "python",
      "name": "python3"
    },
    "language_info": {
      "codemirror_mode": {
        "name": "ipython",
        "version": 3
      },
      "file_extension": ".py",
      "mimetype": "text/x-python",
      "name": "python",
      "nbconvert_exporter": "python",
      "pygments_lexer": "ipython3",
      "version": "3.6.12"
    },
    "colab": {
      "provenance": [],
      "collapsed_sections": [],
      "toc_visible": true
    }
  },
  "cells": [
    {
      "cell_type": "markdown",
      "metadata": {
        "id": "PMOmP3I8-bfQ"
      },
      "source": [
        "「PyTorch入門  3. Transform」\n",
        "===============================================================\n",
        "【原題】TRANSFORMS\n",
        "\n",
        "【原著】\n",
        "[Suraj Subramanian](https://github.com/suraj813)、[Seth Juarez](https://github.com/sethjuarez/) 、[Cassie Breviu](https://github.com/cassieview/) 、[Dmitry Soshnikov](https://soshnikov.com/)、[Ari Bornstein](https://github.com/aribornstein/) \n",
        "\n",
        "\n",
        "【元URL】https://pytorch.org/tutorials/beginner/basics/transforms_tutorial.html\n",
        "\n",
        "【翻訳】電通国際情報サービスISID AIトランスフォーメーションセンター　小川 雄太郎\n",
        "\n",
        "【日付】2021年03月20日\n",
        "\n",
        "【チュトーリアル概要】\n",
        "\n",
        "本チュートリアルでは、PyTorchのデータ変換処理であるTransformについて解説を行います。\n",
        "\n",
        "---\n"
      ]
    },
    {
      "cell_type": "markdown",
      "metadata": {
        "id": "QLdNIV876HsA"
      },
      "source": [
        "Transforms\n",
        "===================\n",
        "\n",
        "機械学習アルゴリズムの学習に必要な、最終的な処理が施された形でデータが手に入るとは限りません。\n",
        "\n",
        "そこで**transform**を使用してデータに何らかの処理を行い、学習に適した形へと変換します。\n",
        "\n"
      ]
    },
    {
      "cell_type": "markdown",
      "metadata": {
        "id": "-bXmB29S_KOB"
      },
      "source": [
        "TorchVisionの全データセットには、特徴量（データ）を変換処理するための``transform``と、ラベルを変換処理するための``target_transform``という2つのパラメータがあります。\n",
        "\n",
        "さらに、変換ロジックを記載した callable を受け取ります。\n",
        "\n",
        "\n",
        "\n",
        "[`torchvision.transforms`](https://pytorch.org/docs/stable/torchvision/transforms.html)モジュールは、一般的に頻繁に使用される変換を提供しています。\n"
      ]
    },
    {
      "cell_type": "markdown",
      "metadata": {
        "id": "rH4QzO7o_oir"
      },
      "source": [
        "FashionMNISTデータセットの特徴量はPIL形式の画像であり、ラベルはint型です。\n",
        "\n",
        "訓練では、正規化された特徴量テンソルと、ワンホットエンコーディングされたラベルテンソルが必要となります。\n",
        "\n",
        "これらのデータを作るために、``ToTensor`` と ``Lambda``を使用します。\n",
        "\n"
      ]
    },
    {
      "cell_type": "code",
      "metadata": {
        "id": "OiyAblVV6Hr6"
      },
      "source": [
        "%matplotlib inline"
      ],
      "execution_count": null,
      "outputs": []
    },
    {
      "cell_type": "code",
      "source": [
        "# import torch\n",
        "# from torchvision import datasets\n",
        "# from torchvision.transforms import ToTensor, Lambda\n",
        "\n",
        "# ds = datasets.FashionMNIST(\n",
        "#     root='data',\n",
        "#     train=True,\n",
        "#     download=True,\n",
        "#     transform=ToTensor(),\n",
        "#     target_transform=Lambda(lambda y: torch.zeros(10, dtype=torch.float).scatter_(0, torch.tensor(y), value=1))\n",
        "# )\n",
        "\n",
        "# aaa = Lambda(lambda y: torch.zeros(10, dtype=torch.float).scatter_(0, torch.tensor(y), value=1))\n",
        "# aaa\n",
        "# mmm = lambda y: torch.zeros(10, dtype=torch.float).scatter_(0, torch.tensor(y), value=6)\n",
        "# mmm(8)\n",
        "# # torch.tensor(1)"
      ],
      "metadata": {
        "id": "YXXztyCdWanu",
        "outputId": "4011e0c4-83b2-43ab-e705-214c760164c4",
        "colab": {
          "base_uri": "https://localhost:8080/"
        }
      },
      "execution_count": null,
      "outputs": [
        {
          "output_type": "execute_result",
          "data": {
            "text/plain": [
              "tensor([0., 0., 0., 0., 0., 0., 0., 0., 6., 0.])"
            ]
          },
          "metadata": {},
          "execution_count": 17
        }
      ]
    },
    {
      "cell_type": "code",
      "metadata": {
        "id": "I1R-Le126HsA"
      },
      "source": [
        "import torch\n",
        "from torchvision import datasets\n",
        "from torchvision.transforms import ToTensor, Lambda\n",
        "\n",
        "ds = datasets.FashionMNIST(\n",
        "    root=\"data\",\n",
        "    train=True,\n",
        "    download=True,\n",
        "    transform=ToTensor(),\n",
        "    target_transform=Lambda(lambda y: torch.zeros(10, dtype=torch.float).scatter_(0, torch.tensor(y), value=1))\n",
        ")"
      ],
      "execution_count": null,
      "outputs": []
    },
    {
      "cell_type": "markdown",
      "metadata": {
        "id": "j8KOufVdudbA"
      },
      "source": [
        "---\n",
        "\n"
      ]
    },
    {
      "cell_type": "markdown",
      "metadata": {
        "id": "O4VboPaL6HsB"
      },
      "source": [
        "ToTensor()\n",
        "-------------------------------\n",
        "\n",
        "[`ToTensor`](https://pytorch.org/docs/stable/torchvision/transforms.html#torchvision.transforms.ToTensor)はPIL形式の画像、もしくはNumpyの``ndarray``を、``FloatTensor``に変換します。\n",
        "\n",
        "<br>\n",
        "加えて、画像の場合にはピクセルごとの値を [0., 1.]の範囲に変換します。\n",
        "\n",
        "\n"
      ]
    },
    {
      "cell_type": "markdown",
      "metadata": {
        "id": "DIIScz7j6HsB"
      },
      "source": [
        "Lambda Transforms\n",
        "-------------------------------\n",
        "\n",
        "Lambda transformsは、ユーザーが定義した関数を実行するPython関数です。\n",
        "\n",
        "本チュートリアルではint型のデータを、ワンホットエンコーディングしたテンソルへと変換しています。\n",
        "\n",
        "<br>\n",
        "\n",
        "最初に大きさ10のゼロテンソルを作成し（10はクラス数に対応）、[`scatter_`](https://pytorch.org/docs/stable/tensors.html#torch.Tensor.scatter_) を用いて、ラベル``y``の値のindexのみ1のワンホットエンコーディングに変換しています。\n",
        "\n"
      ]
    },
    {
      "cell_type": "code",
      "metadata": {
        "id": "NTnRQmxN6HsC"
      },
      "source": [
        "target_transform = Lambda(lambda y: torch.zeros(\n",
        "    10, dtype=torch.float).scatter_(dim=0, index=torch.tensor(y), value=1))"
      ],
      "execution_count": null,
      "outputs": []
    },
    {
      "cell_type": "markdown",
      "metadata": {
        "id": "Lj3MCYZa6HsC"
      },
      "source": [
        "--------------\n",
        "\n",
        "\n"
      ]
    },
    {
      "cell_type": "markdown",
      "metadata": {
        "id": "PBsKH4S96HsC"
      },
      "source": [
        "さらなる詳細\n",
        "--------------\n",
        "以下のページも参考ください。\n",
        "\n",
        "\n",
        "- [`torchvision.transforms API`](https://pytorch.org/vision/stable/transforms.html)\n",
        "\n"
      ]
    },
    {
      "cell_type": "markdown",
      "metadata": {
        "id": "17u5CZ7nBTzL"
      },
      "source": [
        "以上。"
      ]
    }
  ]
}