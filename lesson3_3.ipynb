{
  "cells": [
    {
      "cell_type": "code",
      "execution_count": 1,
      "metadata": {
        "id": "-DUwFYPKRTJF"
      },
      "outputs": [],
      "source": [
        "%matplotlib inline\n",
        "\n",
        "from scipy.io import arff\n",
        "import numpy as np\n",
        "\n",
        "dataset, meta = arff.loadarff('/content/drive/MyDrive/ECG5000/ECG5000_TRAIN.arff')\n",
        "# dataset, meta = arff.loadarff('/content/drive/MyDrive/ECG5000/ECG5000_TEST.arff')\n",
        "\n",
        "ds = np.asarray(dataset.tolist(), dtype=np.float32)\n",
        "x_dataset = ds[:, :140]\n",
        "y_dataset = np.asarray(ds[:, -1].tolist(), dtype=np.int8)"
      ]
    },
    {
      "cell_type": "code",
      "source": [
        "from tensorflow.keras import optimizers\n",
        "\n",
        "sgd = optimizers.SGD(lr=0.01, clipnorm=1.)    # clipnormは勾配の2乗ノルムの最大値を制限する\n",
        "sgd2 = optimizers.SGD(lr=0.01, clipvalue=1.)  # clipvalueは勾配の\"要素\"の絶対値の大きさを制限する\n",
        "# clipnormの方が勾配の方向を変えないという利点があるが、経験的にはどちらの振る舞いも大差ない\n",
        "\n",
        "ada = optimizers.Adagrad(lr=0.01, clipnorm=1.)# SGDに限らずすべてのoptimizerで指定可能"
      ],
      "metadata": {
        "colab": {
          "base_uri": "https://localhost:8080/"
        },
        "id": "Xdnd-0TTbra1",
        "outputId": "59a624b1-0e18-47b5-8607-e4ebf1f46462"
      },
      "execution_count": 23,
      "outputs": [
        {
          "output_type": "stream",
          "name": "stderr",
          "text": [
            "/usr/local/lib/python3.7/dist-packages/keras/optimizer_v2/gradient_descent.py:102: UserWarning: The `lr` argument is deprecated, use `learning_rate` instead.\n",
            "  super(SGD, self).__init__(name, **kwargs)\n",
            "/usr/local/lib/python3.7/dist-packages/keras/optimizer_v2/adagrad.py:74: UserWarning: The `lr` argument is deprecated, use `learning_rate` instead.\n",
            "  super(Adagrad, self).__init__(name, **kwargs)\n"
          ]
        }
      ]
    },
    {
      "cell_type": "code",
      "source": [
        ""
      ],
      "metadata": {
        "id": "0zCSEo1lbrcu"
      },
      "execution_count": 4,
      "outputs": []
    },
    {
      "cell_type": "code",
      "source": [
        ""
      ],
      "metadata": {
        "id": "ZHMJPSHebrf4"
      },
      "execution_count": 4,
      "outputs": []
    }
  ],
  "metadata": {
    "accelerator": "GPU",
    "colab": {
      "collapsed_sections": [],
      "name": "lesson3-3",
      "provenance": [],
      "mount_file_id": "1icy6ktlHyEjWqB9ib9eKXwt1RoFbiUuQ",
      "authorship_tag": "ABX9TyOZ9u0+hA/9bfEMv+xU32W4"
    },
    "gpuClass": "standard",
    "kernelspec": {
      "display_name": "Python 3",
      "name": "python3"
    },
    "language_info": {
      "name": "python"
    }
  },
  "nbformat": 4,
  "nbformat_minor": 0
}