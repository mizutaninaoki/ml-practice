{
  "nbformat": 4,
  "nbformat_minor": 5,
  "metadata": {
    "kernelspec": {
      "display_name": "Python 3",
      "language": "python",
      "name": "python3"
    },
    "language_info": {
      "codemirror_mode": {
        "name": "ipython",
        "version": 3
      },
      "file_extension": ".py",
      "mimetype": "text/x-python",
      "name": "python",
      "nbconvert_exporter": "python",
      "pygments_lexer": "ipython3",
      "version": "3.8.5"
    },
    "colab": {
      "name": "JupyterNotebookでのdebug入門.ipynb",
      "provenance": [],
      "collapsed_sections": []
    }
  },
  "cells": [
    {
      "cell_type": "markdown",
      "metadata": {
        "id": "JQiCyIAb-Auz"
      },
      "source": [
        "# `ドライブにコピー` をクリックしてNotebookのコピーを作ってください"
      ],
      "id": "JQiCyIAb-Auz"
    },
    {
      "cell_type": "markdown",
      "metadata": {
        "id": "8a9bd03b"
      },
      "source": [
        "# Overview\n",
        "- 上から順に実行していけば学べるようになっています。\n",
        "- 分析コンペLT会#3 の発表資料の一つ。\n",
        "- 「Jupyter Notebook」 × 「debug」 がテーマ。\n",
        "- このノートブックでは、 `pdb`, `%debug` を学びます。\n",
        "- pdbの詳細は、[Pythonの公式ドキュメント](https://docs.python.org/ja/3/library/pdb.html) より。"
      ],
      "id": "8a9bd03b"
    },
    {
      "cell_type": "markdown",
      "metadata": {
        "id": "ca83bd61"
      },
      "source": [
        "# Import"
      ],
      "id": "ca83bd61"
    },
    {
      "cell_type": "code",
      "metadata": {
        "id": "a7517cca"
      },
      "source": [
        "# デバッガ\n",
        "from pdb import set_trace as st\n",
        "# from ipdb import set_trace as st  # <--- ipdb がインストールされているならこっちが良いかも。(キレイ)\n",
        "\n",
        "import numpy as np\n",
        "from scipy.spatial import distance\n",
        "import matplotlib.pyplot as plt"
      ],
      "id": "a7517cca",
      "execution_count": 1,
      "outputs": []
    },
    {
      "cell_type": "markdown",
      "metadata": {
        "id": "0667d28e"
      },
      "source": [
        "# 　pdb を学ぶ\n",
        "`pdb` は Python の公式デバッガで、Pyhton3をインストールすると一緒についてきます。  \n",
        "つまり追加のインストールなどは不要。  \n",
        "さっそく使ってみましょう。  \n",
        "簡単な例として以下に、簡単なclassを作ってみました。  "
      ],
      "id": "0667d28e"
    },
    {
      "cell_type": "code",
      "metadata": {
        "id": "0d6492d0"
      },
      "source": [
        "class keisanki:\n",
        "    def __init__(self):\n",
        "        self.seinou = 'chou kouseinou'\n",
        "    \n",
        "    def tashizan(self, a, b):\n",
        "        return a + b\n",
        "    \n",
        "    def hikizan(self, a, b):\n",
        "        return a - b\n",
        "    \n",
        "    def kakezan(self, a, b):\n",
        "        return a * b\n",
        "    \n",
        "    def warizan(self, a, b):\n",
        "        return a / b\n",
        "    \n",
        "    def goukei(self, arr):\n",
        "        for num in arr:\n",
        "            goukei = 0\n",
        "            goukei = self.tashizan(goukei, num)\n",
        "        return goukei\n",
        "    \n",
        "    def heikin(self, arr):\n",
        "        goukei = self.goukei(arr)\n",
        "        return goukei / len(arr)"
      ],
      "id": "0d6492d0",
      "execution_count": 2,
      "outputs": []
    },
    {
      "cell_type": "code",
      "metadata": {
        "id": "ab76221c",
        "outputId": "fec7399a-f04c-4d43-a2fc-62f31bee66e0",
        "colab": {
          "base_uri": "https://localhost:8080/"
        }
      },
      "source": [
        "keisan = keisanki()\n",
        "print(keisan.seinou)"
      ],
      "id": "ab76221c",
      "execution_count": 3,
      "outputs": [
        {
          "output_type": "stream",
          "name": "stdout",
          "text": [
            "chou kouseinou\n"
          ]
        }
      ]
    },
    {
      "cell_type": "markdown",
      "metadata": {
        "id": "cf49add9"
      },
      "source": [
        "## サイコロの平均値を求めてみる"
      ],
      "id": "cf49add9"
    },
    {
      "cell_type": "code",
      "metadata": {
        "id": "e141c673",
        "outputId": "3ca188ac-122b-459d-a774-c68a0763e8ad",
        "colab": {
          "base_uri": "https://localhost:8080/"
        }
      },
      "source": [
        "arr_saikoro = [1, 2, 3, 4, 5, 6]\n",
        "keisan.heikin(arr_saikoro)"
      ],
      "id": "e141c673",
      "execution_count": 4,
      "outputs": [
        {
          "output_type": "execute_result",
          "data": {
            "text/plain": [
              "1.0"
            ]
          },
          "metadata": {},
          "execution_count": 4
        }
      ]
    },
    {
      "cell_type": "markdown",
      "metadata": {
        "id": "b5067b10"
      },
      "source": [
        "---> あれ、おかしい。3.5になるはず。\n",
        "\n",
        "<br>\n",
        "\n",
        "ということでデバッグしてみます。  \n",
        "keisanki class の `heikin` メソッドの中に `goukei` メソッド が使われています。  \n",
        "これが怪しい気がするので見てみることにします。  \n",
        "(よくある状況ですよね。hoge class の 中の Aメソッドの中のBメソッドの中の...........)  \n",
        "デバッガはNotebook上部に、`from pdb import set_trace as st` とすでに用意してあります。  \n",
        "細かい説明をするより動かした方が早いと思うので早速使ってみます。  \n",
        "下記のように `goukei` の中に `st()` を忍び込ませています。  \n",
        "それでは実行してみましょう。"
      ],
      "id": "b5067b10"
    },
    {
      "cell_type": "code",
      "metadata": {
        "id": "feb81624"
      },
      "source": [
        "class keisanki:\n",
        "    def __init__(self):\n",
        "        self.seinou = 'chou kouseinou'\n",
        "    \n",
        "    def show_count(self):\n",
        "        print(self.count)\n",
        "    \n",
        "    def tashizan(self, a, b):\n",
        "        return a + b\n",
        "    \n",
        "    def hikizan(self, a, b):\n",
        "        return a - b\n",
        "    \n",
        "    def kakezan(self, a, b):\n",
        "        return a * b\n",
        "    \n",
        "    def warizan(self, a, b):\n",
        "        return a / b\n",
        "    \n",
        "    def goukei(self, arr):\n",
        "        st()  # <----------- これ！\n",
        "        for num in arr:\n",
        "            goukei = 0\n",
        "            goukei = self.tashizan(goukei, num)\n",
        "        return goukei\n",
        "    \n",
        "    def heikin(self, arr):\n",
        "        goukei = self.goukei(arr)\n",
        "        return goukei / len(arr)"
      ],
      "id": "feb81624",
      "execution_count": 5,
      "outputs": []
    },
    {
      "cell_type": "code",
      "metadata": {
        "id": "d80fe871",
        "outputId": "8cd3fe87-ccf2-411d-950a-a41c72f53243",
        "colab": {
          "base_uri": "https://localhost:8080/"
        }
      },
      "source": [
        "keisan = keisanki()\n",
        "print(keisan.seinou)"
      ],
      "id": "d80fe871",
      "execution_count": 6,
      "outputs": [
        {
          "output_type": "stream",
          "name": "stdout",
          "text": [
            "chou kouseinou\n"
          ]
        }
      ]
    },
    {
      "cell_type": "markdown",
      "metadata": {
        "id": "ababb576"
      },
      "source": [
        "<br>  \n",
        "\n",
        "下のセルを実行するとテキストボックスが出てきます。  \n",
        "以下の順番で操作してください。  \n",
        "(コマンド入力後にEnterを押してください)  \n",
        "(わけわからなくなったら `q` で終了することができます)\n",
        "\n",
        "1. `l`: （エルです）現在位置の前後 5行 が見れます。 (どこにいるかわからなくなったらとりあえずこれ)\n",
        "2. `ll`: (エルエルです)現在位置の関数全体が見えます。\n",
        "3. `p arr`: print(arr) と同じ。arrは意図通り入力されているようです。次はfor文の中に進んでいきましょう。\n",
        "4. `n`: next。 `->` が22行目から23行目に移動しているのがわかります。\n",
        "5. `p goukei`: 23行目に居ますが、実行はされていない状態ですので `NameError: name 'goukei' is not defined` と出力されます。もう一度 `n` をしてみましょう。  \n",
        "6. `n`: next。\n",
        "7. `p goukei`: goukei変数に格納された値が表示されるはずです。  \n",
        "8. `n`: next。 tashizan を実行します。カーソルはfor分の一番上にあるはずです。  \n",
        "9. `p goukei`: 1と表示されました。24行目を実行する度にこの `p goukei` が1+2+3+...と大きくなっていくはずです。`n` を多用してfor文をすすめることもできますが面倒です。そのため、break point を使いたいと思います。  \n",
        "10. `b 22`: break point を22行目に置く。\n",
        "11. `c`: continue。break pointを置いたところまで進みます。今回の場合、for文が一周回って22行目に戻ってくることになります。  \n",
        "12. `p goukei`: 1と表示されるはずです。  \n",
        "13. 何度か `c`-->`p goukei` を繰り返せばforループによる `goukei` の変化を見れるはずです。もうお分かりでしょうが `goukei = 0` が for文の中にあるために意図通りの挙動になっていません。  \n",
        "14. `q`: quit。"
      ],
      "id": "ababb576"
    },
    {
      "cell_type": "code",
      "metadata": {
        "id": "bcb2bdc7",
        "outputId": "55dfbaf3-4e3b-4ac0-bafd-f59279102255",
        "colab": {
          "base_uri": "https://localhost:8080/"
        }
      },
      "source": [
        "arr_saikoro = [1, 2, 3, 4, 5, 6]\n",
        "keisan.heikin(arr_saikoro)"
      ],
      "id": "bcb2bdc7",
      "execution_count": 12,
      "outputs": [
        {
          "name": "stdout",
          "output_type": "stream",
          "text": [
            "> <ipython-input-8-d78fe5199c50>(22)goukei()\n",
            "-> goukei = 0  # <-------- forループの外に出した。\n",
            "(Pdb) l\n",
            " 17  \t    def warizan(self, a, b):\n",
            " 18  \t        return a / b\n",
            " 19  \t\n",
            " 20  \t    def goukei(self, arr):\n",
            " 21  \t        st()  # <----------- これ！\n",
            " 22  ->\t        goukei = 0  # <-------- forループの外に出した。\n",
            " 23  \t        for num in arr:\n",
            " 24  \t            goukei = self.tashizan(goukei, num)\n",
            " 25  \t        return goukei\n",
            " 26  \t\n",
            " 27  \t    def heikin(self, arr):\n",
            "(Pdb) ll\n",
            " 20  \t    def goukei(self, arr):\n",
            " 21  \t        st()  # <----------- これ！\n",
            " 22  ->\t        goukei = 0  # <-------- forループの外に出した。\n",
            " 23  \t        for num in arr:\n",
            " 24  \t            goukei = self.tashizan(goukei, num)\n",
            " 25  \t        return goukei\n",
            "(Pdb) p arr\n",
            "[1, 2, 3, 4, 5, 6]\n",
            "(Pdb) arr\n",
            "[1, 2, 3, 4, 5, 6]\n",
            "(Pdb) n\n",
            "> <ipython-input-8-d78fe5199c50>(23)goukei()\n",
            "-> for num in arr:\n",
            "(Pdb) goukei\n",
            "0\n",
            "(Pdb) n\n",
            "> <ipython-input-8-d78fe5199c50>(24)goukei()\n",
            "-> goukei = self.tashizan(goukei, num)\n",
            "(Pdb) goukei\n",
            "0\n",
            "(Pdb) p goukei\n",
            "0\n",
            "(Pdb) n\n",
            "> <ipython-input-8-d78fe5199c50>(23)goukei()\n",
            "-> for num in arr:\n",
            "(Pdb) goukei\n",
            "1\n",
            "(Pdb) n\n",
            "> <ipython-input-8-d78fe5199c50>(24)goukei()\n",
            "-> goukei = self.tashizan(goukei, num)\n",
            "(Pdb) goukei\n",
            "1\n",
            "(Pdb) n\n",
            "> <ipython-input-8-d78fe5199c50>(23)goukei()\n",
            "-> for num in arr:\n",
            "(Pdb) goukei\n",
            "3\n",
            "(Pdb) b 22\n",
            "Breakpoint 1 at <ipython-input-8-d78fe5199c50>:22\n",
            "(Pdb) c\n"
          ]
        },
        {
          "output_type": "execute_result",
          "data": {
            "text/plain": [
              "3.5"
            ]
          },
          "metadata": {},
          "execution_count": 12
        }
      ]
    },
    {
      "cell_type": "markdown",
      "metadata": {
        "id": "bc2f4fb0"
      },
      "source": [
        "<br>  \n",
        " \n",
        "原因がわかったので修正"
      ],
      "id": "bc2f4fb0"
    },
    {
      "cell_type": "code",
      "metadata": {
        "id": "aa8f033a"
      },
      "source": [
        "class keisanki:\n",
        "    def __init__(self):\n",
        "        self.seinou = 'chou kouseinou'\n",
        "    \n",
        "    def show_count(self):\n",
        "        print(self.count)\n",
        "    \n",
        "    def tashizan(self, a, b):\n",
        "        return a + b\n",
        "    \n",
        "    def hikizan(self, a, b):\n",
        "        return a - b\n",
        "    \n",
        "    def kakezan(self, a, b):\n",
        "        return a * b\n",
        "    \n",
        "    def warizan(self, a, b):\n",
        "        return a / b\n",
        "    \n",
        "    def goukei(self, arr):\n",
        "        st()  # <----------- これ！\n",
        "        goukei = 0  # <-------- forループの外に出した。\n",
        "        for num in arr:\n",
        "            goukei = self.tashizan(goukei, num)\n",
        "        return goukei\n",
        "    \n",
        "    def heikin(self, arr):\n",
        "        goukei = self.goukei(arr)\n",
        "        return goukei / len(arr)"
      ],
      "id": "aa8f033a",
      "execution_count": 13,
      "outputs": []
    },
    {
      "cell_type": "code",
      "metadata": {
        "id": "9210e8e4",
        "outputId": "5017421a-3f48-4702-849d-7a8a42b910a0",
        "colab": {
          "base_uri": "https://localhost:8080/"
        }
      },
      "source": [
        "keisan = keisanki()\n",
        "print(keisan.seinou)"
      ],
      "id": "9210e8e4",
      "execution_count": 14,
      "outputs": [
        {
          "output_type": "stream",
          "name": "stdout",
          "text": [
            "chou kouseinou\n"
          ]
        }
      ]
    },
    {
      "cell_type": "markdown",
      "metadata": {
        "id": "871e7b58"
      },
      "source": [
        "<br>   \n",
        "\n",
        "\n",
        "もう一度pdb\n",
        "\n",
        "1. `l`: 23行目がfor文の頭なので、そこにbreak pointを置きましょう。\n",
        "2. `b 23`: 23行目にbreak point。\n",
        "3. 後は、 `c`-->`p goukei` を何度か繰り返して`goukei`の変化を確認します。  \n",
        "4. これで以上です。後は少し他の機能も紹介します。  \n",
        "5. `h`: 使えるコマンド一覧です。(たくさん出てきますがよく使うのは限られています。必要になれば調べるとかで良いと思います。)  \n",
        "6. `cl`: `cl 1` で1番目のbreak pointを削除します(行数ではないことに注意)。 `cl`だとすべてのbreak pointを削除します。"
      ],
      "id": "871e7b58"
    },
    {
      "cell_type": "code",
      "metadata": {
        "id": "bc046e97",
        "outputId": "16eb2a85-5915-46b7-9453-24f420789f7f",
        "colab": {
          "base_uri": "https://localhost:8080/",
          "height": 1000
        }
      },
      "source": [
        "arr_saikoro = [1, 2, 3, 4, 5, 6]\n",
        "keisan.heikin(arr_saikoro)"
      ],
      "id": "bc046e97",
      "execution_count": 15,
      "outputs": [
        {
          "name": "stdout",
          "output_type": "stream",
          "text": [
            "> <ipython-input-13-d78fe5199c50>(22)goukei()\n",
            "-> goukei = 0  # <-------- forループの外に出した。\n",
            "(Pdb) l\n",
            " 17  \t    def warizan(self, a, b):\n",
            " 18  \t        return a / b\n",
            " 19  \t\n",
            " 20  \t    def goukei(self, arr):\n",
            " 21  \t        st()  # <----------- これ！\n",
            " 22  ->\t        goukei = 0  # <-------- forループの外に出した。\n",
            " 23  \t        for num in arr:\n",
            " 24  \t            goukei = self.tashizan(goukei, num)\n",
            " 25  \t        return goukei\n",
            " 26  \t\n",
            " 27  \t    def heikin(self, arr):\n",
            "(Pdb) b 23\n",
            "Breakpoint 2 at <ipython-input-13-d78fe5199c50>:23\n",
            "(Pdb) goukei\n",
            "*** NameError: name 'goukei' is not defined\n",
            "(Pdb) p goukei\n",
            "*** NameError: name 'goukei' is not defined\n",
            "(Pdb) c\n",
            "> <ipython-input-13-d78fe5199c50>(23)goukei()\n",
            "-> for num in arr:\n",
            "(Pdb) goukei\n",
            "0\n",
            "(Pdb) c\n",
            "> <ipython-input-13-d78fe5199c50>(23)goukei()\n",
            "-> for num in arr:\n",
            "(Pdb) goukei\n",
            "1\n",
            "(Pdb) c\n",
            "> <ipython-input-13-d78fe5199c50>(23)goukei()\n",
            "-> for num in arr:\n",
            "(Pdb) goukei\n",
            "3\n",
            "(Pdb) h\n",
            "\n",
            "Documented commands (type help <topic>):\n",
            "========================================\n",
            "EOF    c          d        h         list      q        rv       undisplay\n",
            "a      cl         debug    help      ll        quit     s        unt      \n",
            "alias  clear      disable  ignore    longlist  r        source   until    \n",
            "args   commands   display  interact  n         restart  step     up       \n",
            "b      condition  down     j         next      return   tbreak   w        \n",
            "break  cont       enable   jump      p         retval   u        whatis   \n",
            "bt     continue   exit     l         pp        run      unalias  where    \n",
            "\n",
            "Miscellaneous help topics:\n",
            "==========================\n",
            "exec  pdb\n",
            "\n",
            "(Pdb) cl\n",
            "Clear all breaks? yes\n",
            "Deleted breakpoint 1 at <ipython-input-8-d78fe5199c50>:22\n",
            "Deleted breakpoint 2 at <ipython-input-13-d78fe5199c50>:23\n",
            "(Pdb) q\n"
          ]
        },
        {
          "output_type": "error",
          "ename": "BdbQuit",
          "evalue": "ignored",
          "traceback": [
            "\u001b[0;31m---------------------------------------------------------------------------\u001b[0m",
            "\u001b[0;31mBdbQuit\u001b[0m                                   Traceback (most recent call last)",
            "\u001b[0;32m<ipython-input-15-2cc37afd5fb6>\u001b[0m in \u001b[0;36m<module>\u001b[0;34m\u001b[0m\n\u001b[1;32m      1\u001b[0m \u001b[0marr_saikoro\u001b[0m \u001b[0;34m=\u001b[0m \u001b[0;34m[\u001b[0m\u001b[0;36m1\u001b[0m\u001b[0;34m,\u001b[0m \u001b[0;36m2\u001b[0m\u001b[0;34m,\u001b[0m \u001b[0;36m3\u001b[0m\u001b[0;34m,\u001b[0m \u001b[0;36m4\u001b[0m\u001b[0;34m,\u001b[0m \u001b[0;36m5\u001b[0m\u001b[0;34m,\u001b[0m \u001b[0;36m6\u001b[0m\u001b[0;34m]\u001b[0m\u001b[0;34m\u001b[0m\u001b[0;34m\u001b[0m\u001b[0m\n\u001b[0;32m----> 2\u001b[0;31m \u001b[0mkeisan\u001b[0m\u001b[0;34m.\u001b[0m\u001b[0mheikin\u001b[0m\u001b[0;34m(\u001b[0m\u001b[0marr_saikoro\u001b[0m\u001b[0;34m)\u001b[0m\u001b[0;34m\u001b[0m\u001b[0;34m\u001b[0m\u001b[0m\n\u001b[0m",
            "\u001b[0;32m<ipython-input-13-d78fe5199c50>\u001b[0m in \u001b[0;36mheikin\u001b[0;34m(self, arr)\u001b[0m\n\u001b[1;32m     26\u001b[0m \u001b[0;34m\u001b[0m\u001b[0m\n\u001b[1;32m     27\u001b[0m     \u001b[0;32mdef\u001b[0m \u001b[0mheikin\u001b[0m\u001b[0;34m(\u001b[0m\u001b[0mself\u001b[0m\u001b[0;34m,\u001b[0m \u001b[0marr\u001b[0m\u001b[0;34m)\u001b[0m\u001b[0;34m:\u001b[0m\u001b[0;34m\u001b[0m\u001b[0;34m\u001b[0m\u001b[0m\n\u001b[0;32m---> 28\u001b[0;31m         \u001b[0mgoukei\u001b[0m \u001b[0;34m=\u001b[0m \u001b[0mself\u001b[0m\u001b[0;34m.\u001b[0m\u001b[0mgoukei\u001b[0m\u001b[0;34m(\u001b[0m\u001b[0marr\u001b[0m\u001b[0;34m)\u001b[0m\u001b[0;34m\u001b[0m\u001b[0;34m\u001b[0m\u001b[0m\n\u001b[0m\u001b[1;32m     29\u001b[0m         \u001b[0;32mreturn\u001b[0m \u001b[0mgoukei\u001b[0m \u001b[0;34m/\u001b[0m \u001b[0mlen\u001b[0m\u001b[0;34m(\u001b[0m\u001b[0marr\u001b[0m\u001b[0;34m)\u001b[0m\u001b[0;34m\u001b[0m\u001b[0;34m\u001b[0m\u001b[0m\n",
            "\u001b[0;32m<ipython-input-13-d78fe5199c50>\u001b[0m in \u001b[0;36mgoukei\u001b[0;34m(self, arr)\u001b[0m\n\u001b[1;32m     21\u001b[0m         \u001b[0mst\u001b[0m\u001b[0;34m(\u001b[0m\u001b[0;34m)\u001b[0m  \u001b[0;31m# <----------- これ！\u001b[0m\u001b[0;34m\u001b[0m\u001b[0;34m\u001b[0m\u001b[0m\n\u001b[1;32m     22\u001b[0m         \u001b[0mgoukei\u001b[0m \u001b[0;34m=\u001b[0m \u001b[0;36m0\u001b[0m  \u001b[0;31m# <-------- forループの外に出した。\u001b[0m\u001b[0;34m\u001b[0m\u001b[0;34m\u001b[0m\u001b[0m\n\u001b[0;32m---> 23\u001b[0;31m         \u001b[0;32mfor\u001b[0m \u001b[0mnum\u001b[0m \u001b[0;32min\u001b[0m \u001b[0marr\u001b[0m\u001b[0;34m:\u001b[0m\u001b[0;34m\u001b[0m\u001b[0;34m\u001b[0m\u001b[0m\n\u001b[0m\u001b[1;32m     24\u001b[0m             \u001b[0mgoukei\u001b[0m \u001b[0;34m=\u001b[0m \u001b[0mself\u001b[0m\u001b[0;34m.\u001b[0m\u001b[0mtashizan\u001b[0m\u001b[0;34m(\u001b[0m\u001b[0mgoukei\u001b[0m\u001b[0;34m,\u001b[0m \u001b[0mnum\u001b[0m\u001b[0;34m)\u001b[0m\u001b[0;34m\u001b[0m\u001b[0;34m\u001b[0m\u001b[0m\n\u001b[1;32m     25\u001b[0m         \u001b[0;32mreturn\u001b[0m \u001b[0mgoukei\u001b[0m\u001b[0;34m\u001b[0m\u001b[0;34m\u001b[0m\u001b[0m\n",
            "\u001b[0;32m<ipython-input-13-d78fe5199c50>\u001b[0m in \u001b[0;36mgoukei\u001b[0;34m(self, arr)\u001b[0m\n\u001b[1;32m     21\u001b[0m         \u001b[0mst\u001b[0m\u001b[0;34m(\u001b[0m\u001b[0;34m)\u001b[0m  \u001b[0;31m# <----------- これ！\u001b[0m\u001b[0;34m\u001b[0m\u001b[0;34m\u001b[0m\u001b[0m\n\u001b[1;32m     22\u001b[0m         \u001b[0mgoukei\u001b[0m \u001b[0;34m=\u001b[0m \u001b[0;36m0\u001b[0m  \u001b[0;31m# <-------- forループの外に出した。\u001b[0m\u001b[0;34m\u001b[0m\u001b[0;34m\u001b[0m\u001b[0m\n\u001b[0;32m---> 23\u001b[0;31m         \u001b[0;32mfor\u001b[0m \u001b[0mnum\u001b[0m \u001b[0;32min\u001b[0m \u001b[0marr\u001b[0m\u001b[0;34m:\u001b[0m\u001b[0;34m\u001b[0m\u001b[0;34m\u001b[0m\u001b[0m\n\u001b[0m\u001b[1;32m     24\u001b[0m             \u001b[0mgoukei\u001b[0m \u001b[0;34m=\u001b[0m \u001b[0mself\u001b[0m\u001b[0;34m.\u001b[0m\u001b[0mtashizan\u001b[0m\u001b[0;34m(\u001b[0m\u001b[0mgoukei\u001b[0m\u001b[0;34m,\u001b[0m \u001b[0mnum\u001b[0m\u001b[0;34m)\u001b[0m\u001b[0;34m\u001b[0m\u001b[0;34m\u001b[0m\u001b[0m\n\u001b[1;32m     25\u001b[0m         \u001b[0;32mreturn\u001b[0m \u001b[0mgoukei\u001b[0m\u001b[0;34m\u001b[0m\u001b[0;34m\u001b[0m\u001b[0m\n",
            "\u001b[0;32m/usr/lib/python3.7/bdb.py\u001b[0m in \u001b[0;36mtrace_dispatch\u001b[0;34m(self, frame, event, arg)\u001b[0m\n\u001b[1;32m     86\u001b[0m             \u001b[0;32mreturn\u001b[0m \u001b[0;31m# None\u001b[0m\u001b[0;34m\u001b[0m\u001b[0;34m\u001b[0m\u001b[0m\n\u001b[1;32m     87\u001b[0m         \u001b[0;32mif\u001b[0m \u001b[0mevent\u001b[0m \u001b[0;34m==\u001b[0m \u001b[0;34m'line'\u001b[0m\u001b[0;34m:\u001b[0m\u001b[0;34m\u001b[0m\u001b[0;34m\u001b[0m\u001b[0m\n\u001b[0;32m---> 88\u001b[0;31m             \u001b[0;32mreturn\u001b[0m \u001b[0mself\u001b[0m\u001b[0;34m.\u001b[0m\u001b[0mdispatch_line\u001b[0m\u001b[0;34m(\u001b[0m\u001b[0mframe\u001b[0m\u001b[0;34m)\u001b[0m\u001b[0;34m\u001b[0m\u001b[0;34m\u001b[0m\u001b[0m\n\u001b[0m\u001b[1;32m     89\u001b[0m         \u001b[0;32mif\u001b[0m \u001b[0mevent\u001b[0m \u001b[0;34m==\u001b[0m \u001b[0;34m'call'\u001b[0m\u001b[0;34m:\u001b[0m\u001b[0;34m\u001b[0m\u001b[0;34m\u001b[0m\u001b[0m\n\u001b[1;32m     90\u001b[0m             \u001b[0;32mreturn\u001b[0m \u001b[0mself\u001b[0m\u001b[0;34m.\u001b[0m\u001b[0mdispatch_call\u001b[0m\u001b[0;34m(\u001b[0m\u001b[0mframe\u001b[0m\u001b[0;34m,\u001b[0m \u001b[0marg\u001b[0m\u001b[0;34m)\u001b[0m\u001b[0;34m\u001b[0m\u001b[0;34m\u001b[0m\u001b[0m\n",
            "\u001b[0;32m/usr/lib/python3.7/bdb.py\u001b[0m in \u001b[0;36mdispatch_line\u001b[0;34m(self, frame)\u001b[0m\n\u001b[1;32m    111\u001b[0m         \u001b[0;32mif\u001b[0m \u001b[0mself\u001b[0m\u001b[0;34m.\u001b[0m\u001b[0mstop_here\u001b[0m\u001b[0;34m(\u001b[0m\u001b[0mframe\u001b[0m\u001b[0;34m)\u001b[0m \u001b[0;32mor\u001b[0m \u001b[0mself\u001b[0m\u001b[0;34m.\u001b[0m\u001b[0mbreak_here\u001b[0m\u001b[0;34m(\u001b[0m\u001b[0mframe\u001b[0m\u001b[0;34m)\u001b[0m\u001b[0;34m:\u001b[0m\u001b[0;34m\u001b[0m\u001b[0;34m\u001b[0m\u001b[0m\n\u001b[1;32m    112\u001b[0m             \u001b[0mself\u001b[0m\u001b[0;34m.\u001b[0m\u001b[0muser_line\u001b[0m\u001b[0;34m(\u001b[0m\u001b[0mframe\u001b[0m\u001b[0;34m)\u001b[0m\u001b[0;34m\u001b[0m\u001b[0;34m\u001b[0m\u001b[0m\n\u001b[0;32m--> 113\u001b[0;31m             \u001b[0;32mif\u001b[0m \u001b[0mself\u001b[0m\u001b[0;34m.\u001b[0m\u001b[0mquitting\u001b[0m\u001b[0;34m:\u001b[0m \u001b[0;32mraise\u001b[0m \u001b[0mBdbQuit\u001b[0m\u001b[0;34m\u001b[0m\u001b[0;34m\u001b[0m\u001b[0m\n\u001b[0m\u001b[1;32m    114\u001b[0m         \u001b[0;32mreturn\u001b[0m \u001b[0mself\u001b[0m\u001b[0;34m.\u001b[0m\u001b[0mtrace_dispatch\u001b[0m\u001b[0;34m\u001b[0m\u001b[0;34m\u001b[0m\u001b[0m\n\u001b[1;32m    115\u001b[0m \u001b[0;34m\u001b[0m\u001b[0m\n",
            "\u001b[0;31mBdbQuit\u001b[0m: "
          ]
        }
      ]
    },
    {
      "cell_type": "markdown",
      "metadata": {
        "id": "877e9286"
      },
      "source": [
        "# 　%debug を学ぶ\n",
        "`%debug` はjupyter notebookのマジックコマンドの一つです。  \n",
        "pdbと異なった使い方ができます。  \n",
        "コマンドはpdbとほとんど同じと思ってもらって大丈夫です。  \n",
        "(ちょっと高機能なコマンドがありますが、発展的な内容なので省略します。)"
      ],
      "id": "877e9286"
    },
    {
      "cell_type": "code",
      "metadata": {
        "id": "1726db8a"
      },
      "source": [
        "def dist_array(arr_x, arr_y):\n",
        "    arr_x = np.asarray(arr_x)\n",
        "    arr_y = np.asarray(arr_y)\n",
        "    return distance.euclidean(arr_x, arr_y)"
      ],
      "id": "1726db8a",
      "execution_count": 16,
      "outputs": []
    },
    {
      "cell_type": "markdown",
      "metadata": {
        "id": "dcf5c5dc"
      },
      "source": [
        "<br>\n",
        "\n",
        "下のセルを実行するとエラーが出ますが意図したとおりですのでそのまま進んでください。"
      ],
      "id": "dcf5c5dc"
    },
    {
      "cell_type": "code",
      "metadata": {
        "id": "c73535e0",
        "outputId": "520efbfb-0d9b-416d-d297-f4fd6043c71d",
        "colab": {
          "base_uri": "https://localhost:8080/"
        }
      },
      "source": [
        "# x = [0, 1, 2, 3, 4, 5, 6, 7]\n",
        "x = [0, 1, 2, 3]\n",
        "y = [0, 0, 0, 0]\n",
        "dist_array(x, y)"
      ],
      "id": "c73535e0",
      "execution_count": 20,
      "outputs": [
        {
          "output_type": "execute_result",
          "data": {
            "text/plain": [
              "3.7416573867739413"
            ]
          },
          "metadata": {},
          "execution_count": 20
        }
      ]
    },
    {
      "cell_type": "markdown",
      "metadata": {
        "id": "601ffc44"
      },
      "source": [
        "<br> \n",
        "\n",
        "shape がおかしいようです。  \n",
        "関数の中に `st()` を入れて再実行することもできますが、`%debug` を使うと再実行の必要はありません。  \n",
        "エラーが出た箇所からデバッガを起動できます！  \n",
        "さっそくやってみましょう。  \n",
        "一つ下のセル(`%debug`がある)を実行し、下記の通り操作してください。\n",
        "\n",
        "1. `l`: 前後5行を表示。自分で書いたコードではなく、コードから読んだ関数の奥深くを見ています。上にあがりましょう。  \n",
        "2. `u`: 上にあがります(説明むずかしい...やればわかります)。見覚えのあるコードが出てくるまで `u` を何度か実行してください。(今回は2回でした。)\n",
        "3. `p len(arr_x), len(arr_y)`: arr_x, arr_y のlengthを見てみましょう。8と4で大きさが違います。これが原因ですね。\n",
        "4. `arr_x = np.asarray([0, 1, 2, 3])`: arr_xをarr_yの大きさに合わせたら動くはずなので、上書きしてしまいましょう。\n",
        "5. `p len(arr_x), len(arr_y)`: 4, 4 になっているのが確認できます。  \n",
        "6. `n`: エラーが出ていた `return distance.euclidean(arr_x, arr_y)` を実行します。今度は問題なく動くはずです。"
      ],
      "id": "601ffc44"
    },
    {
      "cell_type": "code",
      "metadata": {
        "id": "727cb7d3",
        "outputId": "5a53e563-7893-4290-c3af-fd53890a8acd",
        "colab": {
          "base_uri": "https://localhost:8080/"
        }
      },
      "source": [
        "%debug"
      ],
      "id": "727cb7d3",
      "execution_count": 21,
      "outputs": [
        {
          "name": "stdout",
          "output_type": "stream",
          "text": [
            "> \u001b[0;32m/usr/local/lib/python3.7/dist-packages/scipy/spatial/distance.py\u001b[0m(488)\u001b[0;36mminkowski\u001b[0;34m()\u001b[0m\n",
            "\u001b[0;32m    486 \u001b[0;31m    \u001b[0;32mif\u001b[0m \u001b[0mp\u001b[0m \u001b[0;34m<\u001b[0m \u001b[0;36m1\u001b[0m\u001b[0;34m:\u001b[0m\u001b[0;34m\u001b[0m\u001b[0;34m\u001b[0m\u001b[0m\n",
            "\u001b[0m\u001b[0;32m    487 \u001b[0;31m        \u001b[0;32mraise\u001b[0m \u001b[0mValueError\u001b[0m\u001b[0;34m(\u001b[0m\u001b[0;34m\"p must be at least 1\"\u001b[0m\u001b[0;34m)\u001b[0m\u001b[0;34m\u001b[0m\u001b[0;34m\u001b[0m\u001b[0m\n",
            "\u001b[0m\u001b[0;32m--> 488 \u001b[0;31m    \u001b[0mu_v\u001b[0m \u001b[0;34m=\u001b[0m \u001b[0mu\u001b[0m \u001b[0;34m-\u001b[0m \u001b[0mv\u001b[0m\u001b[0;34m\u001b[0m\u001b[0;34m\u001b[0m\u001b[0m\n",
            "\u001b[0m\u001b[0;32m    489 \u001b[0;31m    \u001b[0;32mif\u001b[0m \u001b[0mw\u001b[0m \u001b[0;32mis\u001b[0m \u001b[0;32mnot\u001b[0m \u001b[0;32mNone\u001b[0m\u001b[0;34m:\u001b[0m\u001b[0;34m\u001b[0m\u001b[0;34m\u001b[0m\u001b[0m\n",
            "\u001b[0m\u001b[0;32m    490 \u001b[0;31m        \u001b[0mw\u001b[0m \u001b[0;34m=\u001b[0m \u001b[0m_validate_weights\u001b[0m\u001b[0;34m(\u001b[0m\u001b[0mw\u001b[0m\u001b[0;34m)\u001b[0m\u001b[0;34m\u001b[0m\u001b[0;34m\u001b[0m\u001b[0m\n",
            "\u001b[0m\n",
            "ipdb> u\n",
            "> \u001b[0;32m/usr/local/lib/python3.7/dist-packages/scipy/spatial/distance.py\u001b[0m(597)\u001b[0;36meuclidean\u001b[0;34m()\u001b[0m\n",
            "\u001b[0;32m    595 \u001b[0;31m\u001b[0;34m\u001b[0m\u001b[0m\n",
            "\u001b[0m\u001b[0;32m    596 \u001b[0;31m    \"\"\"\n",
            "\u001b[0m\u001b[0;32m--> 597 \u001b[0;31m    \u001b[0;32mreturn\u001b[0m \u001b[0mminkowski\u001b[0m\u001b[0;34m(\u001b[0m\u001b[0mu\u001b[0m\u001b[0;34m,\u001b[0m \u001b[0mv\u001b[0m\u001b[0;34m,\u001b[0m \u001b[0mp\u001b[0m\u001b[0;34m=\u001b[0m\u001b[0;36m2\u001b[0m\u001b[0;34m,\u001b[0m \u001b[0mw\u001b[0m\u001b[0;34m=\u001b[0m\u001b[0mw\u001b[0m\u001b[0;34m)\u001b[0m\u001b[0;34m\u001b[0m\u001b[0;34m\u001b[0m\u001b[0m\n",
            "\u001b[0m\u001b[0;32m    598 \u001b[0;31m\u001b[0;34m\u001b[0m\u001b[0m\n",
            "\u001b[0m\u001b[0;32m    599 \u001b[0;31m\u001b[0;34m\u001b[0m\u001b[0m\n",
            "\u001b[0m\n",
            "ipdb> u\n",
            "> \u001b[0;32m<ipython-input-16-73ec6d98a905>\u001b[0m(4)\u001b[0;36mdist_array\u001b[0;34m()\u001b[0m\n",
            "\u001b[0;32m      1 \u001b[0;31m\u001b[0;32mdef\u001b[0m \u001b[0mdist_array\u001b[0m\u001b[0;34m(\u001b[0m\u001b[0marr_x\u001b[0m\u001b[0;34m,\u001b[0m \u001b[0marr_y\u001b[0m\u001b[0;34m)\u001b[0m\u001b[0;34m:\u001b[0m\u001b[0;34m\u001b[0m\u001b[0;34m\u001b[0m\u001b[0m\n",
            "\u001b[0m\u001b[0;32m      2 \u001b[0;31m    \u001b[0marr_x\u001b[0m \u001b[0;34m=\u001b[0m \u001b[0mnp\u001b[0m\u001b[0;34m.\u001b[0m\u001b[0masarray\u001b[0m\u001b[0;34m(\u001b[0m\u001b[0marr_x\u001b[0m\u001b[0;34m)\u001b[0m\u001b[0;34m\u001b[0m\u001b[0;34m\u001b[0m\u001b[0m\n",
            "\u001b[0m\u001b[0;32m      3 \u001b[0;31m    \u001b[0marr_y\u001b[0m \u001b[0;34m=\u001b[0m \u001b[0mnp\u001b[0m\u001b[0;34m.\u001b[0m\u001b[0masarray\u001b[0m\u001b[0;34m(\u001b[0m\u001b[0marr_y\u001b[0m\u001b[0;34m)\u001b[0m\u001b[0;34m\u001b[0m\u001b[0;34m\u001b[0m\u001b[0m\n",
            "\u001b[0m\u001b[0;32m----> 4 \u001b[0;31m    \u001b[0;32mreturn\u001b[0m \u001b[0mdistance\u001b[0m\u001b[0;34m.\u001b[0m\u001b[0meuclidean\u001b[0m\u001b[0;34m(\u001b[0m\u001b[0marr_x\u001b[0m\u001b[0;34m,\u001b[0m \u001b[0marr_y\u001b[0m\u001b[0;34m)\u001b[0m\u001b[0;34m\u001b[0m\u001b[0;34m\u001b[0m\u001b[0m\n",
            "\u001b[0m\n",
            "ipdb> arr_y\n",
            "array([0, 0, 0, 0])\n",
            "ipdb> q\n"
          ]
        }
      ]
    },
    {
      "cell_type": "markdown",
      "metadata": {
        "id": "eb2f3e35"
      },
      "source": [
        "# まとめ\n",
        "Jupyter Notebookで使えるデバッガについて簡単に紹介しました。  \n",
        "僕は以下のような使い分けをしています。  \n",
        "\n",
        "`pdb/ipdb`: 誰かが書いた `クラス` とか `関数` の深いところを動かしながら確認したいとき。  \n",
        "`%debug`: エラー出た。。。なぜ。。。のとき。\n",
        "\n",
        "状況にも寄りますが大体こんな感じです。  \n",
        "printデバッグも頻繁にやりますが、あきらかにデバッガを使ったほうが楽なシーンもあるので使い分けてください。"
      ],
      "id": "eb2f3e35"
    },
    {
      "cell_type": "code",
      "metadata": {
        "id": "44e19adc"
      },
      "source": [],
      "id": "44e19adc",
      "execution_count": null,
      "outputs": []
    },
    {
      "cell_type": "code",
      "metadata": {
        "id": "d047e559"
      },
      "source": [],
      "id": "d047e559",
      "execution_count": null,
      "outputs": []
    }
  ]
}