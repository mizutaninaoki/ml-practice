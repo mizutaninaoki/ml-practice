{
  "nbformat": 4,
  "nbformat_minor": 0,
  "metadata": {
    "colab": {
      "name": "lesson2-4",
      "provenance": [],
      "collapsed_sections": [],
      "authorship_tag": "ABX9TyPVvhx3WurWPMdj+6iCHQ72"
    },
    "kernelspec": {
      "name": "python3",
      "display_name": "Python 3"
    },
    "language_info": {
      "name": "python"
    },
    "accelerator": "GPU",
    "gpuClass": "standard"
  },
  "cells": [
    {
      "cell_type": "code",
      "source": [
        "%matplotlib inline\n",
        "\n",
        "import os\n",
        "\n",
        "import tensorflow.keras as keras\n",
        "import numpy as np\n",
        "import matplotlib.pyplot as plt\n",
        "\n",
        "from tensorflow.keras.layers import Dense, Conv2D, MaxPooling2D, Flatten, Input, Activation, add, Add, Dropout, BatchNormalization\n",
        "from tensorflow.keras.callbacks import EarlyStopping\n",
        "from tensorflow.keras.models import Sequential, Model\n",
        "from tensorflow.keras.datasets import cifar10\n",
        "from tensorflow.keras.datasets import fashion_mnist\n",
        "from tensorflow.keras.utils import to_categorical\n",
        "from sklearn.model_selection import train_test_split\n",
        "\n",
        "from IPython.display import SVG\n",
        "from tensorflow.python.keras.utils.vis_utils import model_to_dot\n",
        "from tensorflow.keras.preprocessing.image import ImageDataGenerator\n",
        "\n",
        "random_state = 42"
      ],
      "metadata": {
        "id": "-DUwFYPKRTJF"
      },
      "execution_count": 27,
      "outputs": []
    },
    {
      "cell_type": "code",
      "source": [
        "(x_train, y_train), (x_test, y_test) = cifar10.load_data()\n",
        "\n",
        "x_train = x_train.astype('float32') / 255\n",
        "y_train = np.eye(10)[y_train.astype('int32').flatten()]\n",
        "\n",
        "x_test = x_test.astype('float32') / 255\n",
        "y_test = np.eye(10)[y_test.astype('int32').flatten()]\n",
        "\n",
        "x_train, x_valid, y_train, y_valid = train_test_split(x_train, y_train, test_size=10000)"
      ],
      "metadata": {
        "id": "s_JNxf5g5c34"
      },
      "execution_count": 30,
      "outputs": []
    },
    {
      "cell_type": "code",
      "source": [
        "model = Sequential()\n",
        "\n",
        "model.add(Conv2D(6, kernel_size=(5, 5), activation='relu', kernel_initializer='he_normal', input_shape=(32, 32, 3)))  # 32x32x3 -> 28x28x6\n",
        "model.add(MaxPooling2D(pool_size=(2, 2)))  # 28x28x6 -> 14x14x6\n",
        "model.add(Conv2D(16, kernel_size=(5, 5), activation='relu', kernel_initializer='he_normal'))  # 14x14x6 -> 10x10x16\n",
        "model.add(MaxPooling2D(pool_size=(2, 2)))  # 10x10x16 -> 5x5x16\n",
        "\n",
        "model.add(Flatten())  # 5x5x16 -> 400\n",
        "model.add(Dense(120, activation='relu', kernel_initializer='he_normal'))  # 400 ->120\n",
        "model.add(Dense(84, activation='relu', kernel_initializer='he_normal'))  # 120 ->84\n",
        "model.add(Dense(10, activation='softmax'))  # 84 ->10\n",
        "\n",
        "model.compile(\n",
        "    loss=keras.losses.categorical_crossentropy,\n",
        "    optimizer='adam',\n",
        "    metrics=['accuracy']\n",
        ")\n"
      ],
      "metadata": {
        "id": "-I6nYWsI5c6e"
      },
      "execution_count": 34,
      "outputs": []
    },
    {
      "cell_type": "code",
      "source": [
        "datagen = ImageDataGenerator(\n",
        "    width_shift_range=0.2,  # 3.1.1 左右にずらす\n",
        "    height_shift_range=0.2,  # 3.1.2 上下にずらす\n",
        "    horizontal_flip=True,  # 3.1.3 左右反転\n",
        "    # 3.2.1 Global Contrast Normalization (GCN) (Falseに設定しているのでここでは使用していない)\n",
        "    samplewise_center=False,\n",
        "    samplewise_std_normalization=False,\n",
        "    zca_whitening=False # 3.2.2 Zero-phase Component Analysis (ZCA) Whitening (Falseに設定しているのでここでは使用していない)\n",
        ")"
      ],
      "metadata": {
        "id": "DPhP_M_e5c8T"
      },
      "execution_count": 35,
      "outputs": []
    },
    {
      "cell_type": "code",
      "source": [
        "model.fit_generator(datagen.flow(x_train, y_train, batch_size=100),\n",
        "                    steps_per_epoch=x_train.shape[0] // 100, epochs=30, validation_data=(x_valid, y_valid))"
      ],
      "metadata": {
        "colab": {
          "base_uri": "https://localhost:8080/"
        },
        "id": "moS6r57r5c-X",
        "outputId": "221f60c8-a325-4493-c72c-501c041740ab"
      },
      "execution_count": 36,
      "outputs": [
        {
          "output_type": "stream",
          "name": "stdout",
          "text": [
            "Epoch 1/30\n"
          ]
        },
        {
          "output_type": "stream",
          "name": "stderr",
          "text": [
            "/usr/local/lib/python3.7/dist-packages/ipykernel_launcher.py:2: UserWarning: `Model.fit_generator` is deprecated and will be removed in a future version. Please use `Model.fit`, which supports generators.\n",
            "  \n"
          ]
        },
        {
          "output_type": "stream",
          "name": "stdout",
          "text": [
            "400/400 [==============================] - 19s 43ms/step - loss: 1.8962 - accuracy: 0.3013 - val_loss: 1.6436 - val_accuracy: 0.4074\n",
            "Epoch 2/30\n",
            "400/400 [==============================] - 17s 42ms/step - loss: 1.6727 - accuracy: 0.3841 - val_loss: 1.4610 - val_accuracy: 0.4627\n",
            "Epoch 3/30\n",
            "400/400 [==============================] - 17s 43ms/step - loss: 1.5742 - accuracy: 0.4281 - val_loss: 1.4359 - val_accuracy: 0.4821\n",
            "Epoch 4/30\n",
            "400/400 [==============================] - 16s 40ms/step - loss: 1.5307 - accuracy: 0.4459 - val_loss: 1.3221 - val_accuracy: 0.5291\n",
            "Epoch 5/30\n",
            "400/400 [==============================] - 17s 42ms/step - loss: 1.4780 - accuracy: 0.4664 - val_loss: 1.3634 - val_accuracy: 0.5148\n",
            "Epoch 6/30\n",
            "400/400 [==============================] - 16s 41ms/step - loss: 1.4436 - accuracy: 0.4804 - val_loss: 1.3140 - val_accuracy: 0.5291\n",
            "Epoch 7/30\n",
            "400/400 [==============================] - 16s 41ms/step - loss: 1.4205 - accuracy: 0.4902 - val_loss: 1.3552 - val_accuracy: 0.5182\n",
            "Epoch 8/30\n",
            "400/400 [==============================] - 16s 40ms/step - loss: 1.3872 - accuracy: 0.5012 - val_loss: 1.2127 - val_accuracy: 0.5679\n",
            "Epoch 9/30\n",
            "400/400 [==============================] - 17s 42ms/step - loss: 1.3634 - accuracy: 0.5101 - val_loss: 1.2049 - val_accuracy: 0.5720\n",
            "Epoch 10/30\n",
            "400/400 [==============================] - 16s 41ms/step - loss: 1.3410 - accuracy: 0.5224 - val_loss: 1.2392 - val_accuracy: 0.5618\n",
            "Epoch 11/30\n",
            "400/400 [==============================] - 17s 42ms/step - loss: 1.3167 - accuracy: 0.5266 - val_loss: 1.1504 - val_accuracy: 0.5868\n",
            "Epoch 12/30\n",
            "400/400 [==============================] - 16s 41ms/step - loss: 1.3163 - accuracy: 0.5268 - val_loss: 1.2740 - val_accuracy: 0.5484\n",
            "Epoch 13/30\n",
            "400/400 [==============================] - 16s 41ms/step - loss: 1.2948 - accuracy: 0.5359 - val_loss: 1.1722 - val_accuracy: 0.5853\n",
            "Epoch 14/30\n",
            "400/400 [==============================] - 16s 41ms/step - loss: 1.2845 - accuracy: 0.5412 - val_loss: 1.1160 - val_accuracy: 0.6111\n",
            "Epoch 15/30\n",
            "400/400 [==============================] - 16s 40ms/step - loss: 1.2776 - accuracy: 0.5458 - val_loss: 1.1386 - val_accuracy: 0.5951\n",
            "Epoch 16/30\n",
            "400/400 [==============================] - 16s 40ms/step - loss: 1.2614 - accuracy: 0.5531 - val_loss: 1.1054 - val_accuracy: 0.6064\n",
            "Epoch 17/30\n",
            "400/400 [==============================] - 17s 42ms/step - loss: 1.2499 - accuracy: 0.5533 - val_loss: 1.2851 - val_accuracy: 0.5525\n",
            "Epoch 18/30\n",
            "400/400 [==============================] - 17s 42ms/step - loss: 1.2421 - accuracy: 0.5562 - val_loss: 1.1619 - val_accuracy: 0.5930\n",
            "Epoch 19/30\n",
            "400/400 [==============================] - 16s 40ms/step - loss: 1.2397 - accuracy: 0.5597 - val_loss: 1.1021 - val_accuracy: 0.6025\n",
            "Epoch 20/30\n",
            "400/400 [==============================] - 18s 44ms/step - loss: 1.2282 - accuracy: 0.5619 - val_loss: 1.1499 - val_accuracy: 0.5902\n",
            "Epoch 21/30\n",
            "400/400 [==============================] - 17s 42ms/step - loss: 1.2178 - accuracy: 0.5654 - val_loss: 1.1221 - val_accuracy: 0.6010\n",
            "Epoch 22/30\n",
            "400/400 [==============================] - 16s 41ms/step - loss: 1.2069 - accuracy: 0.5699 - val_loss: 1.1150 - val_accuracy: 0.6101\n",
            "Epoch 23/30\n",
            "400/400 [==============================] - 17s 42ms/step - loss: 1.2116 - accuracy: 0.5703 - val_loss: 1.1030 - val_accuracy: 0.6104\n",
            "Epoch 24/30\n",
            "400/400 [==============================] - 17s 42ms/step - loss: 1.2055 - accuracy: 0.5717 - val_loss: 1.0811 - val_accuracy: 0.6145\n",
            "Epoch 25/30\n",
            "400/400 [==============================] - 16s 41ms/step - loss: 1.1855 - accuracy: 0.5790 - val_loss: 1.0502 - val_accuracy: 0.6285\n",
            "Epoch 26/30\n",
            "400/400 [==============================] - 16s 40ms/step - loss: 1.1895 - accuracy: 0.5773 - val_loss: 1.0947 - val_accuracy: 0.6115\n",
            "Epoch 27/30\n",
            "400/400 [==============================] - 17s 42ms/step - loss: 1.1891 - accuracy: 0.5775 - val_loss: 1.1120 - val_accuracy: 0.6090\n",
            "Epoch 28/30\n",
            "400/400 [==============================] - 17s 42ms/step - loss: 1.1766 - accuracy: 0.5801 - val_loss: 1.0668 - val_accuracy: 0.6279\n",
            "Epoch 29/30\n",
            "400/400 [==============================] - 16s 40ms/step - loss: 1.1750 - accuracy: 0.5824 - val_loss: 1.0863 - val_accuracy: 0.6227\n",
            "Epoch 30/30\n",
            "400/400 [==============================] - 17s 42ms/step - loss: 1.1685 - accuracy: 0.5852 - val_loss: 1.0886 - val_accuracy: 0.6195\n"
          ]
        },
        {
          "output_type": "execute_result",
          "data": {
            "text/plain": [
              "<keras.callbacks.History at 0x7f338077fbd0>"
            ]
          },
          "metadata": {},
          "execution_count": 36
        }
      ]
    },
    {
      "cell_type": "code",
      "source": [
        "model.evaluate(x_test, y_test, verbose=1)"
      ],
      "metadata": {
        "colab": {
          "base_uri": "https://localhost:8080/"
        },
        "id": "L58Q6qrsDDf9",
        "outputId": "4a03e918-6c3d-45d5-8f75-4102db47da65"
      },
      "execution_count": 38,
      "outputs": [
        {
          "output_type": "stream",
          "name": "stdout",
          "text": [
            "313/313 [==============================] - 1s 3ms/step - loss: 1.1098 - accuracy: 0.6073\n"
          ]
        },
        {
          "output_type": "execute_result",
          "data": {
            "text/plain": [
              "[1.109781265258789, 0.6072999835014343]"
            ]
          },
          "metadata": {},
          "execution_count": 38
        }
      ]
    },
    {
      "cell_type": "code",
      "source": [
        ""
      ],
      "metadata": {
        "id": "CVCi3FZ5DDwf"
      },
      "execution_count": null,
      "outputs": []
    }
  ]
}