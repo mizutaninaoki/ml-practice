{
  "cells": [
    {
      "cell_type": "code",
      "source": [
        "from tensorflow.keras.layers import Input, Dense\n",
        "from tensorflow.keras.models import Model\n",
        "from tensorflow.keras.datasets import mnist       # データ読み込み用\n",
        "from tensorflow.keras.utils import to_categorical # データ読み込み用\n",
        "\n",
        "# Inputレイヤーからスタート（返り値はテンソル）\n",
        "inputs = Input(shape=(784,))\n",
        "\n",
        "# レイヤークラスのインスタンスはテンソルを引数に取れる（返り値はテンソル）\n",
        "x = Dense(128, activation='relu')(inputs)      # InputレイヤーとDenseレイヤー(1層目)を接続\n",
        "x = Dense(64, activation='relu')(x)            # Denseレイヤー(1層目)とDenseレイヤー(2層目)を接続\n",
        "output_layer = Dense(10, activation='softmax') # レイヤーのインスタンス化を切り分けることももちろん可能\n",
        "                                               # (別のモデル構成時にこのレイヤーを指定・再利用することも可能になる)\n",
        "predictions = output_layer(x)                  # Denseレイヤー(2層目)とDenseレイヤー(3層目)を接続\n",
        "\n",
        "# Modelクラスを作成（入力テンソルと出力テンソルを指定すればよい）\n",
        "model = Model(inputs=inputs, outputs=predictions) # これで、「(784,)のInputを持つDense3層」構成のモデルが指定される\n",
        "\n",
        "# 以降はSequentialと同じ\n",
        "(x_train, y_train), (x_test, y_test) = mnist.load_data()\n",
        "x_train = x_train.reshape(-1, 784)\n",
        "x_test = x_test.reshape(-1, 784)\n",
        "y_train = to_categorical(y_train)\n",
        "y_test = to_categorical(y_test)\n",
        "\n",
        "model.compile(loss='categorical_crossentropy', optimizer='sgd', metrics=['accuracy'])\n",
        "model.fit(x_train, y_train)"
      ],
      "metadata": {
        "colab": {
          "base_uri": "https://localhost:8080/"
        },
        "id": "PdBi4jKUI8AD",
        "outputId": "397e2653-8f20-4bdb-8464-0861a5107ff2"
      },
      "execution_count": 54,
      "outputs": [
        {
          "output_type": "stream",
          "name": "stdout",
          "text": [
            "1875/1875 [==============================] - 6s 3ms/step - loss: 1840995056635346944.0000 - accuracy: 0.1104\n"
          ]
        },
        {
          "output_type": "execute_result",
          "data": {
            "text/plain": [
              "<keras.callbacks.History at 0x7fb2165bd910>"
            ]
          },
          "metadata": {},
          "execution_count": 54
        }
      ]
    },
    {
      "cell_type": "code",
      "source": [
        "score = model.evaluate(x_test, y_test, verbose=1)\n",
        "score"
      ],
      "metadata": {
        "colab": {
          "base_uri": "https://localhost:8080/"
        },
        "id": "MrzowB4cqRAR",
        "outputId": "bb7dc3d5-a94e-4da3-cb6b-11942513bcf9"
      },
      "execution_count": 55,
      "outputs": [
        {
          "output_type": "stream",
          "name": "stdout",
          "text": [
            "313/313 [==============================] - 1s 2ms/step - loss: 2.3012 - accuracy: 0.1135\n"
          ]
        },
        {
          "output_type": "execute_result",
          "data": {
            "text/plain": [
              "[2.3012125492095947, 0.11349999904632568]"
            ]
          },
          "metadata": {},
          "execution_count": 55
        }
      ]
    },
    {
      "cell_type": "code",
      "source": [
        ""
      ],
      "metadata": {
        "id": "zmcTpTUPqRDH"
      },
      "execution_count": null,
      "outputs": []
    },
    {
      "cell_type": "code",
      "source": [
        ""
      ],
      "metadata": {
        "id": "rFbFpu6vqRFl"
      },
      "execution_count": null,
      "outputs": []
    },
    {
      "cell_type": "code",
      "source": [
        ""
      ],
      "metadata": {
        "id": "9GLOQXwxqRHi"
      },
      "execution_count": null,
      "outputs": []
    }
  ],
  "metadata": {
    "colab": {
      "collapsed_sections": [],
      "name": "lesson4-1",
      "provenance": [],
      "mount_file_id": "1icy6ktlHyEjWqB9ib9eKXwt1RoFbiUuQ",
      "authorship_tag": "ABX9TyNuFKVzlI3yJaKKVC+ezdOO"
    },
    "gpuClass": "standard",
    "kernelspec": {
      "display_name": "Python 3",
      "name": "python3"
    },
    "language_info": {
      "name": "python"
    }
  },
  "nbformat": 4,
  "nbformat_minor": 0
}