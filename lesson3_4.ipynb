{
  "cells": [
    {
      "cell_type": "code",
      "execution_count": 55,
      "metadata": {
        "id": "-DUwFYPKRTJF"
      },
      "outputs": [],
      "source": [
        "%matplotlib inline\n",
        "\n",
        "import pandas as pd\n",
        "\n",
        "# データの読み込み（データセット中のYのみロード）\n",
        "dataframe = pd.read_csv('/content/drive/MyDrive/international-airline-passengers.csv', usecols=[1], engine='python', skipfooter=3)\n",
        "dataset = dataframe.values.astype('float32')"
      ]
    },
    {
      "cell_type": "code",
      "source": [
        "from sklearn.preprocessing import MinMaxScaler\n",
        "\n",
        "scaler = MinMaxScaler(feature_range=(0, 1))\n",
        "dataset = scaler.fit_transform(dataset)"
      ],
      "metadata": {
        "id": "ZHMJPSHebrf4"
      },
      "execution_count": 56,
      "outputs": []
    },
    {
      "cell_type": "code",
      "source": [
        "# 訓練データとテストデータを分割（時系列の予測が目的のため、ある時点から先をテストデータとする）\n",
        "train_size = int(len(dataset) * 0.67)\n",
        "test_size = len(dataset) - train_size\n",
        "train, test = dataset[0:train_size,:], dataset[train_size:len(dataset),:]"
      ],
      "metadata": {
        "id": "8s6XwGX39m5N"
      },
      "execution_count": 57,
      "outputs": []
    },
    {
      "cell_type": "code",
      "source": [
        "import numpy as np\n",
        "\n",
        "# X=[data[t-look_back],...,data[t-1]], Y=data[t]となるデータセットに変換\n",
        "def create_dataset(dataset, look_back=1):\n",
        "    dataX, dataY = [], []\n",
        "    for i in range(len(dataset)-look_back-1):\n",
        "        a = dataset[i:(i+look_back), 0]\n",
        "        dataX.append(a)\n",
        "        dataY.append(dataset[i + look_back, 0])\n",
        "    return np.array(dataX), np.array(dataY)\n",
        "\n",
        "look_back = 3\n",
        "trainX, trainY = create_dataset(train, look_back)\n",
        "testX, testY = create_dataset(test, look_back)\n",
        "\n",
        "# [samples, time steps, features]へ変形（LSTMに与える入力は (サンプル, 時刻, 特徴量の次元) の3次元になる。）\n",
        "# see: https://own-search-and-study.xyz/2018/09/17/keras%E3%81%A7lstm%E3%82%92%E5%AD%A6%E7%BF%92%E3%81%99%E3%82%8B%E6%89%8B%E9%A0%86%E3%82%92%E6%95%B4%E7%90%86%E3%81%97%E3%81%A6%E3%81%BF%E3%81%9F/\n",
        "#      https://qiita.com/everylittle/items/ba821e93d275a421ca2b\n",
        "trainX = np.reshape(trainX, (trainX.shape[0], trainX.shape[1], 1))\n",
        "testX = np.reshape(testX, (testX.shape[0], testX.shape[1], 1))"
      ],
      "metadata": {
        "id": "1IPUMXzn9m7W"
      },
      "execution_count": 88,
      "outputs": []
    },
    {
      "cell_type": "code",
      "source": [
        "from tensorflow.keras.models import Sequential\n",
        "from tensorflow.keras.layers import Dense, Activation, LSTM\n",
        "\n",
        "# LSTMにDenseを接続し、数値を予測（MSEで評価）\n",
        "model = Sequential()\n",
        "\n",
        "model.add(LSTM(4, input_shape=(look_back, 1))) # input_shape=(系列長T, x_tの次元), output_shape=(units,)\n",
        "model.add(Dense(1))\n",
        "\n",
        "model.compile(loss='mean_squared_error', optimizer='adam')"
      ],
      "metadata": {
        "id": "vP9ezf1j9m9Y"
      },
      "execution_count": 59,
      "outputs": []
    },
    {
      "cell_type": "code",
      "source": [
        "model.fit(trainX, trainY, batch_size=1, epochs=100, verbose=2)"
      ],
      "metadata": {
        "colab": {
          "base_uri": "https://localhost:8080/"
        },
        "id": "79Mc2cxR9m_Q",
        "outputId": "9508471a-a80b-4c27-f29a-49354ff75cde"
      },
      "execution_count": 60,
      "outputs": [
        {
          "output_type": "stream",
          "name": "stdout",
          "text": [
            "Epoch 1/100\n",
            "92/92 - 1s - loss: 0.0949 - 1s/epoch - 16ms/step\n",
            "Epoch 2/100\n",
            "92/92 - 0s - loss: 0.0401 - 218ms/epoch - 2ms/step\n",
            "Epoch 3/100\n",
            "92/92 - 0s - loss: 0.0291 - 216ms/epoch - 2ms/step\n",
            "Epoch 4/100\n",
            "92/92 - 0s - loss: 0.0254 - 217ms/epoch - 2ms/step\n",
            "Epoch 5/100\n",
            "92/92 - 0s - loss: 0.0226 - 216ms/epoch - 2ms/step\n",
            "Epoch 6/100\n",
            "92/92 - 0s - loss: 0.0201 - 221ms/epoch - 2ms/step\n",
            "Epoch 7/100\n",
            "92/92 - 0s - loss: 0.0179 - 214ms/epoch - 2ms/step\n",
            "Epoch 8/100\n",
            "92/92 - 0s - loss: 0.0158 - 220ms/epoch - 2ms/step\n",
            "Epoch 9/100\n",
            "92/92 - 0s - loss: 0.0138 - 215ms/epoch - 2ms/step\n",
            "Epoch 10/100\n",
            "92/92 - 0s - loss: 0.0120 - 205ms/epoch - 2ms/step\n",
            "Epoch 11/100\n",
            "92/92 - 0s - loss: 0.0104 - 224ms/epoch - 2ms/step\n",
            "Epoch 12/100\n",
            "92/92 - 0s - loss: 0.0090 - 218ms/epoch - 2ms/step\n",
            "Epoch 13/100\n",
            "92/92 - 0s - loss: 0.0079 - 215ms/epoch - 2ms/step\n",
            "Epoch 14/100\n",
            "92/92 - 0s - loss: 0.0067 - 218ms/epoch - 2ms/step\n",
            "Epoch 15/100\n",
            "92/92 - 0s - loss: 0.0061 - 216ms/epoch - 2ms/step\n",
            "Epoch 16/100\n",
            "92/92 - 0s - loss: 0.0057 - 227ms/epoch - 2ms/step\n",
            "Epoch 17/100\n",
            "92/92 - 0s - loss: 0.0052 - 209ms/epoch - 2ms/step\n",
            "Epoch 18/100\n",
            "92/92 - 0s - loss: 0.0051 - 214ms/epoch - 2ms/step\n",
            "Epoch 19/100\n",
            "92/92 - 0s - loss: 0.0049 - 221ms/epoch - 2ms/step\n",
            "Epoch 20/100\n",
            "92/92 - 0s - loss: 0.0046 - 221ms/epoch - 2ms/step\n",
            "Epoch 21/100\n",
            "92/92 - 0s - loss: 0.0046 - 218ms/epoch - 2ms/step\n",
            "Epoch 22/100\n",
            "92/92 - 0s - loss: 0.0046 - 216ms/epoch - 2ms/step\n",
            "Epoch 23/100\n",
            "92/92 - 0s - loss: 0.0046 - 218ms/epoch - 2ms/step\n",
            "Epoch 24/100\n",
            "92/92 - 0s - loss: 0.0045 - 221ms/epoch - 2ms/step\n",
            "Epoch 25/100\n",
            "92/92 - 0s - loss: 0.0046 - 224ms/epoch - 2ms/step\n",
            "Epoch 26/100\n",
            "92/92 - 0s - loss: 0.0044 - 216ms/epoch - 2ms/step\n",
            "Epoch 27/100\n",
            "92/92 - 0s - loss: 0.0044 - 215ms/epoch - 2ms/step\n",
            "Epoch 28/100\n",
            "92/92 - 0s - loss: 0.0045 - 214ms/epoch - 2ms/step\n",
            "Epoch 29/100\n",
            "92/92 - 0s - loss: 0.0043 - 228ms/epoch - 2ms/step\n",
            "Epoch 30/100\n",
            "92/92 - 0s - loss: 0.0044 - 226ms/epoch - 2ms/step\n",
            "Epoch 31/100\n",
            "92/92 - 0s - loss: 0.0044 - 212ms/epoch - 2ms/step\n",
            "Epoch 32/100\n",
            "92/92 - 0s - loss: 0.0043 - 213ms/epoch - 2ms/step\n",
            "Epoch 33/100\n",
            "92/92 - 0s - loss: 0.0044 - 218ms/epoch - 2ms/step\n",
            "Epoch 34/100\n",
            "92/92 - 0s - loss: 0.0042 - 227ms/epoch - 2ms/step\n",
            "Epoch 35/100\n",
            "92/92 - 0s - loss: 0.0043 - 213ms/epoch - 2ms/step\n",
            "Epoch 36/100\n",
            "92/92 - 0s - loss: 0.0042 - 214ms/epoch - 2ms/step\n",
            "Epoch 37/100\n",
            "92/92 - 0s - loss: 0.0044 - 219ms/epoch - 2ms/step\n",
            "Epoch 38/100\n",
            "92/92 - 0s - loss: 0.0042 - 222ms/epoch - 2ms/step\n",
            "Epoch 39/100\n",
            "92/92 - 0s - loss: 0.0043 - 224ms/epoch - 2ms/step\n",
            "Epoch 40/100\n",
            "92/92 - 0s - loss: 0.0041 - 216ms/epoch - 2ms/step\n",
            "Epoch 41/100\n",
            "92/92 - 0s - loss: 0.0041 - 220ms/epoch - 2ms/step\n",
            "Epoch 42/100\n",
            "92/92 - 0s - loss: 0.0042 - 225ms/epoch - 2ms/step\n",
            "Epoch 43/100\n",
            "92/92 - 0s - loss: 0.0040 - 234ms/epoch - 3ms/step\n",
            "Epoch 44/100\n",
            "92/92 - 0s - loss: 0.0039 - 215ms/epoch - 2ms/step\n",
            "Epoch 45/100\n",
            "92/92 - 0s - loss: 0.0042 - 214ms/epoch - 2ms/step\n",
            "Epoch 46/100\n",
            "92/92 - 0s - loss: 0.0040 - 213ms/epoch - 2ms/step\n",
            "Epoch 47/100\n",
            "92/92 - 0s - loss: 0.0040 - 220ms/epoch - 2ms/step\n",
            "Epoch 48/100\n",
            "92/92 - 0s - loss: 0.0040 - 223ms/epoch - 2ms/step\n",
            "Epoch 49/100\n",
            "92/92 - 0s - loss: 0.0039 - 205ms/epoch - 2ms/step\n",
            "Epoch 50/100\n",
            "92/92 - 0s - loss: 0.0039 - 211ms/epoch - 2ms/step\n",
            "Epoch 51/100\n",
            "92/92 - 0s - loss: 0.0039 - 219ms/epoch - 2ms/step\n",
            "Epoch 52/100\n",
            "92/92 - 0s - loss: 0.0039 - 218ms/epoch - 2ms/step\n",
            "Epoch 53/100\n",
            "92/92 - 0s - loss: 0.0040 - 220ms/epoch - 2ms/step\n",
            "Epoch 54/100\n",
            "92/92 - 0s - loss: 0.0039 - 214ms/epoch - 2ms/step\n",
            "Epoch 55/100\n",
            "92/92 - 0s - loss: 0.0039 - 209ms/epoch - 2ms/step\n",
            "Epoch 56/100\n",
            "92/92 - 0s - loss: 0.0038 - 220ms/epoch - 2ms/step\n",
            "Epoch 57/100\n",
            "92/92 - 0s - loss: 0.0038 - 227ms/epoch - 2ms/step\n",
            "Epoch 58/100\n",
            "92/92 - 0s - loss: 0.0037 - 213ms/epoch - 2ms/step\n",
            "Epoch 59/100\n",
            "92/92 - 0s - loss: 0.0039 - 220ms/epoch - 2ms/step\n",
            "Epoch 60/100\n",
            "92/92 - 0s - loss: 0.0038 - 219ms/epoch - 2ms/step\n",
            "Epoch 61/100\n",
            "92/92 - 0s - loss: 0.0037 - 224ms/epoch - 2ms/step\n",
            "Epoch 62/100\n",
            "92/92 - 0s - loss: 0.0038 - 215ms/epoch - 2ms/step\n",
            "Epoch 63/100\n",
            "92/92 - 0s - loss: 0.0038 - 212ms/epoch - 2ms/step\n",
            "Epoch 64/100\n",
            "92/92 - 0s - loss: 0.0038 - 205ms/epoch - 2ms/step\n",
            "Epoch 65/100\n",
            "92/92 - 0s - loss: 0.0038 - 214ms/epoch - 2ms/step\n",
            "Epoch 66/100\n",
            "92/92 - 0s - loss: 0.0037 - 228ms/epoch - 2ms/step\n",
            "Epoch 67/100\n",
            "92/92 - 0s - loss: 0.0037 - 221ms/epoch - 2ms/step\n",
            "Epoch 68/100\n",
            "92/92 - 0s - loss: 0.0037 - 212ms/epoch - 2ms/step\n",
            "Epoch 69/100\n",
            "92/92 - 0s - loss: 0.0037 - 208ms/epoch - 2ms/step\n",
            "Epoch 70/100\n",
            "92/92 - 0s - loss: 0.0036 - 208ms/epoch - 2ms/step\n",
            "Epoch 71/100\n",
            "92/92 - 0s - loss: 0.0037 - 222ms/epoch - 2ms/step\n",
            "Epoch 72/100\n",
            "92/92 - 0s - loss: 0.0036 - 216ms/epoch - 2ms/step\n",
            "Epoch 73/100\n",
            "92/92 - 0s - loss: 0.0035 - 211ms/epoch - 2ms/step\n",
            "Epoch 74/100\n",
            "92/92 - 0s - loss: 0.0036 - 214ms/epoch - 2ms/step\n",
            "Epoch 75/100\n",
            "92/92 - 0s - loss: 0.0037 - 220ms/epoch - 2ms/step\n",
            "Epoch 76/100\n",
            "92/92 - 0s - loss: 0.0035 - 217ms/epoch - 2ms/step\n",
            "Epoch 77/100\n",
            "92/92 - 0s - loss: 0.0035 - 226ms/epoch - 2ms/step\n",
            "Epoch 78/100\n",
            "92/92 - 0s - loss: 0.0037 - 218ms/epoch - 2ms/step\n",
            "Epoch 79/100\n",
            "92/92 - 0s - loss: 0.0036 - 210ms/epoch - 2ms/step\n",
            "Epoch 80/100\n",
            "92/92 - 0s - loss: 0.0035 - 225ms/epoch - 2ms/step\n",
            "Epoch 81/100\n",
            "92/92 - 0s - loss: 0.0034 - 224ms/epoch - 2ms/step\n",
            "Epoch 82/100\n",
            "92/92 - 0s - loss: 0.0035 - 216ms/epoch - 2ms/step\n",
            "Epoch 83/100\n",
            "92/92 - 0s - loss: 0.0035 - 216ms/epoch - 2ms/step\n",
            "Epoch 84/100\n",
            "92/92 - 0s - loss: 0.0034 - 221ms/epoch - 2ms/step\n",
            "Epoch 85/100\n",
            "92/92 - 0s - loss: 0.0034 - 211ms/epoch - 2ms/step\n",
            "Epoch 86/100\n",
            "92/92 - 0s - loss: 0.0034 - 218ms/epoch - 2ms/step\n",
            "Epoch 87/100\n",
            "92/92 - 0s - loss: 0.0035 - 219ms/epoch - 2ms/step\n",
            "Epoch 88/100\n",
            "92/92 - 0s - loss: 0.0034 - 222ms/epoch - 2ms/step\n",
            "Epoch 89/100\n",
            "92/92 - 0s - loss: 0.0033 - 227ms/epoch - 2ms/step\n",
            "Epoch 90/100\n",
            "92/92 - 0s - loss: 0.0034 - 217ms/epoch - 2ms/step\n",
            "Epoch 91/100\n",
            "92/92 - 0s - loss: 0.0033 - 216ms/epoch - 2ms/step\n",
            "Epoch 92/100\n",
            "92/92 - 0s - loss: 0.0034 - 218ms/epoch - 2ms/step\n",
            "Epoch 93/100\n",
            "92/92 - 0s - loss: 0.0034 - 223ms/epoch - 2ms/step\n",
            "Epoch 94/100\n",
            "92/92 - 0s - loss: 0.0032 - 222ms/epoch - 2ms/step\n",
            "Epoch 95/100\n",
            "92/92 - 0s - loss: 0.0032 - 222ms/epoch - 2ms/step\n",
            "Epoch 96/100\n",
            "92/92 - 0s - loss: 0.0032 - 216ms/epoch - 2ms/step\n",
            "Epoch 97/100\n",
            "92/92 - 0s - loss: 0.0031 - 211ms/epoch - 2ms/step\n",
            "Epoch 98/100\n",
            "92/92 - 0s - loss: 0.0033 - 216ms/epoch - 2ms/step\n",
            "Epoch 99/100\n",
            "92/92 - 0s - loss: 0.0032 - 210ms/epoch - 2ms/step\n",
            "Epoch 100/100\n",
            "92/92 - 0s - loss: 0.0029 - 213ms/epoch - 2ms/step\n"
          ]
        },
        {
          "output_type": "execute_result",
          "data": {
            "text/plain": [
              "<keras.callbacks.History at 0x7fadea466790>"
            ]
          },
          "metadata": {},
          "execution_count": 60
        }
      ]
    },
    {
      "cell_type": "code",
      "source": [
        "import math\n",
        "from sklearn.metrics import mean_squared_error\n",
        "\n",
        "# テストデータに対する予測（評価のため訓練データも）\n",
        "trainPredict = model.predict(trainX)\n",
        "testPredict = model.predict(testX)\n",
        "\n",
        "# 正規化を元に戻す\n",
        "trainPredict = scaler.inverse_transform(trainPredict)\n",
        "trainY = scaler.inverse_transform([trainY])\n",
        "testPredict = scaler.inverse_transform(testPredict)\n",
        "testY = scaler.inverse_transform([testY])\n",
        "\n",
        "# 平均二乗誤差のルートで評価\n",
        "trainScore = math.sqrt(mean_squared_error(trainY[0], trainPredict[:,0]))\n",
        "print('Train RMSE: %.2f' % (trainScore))\n",
        "testScore = math.sqrt(mean_squared_error(testY[0], testPredict[:,0]))\n",
        "print('Test RMSE: %.2f' % (testScore))"
      ],
      "metadata": {
        "colab": {
          "base_uri": "https://localhost:8080/"
        },
        "id": "fjo9iUM_Ax5v",
        "outputId": "f2bcdce8-bc46-4eaf-f8a3-b576de7f811b"
      },
      "execution_count": 61,
      "outputs": [
        {
          "output_type": "stream",
          "name": "stdout",
          "text": [
            "Train RMSE: 27.79\n",
            "Test RMSE: 62.47\n"
          ]
        }
      ]
    },
    {
      "cell_type": "code",
      "source": [
        "from sklearn.utils.fixes import threadpool_info\n",
        "import matplotlib.pyplot as plt\n",
        "\n",
        "# 訓練データ部分の予測データ\n",
        "trainPredictPlot = np.empty_like(dataset)\n",
        "trainPredictPlot[:, :] = np.nan\n",
        "trainPredictPlot[look_back:len(trainPredict)+look_back, :] = trainPredict\n",
        "\n",
        "# テストデータ部分の予測データ\n",
        "testPredictPlot = np.empty_like(dataset)\n",
        "testPredictPlot[:, :] = np.nan\n",
        "testPredictPlot[len(trainPredict)+(look_back*2)+1:len(dataset)-1, :] = testPredict\n",
        "\n",
        "plt.plot(scaler.inverse_transform(dataset), label='Dataset')\n",
        "plt.plot(trainPredictPlot, label='Prediction under train data')\n",
        "plt.plot(testPredictPlot, label='Prediction under test data')\n",
        "plt.legend()\n",
        "plt.show()"
      ],
      "metadata": {
        "colab": {
          "base_uri": "https://localhost:8080/",
          "height": 265
        },
        "id": "xxJ6YKArAyA0",
        "outputId": "d8b8ae2a-1826-4fd7-a2c7-68fdcdde8b2f"
      },
      "execution_count": 77,
      "outputs": [
        {
          "output_type": "display_data",
          "data": {
            "text/plain": [
              "<Figure size 432x288 with 1 Axes>"
            ],
            "image/png": "[encoded data removed]"
          },
          "metadata": {
            "needs_background": "light"
          }
        }
      ]
    },
    {
      "cell_type": "code",
      "source": [
        "# from IPython.display import SVG\n",
        "# from tensorflow.python.keras.utils.vis_utils import model_to_dot\n",
        "\n",
        "# SVG(model_to_dot(model).create(prog='dot', format='svg'))\n",
        "model.summary()"
      ],
      "metadata": {
        "colab": {
          "base_uri": "https://localhost:8080/"
        },
        "id": "Ga6b4Zs2AyIY",
        "outputId": "458842f1-5e58-45c7-d7ee-efe7dd9bfc3d"
      },
      "execution_count": 79,
      "outputs": [
        {
          "output_type": "stream",
          "name": "stdout",
          "text": [
            "Model: \"sequential_6\"\n",
            "_________________________________________________________________\n",
            " Layer (type)                Output Shape              Param #   \n",
            "=================================================================\n",
            " lstm_6 (LSTM)               (None, 4)                 96        \n",
            "                                                                 \n",
            " dense_5 (Dense)             (None, 1)                 5         \n",
            "                                                                 \n",
            "=================================================================\n",
            "Total params: 101\n",
            "Trainable params: 101\n",
            "Non-trainable params: 0\n",
            "_________________________________________________________________\n"
          ]
        }
      ]
    }
  ],
  "metadata": {
    "accelerator": "GPU",
    "colab": {
      "collapsed_sections": [],
      "name": "lesson3-4",
      "provenance": [],
      "mount_file_id": "1icy6ktlHyEjWqB9ib9eKXwt1RoFbiUuQ",
      "authorship_tag": "ABX9TyMWB0II10EtFN9Pqkabn07d"
    },
    "gpuClass": "standard",
    "kernelspec": {
      "display_name": "Python 3",
      "name": "python3"
    },
    "language_info": {
      "name": "python"
    }
  },
  "nbformat": 4,
  "nbformat_minor": 0
}