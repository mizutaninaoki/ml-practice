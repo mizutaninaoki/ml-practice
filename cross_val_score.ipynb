{
  "nbformat": 4,
  "nbformat_minor": 0,
  "metadata": {
    "colab": {
      "name": "cross_val_score.ipynb",
      "provenance": [],
      "collapsed_sections": [],
      "authorship_tag": "ABX9TyOFecY+08BfTZaa6cegPXif"
    },
    "kernelspec": {
      "name": "python3",
      "display_name": "Python 3"
    },
    "language_info": {
      "name": "python"
    }
  },
  "cells": [
    {
      "cell_type": "code",
      "execution_count": 137,
      "metadata": {
        "colab": {
          "base_uri": "https://localhost:8080/"
        },
        "id": "2FC7TTn2MOpT",
        "outputId": "c9efcdc0-8570-4d22-e936-d158e08b40c8"
      },
      "outputs": [
        {
          "output_type": "execute_result",
          "data": {
            "text/plain": [
              "0.6984572230014026"
            ]
          },
          "metadata": {},
          "execution_count": 137
        }
      ],
      "source": [
        "from pandas.io.parsers.readers import TextFileReader\n",
        "from sklearn import svm\n",
        "from sklearn.model_selection import cross_val_score\n",
        "import pandas as pd\n",
        "\n",
        "############################\n",
        "# タイタニックのCSVを使用しています\n",
        "############################\n",
        "df_train = pd.read_csv('train.csv')\n",
        "df_test = pd.read_csv('test.csv')\n",
        "\n",
        "df_train_fe = df_train\n",
        "df_test_fe = df_test\n",
        "\n",
        "exclude_columns = [\n",
        "    'Name',\n",
        "    'Ticket',\n",
        "    'PassengerId',\n",
        "    'Cabin',\n",
        "    'Survived'             \n",
        "]\n",
        "features = [c for c in df_train_fe if c not in exclude_columns]\n",
        "\n",
        "svm = svm.SVC()\n",
        "## Cross-Validation\n",
        "df_train_fe[features]\n",
        "df_train_fe[\"Survived\"]\n",
        "\n",
        "female_mean_age = df_train_fe[df_train_fe[\"Sex\"] == \"female\"][\"Age\"].mean()\n",
        "# df_train_fe[features].isnull().any()\n",
        "\n",
        "# 欠損値補完\n",
        "df_train_fe[\"Age\"] = df_train_fe[\"Age\"].fillna(df_train_fe[\"Age\"].median())\n",
        "import random\n",
        "df_train_fe[\"Embarked\"] = df_train_fe[\"Embarked\"].fillna(random.choice(['S', 'C', 'Q']))\n",
        "\n",
        "# pd.concat([df_train_fe, pd.get_dummies(df_train_fe[\"Embarked\"], drop_first=True, prefix=\"Embarked\")], axis=1)\n",
        "df_train_fe = pd.concat([df_train_fe[features], pd.get_dummies(df_train_fe[\"Embarked\"], prefix=\"Embarked\")], axis=1).drop(columns=[\"Embarked\"])\n",
        "df_train_fe = pd.concat([df_train_fe, pd.get_dummies(df_train_fe[\"Sex\"], drop_first=True)], axis=1).drop(columns=[\"Sex\"])\n",
        "df_train_fe\n",
        "\n",
        "# 決定木で普通に分類した場合\n",
        "from sklearn.tree import DecisionTreeClassifier\n",
        "from sklearn.model_selection import train_test_split\n",
        "X_train, X_test, y_train, y_test = train_test_split(df_train_fe, df_train[\"Survived\"], train_size=0.2, random_state=0)\n",
        "\n",
        "model = DecisionTreeClassifier()\n",
        "model.fit(X_train, y_train)\n",
        "# model.predict(X_test)\n",
        "model.score(X_test, y_test)"
      ]
    },
    {
      "cell_type": "code",
      "source": [
        "# K分割してからSVMで予測した場合\n",
        "score = cross_val_score(svm, df_train_fe, df_train[\"Survived\"], scoring='roc_auc', cv=5, n_jobs=1)\n",
        "score.mean()"
      ],
      "metadata": {
        "colab": {
          "base_uri": "https://localhost:8080/"
        },
        "id": "4wcSHXxyPnyD",
        "outputId": "ff78e234-7e73-4c8f-f4cc-17f739ed98ea"
      },
      "execution_count": 139,
      "outputs": [
        {
          "output_type": "execute_result",
          "data": {
            "text/plain": [
              "0.7381530289165381"
            ]
          },
          "metadata": {},
          "execution_count": 139
        }
      ]
    }
  ]
}