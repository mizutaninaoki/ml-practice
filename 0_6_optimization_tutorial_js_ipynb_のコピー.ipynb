{
  "nbformat": 4,
  "nbformat_minor": 0,
  "metadata": {
    "kernelspec": {
      "display_name": "Python 3",
      "language": "python",
      "name": "python3"
    },
    "language_info": {
      "codemirror_mode": {
        "name": "ipython",
        "version": 3
      },
      "file_extension": ".py",
      "mimetype": "text/x-python",
      "name": "python",
      "nbconvert_exporter": "python",
      "pygments_lexer": "ipython3",
      "version": "3.6.12"
    },
    "colab": {
      "provenance": [],
      "collapsed_sections": [],
      "toc_visible": true
    },
    "widgets": {
      "application/vnd.jupyter.widget-state+json": {
        "e678c0caffb64bd192461f0f7770d8d6": {
          "model_module": "@jupyter-widgets/controls",
          "model_name": "HBoxModel",
          "model_module_version": "1.5.0",
          "state": {
            "_dom_classes": [],
            "_model_module": "@jupyter-widgets/controls",
            "_model_module_version": "1.5.0",
            "_model_name": "HBoxModel",
            "_view_count": null,
            "_view_module": "@jupyter-widgets/controls",
            "_view_module_version": "1.5.0",
            "_view_name": "HBoxView",
            "box_style": "",
            "children": [
              "IPY_MODEL_cca380e84af3422ab931ba4077c56e14",
              "IPY_MODEL_77a9f531c70549a285a20ec7d941ee17",
              "IPY_MODEL_7b19476c3d0549cbb18ae44804c93ef7"
            ],
            "layout": "IPY_MODEL_ad7180f9de4d4bb6aa7753b320cc8812"
          }
        },
        "cca380e84af3422ab931ba4077c56e14": {
          "model_module": "@jupyter-widgets/controls",
          "model_name": "HTMLModel",
          "model_module_version": "1.5.0",
          "state": {
            "_dom_classes": [],
            "_model_module": "@jupyter-widgets/controls",
            "_model_module_version": "1.5.0",
            "_model_name": "HTMLModel",
            "_view_count": null,
            "_view_module": "@jupyter-widgets/controls",
            "_view_module_version": "1.5.0",
            "_view_name": "HTMLView",
            "description": "",
            "description_tooltip": null,
            "layout": "IPY_MODEL_e2e98784fab5478aaff810ada4cfece6",
            "placeholder": "​",
            "style": "IPY_MODEL_3581237c15ee48cd8235f00d7e507d13",
            "value": "100%"
          }
        },
        "77a9f531c70549a285a20ec7d941ee17": {
          "model_module": "@jupyter-widgets/controls",
          "model_name": "FloatProgressModel",
          "model_module_version": "1.5.0",
          "state": {
            "_dom_classes": [],
            "_model_module": "@jupyter-widgets/controls",
            "_model_module_version": "1.5.0",
            "_model_name": "FloatProgressModel",
            "_view_count": null,
            "_view_module": "@jupyter-widgets/controls",
            "_view_module_version": "1.5.0",
            "_view_name": "ProgressView",
            "bar_style": "success",
            "description": "",
            "description_tooltip": null,
            "layout": "IPY_MODEL_7bff93c50f3645e9b828826e809f6485",
            "max": 26421880,
            "min": 0,
            "orientation": "horizontal",
            "style": "IPY_MODEL_57e77521ad5f43e497354b75d455fbb7",
            "value": 26421880
          }
        },
        "7b19476c3d0549cbb18ae44804c93ef7": {
          "model_module": "@jupyter-widgets/controls",
          "model_name": "HTMLModel",
          "model_module_version": "1.5.0",
          "state": {
            "_dom_classes": [],
            "_model_module": "@jupyter-widgets/controls",
            "_model_module_version": "1.5.0",
            "_model_name": "HTMLModel",
            "_view_count": null,
            "_view_module": "@jupyter-widgets/controls",
            "_view_module_version": "1.5.0",
            "_view_name": "HTMLView",
            "description": "",
            "description_tooltip": null,
            "layout": "IPY_MODEL_d7fcdf052ef44e2da90a6013ad3d5aeb",
            "placeholder": "​",
            "style": "IPY_MODEL_f95d7c68416d4d108a57942a402eea7e",
            "value": " 26421880/26421880 [00:01&lt;00:00, 26880733.71it/s]"
          }
        },
        "ad7180f9de4d4bb6aa7753b320cc8812": {
          "model_module": "@jupyter-widgets/base",
          "model_name": "LayoutModel",
          "model_module_version": "1.2.0",
          "state": {
            "_model_module": "@jupyter-widgets/base",
            "_model_module_version": "1.2.0",
            "_model_name": "LayoutModel",
            "_view_count": null,
            "_view_module": "@jupyter-widgets/base",
            "_view_module_version": "1.2.0",
            "_view_name": "LayoutView",
            "align_content": null,
            "align_items": null,
            "align_self": null,
            "border": null,
            "bottom": null,
            "display": null,
            "flex": null,
            "flex_flow": null,
            "grid_area": null,
            "grid_auto_columns": null,
            "grid_auto_flow": null,
            "grid_auto_rows": null,
            "grid_column": null,
            "grid_gap": null,
            "grid_row": null,
            "grid_template_areas": null,
            "grid_template_columns": null,
            "grid_template_rows": null,
            "height": null,
            "justify_content": null,
            "justify_items": null,
            "left": null,
            "margin": null,
            "max_height": null,
            "max_width": null,
            "min_height": null,
            "min_width": null,
            "object_fit": null,
            "object_position": null,
            "order": null,
            "overflow": null,
            "overflow_x": null,
            "overflow_y": null,
            "padding": null,
            "right": null,
            "top": null,
            "visibility": null,
            "width": null
          }
        },
        "e2e98784fab5478aaff810ada4cfece6": {
          "model_module": "@jupyter-widgets/base",
          "model_name": "LayoutModel",
          "model_module_version": "1.2.0",
          "state": {
            "_model_module": "@jupyter-widgets/base",
            "_model_module_version": "1.2.0",
            "_model_name": "LayoutModel",
            "_view_count": null,
            "_view_module": "@jupyter-widgets/base",
            "_view_module_version": "1.2.0",
            "_view_name": "LayoutView",
            "align_content": null,
            "align_items": null,
            "align_self": null,
            "border": null,
            "bottom": null,
            "display": null,
            "flex": null,
            "flex_flow": null,
            "grid_area": null,
            "grid_auto_columns": null,
            "grid_auto_flow": null,
            "grid_auto_rows": null,
            "grid_column": null,
            "grid_gap": null,
            "grid_row": null,
            "grid_template_areas": null,
            "grid_template_columns": null,
            "grid_template_rows": null,
            "height": null,
            "justify_content": null,
            "justify_items": null,
            "left": null,
            "margin": null,
            "max_height": null,
            "max_width": null,
            "min_height": null,
            "min_width": null,
            "object_fit": null,
            "object_position": null,
            "order": null,
            "overflow": null,
            "overflow_x": null,
            "overflow_y": null,
            "padding": null,
            "right": null,
            "top": null,
            "visibility": null,
            "width": null
          }
        },
        "3581237c15ee48cd8235f00d7e507d13": {
          "model_module": "@jupyter-widgets/controls",
          "model_name": "DescriptionStyleModel",
          "model_module_version": "1.5.0",
          "state": {
            "_model_module": "@jupyter-widgets/controls",
            "_model_module_version": "1.5.0",
            "_model_name": "DescriptionStyleModel",
            "_view_count": null,
            "_view_module": "@jupyter-widgets/base",
            "_view_module_version": "1.2.0",
            "_view_name": "StyleView",
            "description_width": ""
          }
        },
        "7bff93c50f3645e9b828826e809f6485": {
          "model_module": "@jupyter-widgets/base",
          "model_name": "LayoutModel",
          "model_module_version": "1.2.0",
          "state": {
            "_model_module": "@jupyter-widgets/base",
            "_model_module_version": "1.2.0",
            "_model_name": "LayoutModel",
            "_view_count": null,
            "_view_module": "@jupyter-widgets/base",
            "_view_module_version": "1.2.0",
            "_view_name": "LayoutView",
            "align_content": null,
            "align_items": null,
            "align_self": null,
            "border": null,
            "bottom": null,
            "display": null,
            "flex": null,
            "flex_flow": null,
            "grid_area": null,
            "grid_auto_columns": null,
            "grid_auto_flow": null,
            "grid_auto_rows": null,
            "grid_column": null,
            "grid_gap": null,
            "grid_row": null,
            "grid_template_areas": null,
            "grid_template_columns": null,
            "grid_template_rows": null,
            "height": null,
            "justify_content": null,
            "justify_items": null,
            "left": null,
            "margin": null,
            "max_height": null,
            "max_width": null,
            "min_height": null,
            "min_width": null,
            "object_fit": null,
            "object_position": null,
            "order": null,
            "overflow": null,
            "overflow_x": null,
            "overflow_y": null,
            "padding": null,
            "right": null,
            "top": null,
            "visibility": null,
            "width": null
          }
        },
        "57e77521ad5f43e497354b75d455fbb7": {
          "model_module": "@jupyter-widgets/controls",
          "model_name": "ProgressStyleModel",
          "model_module_version": "1.5.0",
          "state": {
            "_model_module": "@jupyter-widgets/controls",
            "_model_module_version": "1.5.0",
            "_model_name": "ProgressStyleModel",
            "_view_count": null,
            "_view_module": "@jupyter-widgets/base",
            "_view_module_version": "1.2.0",
            "_view_name": "StyleView",
            "bar_color": null,
            "description_width": ""
          }
        },
        "d7fcdf052ef44e2da90a6013ad3d5aeb": {
          "model_module": "@jupyter-widgets/base",
          "model_name": "LayoutModel",
          "model_module_version": "1.2.0",
          "state": {
            "_model_module": "@jupyter-widgets/base",
            "_model_module_version": "1.2.0",
            "_model_name": "LayoutModel",
            "_view_count": null,
            "_view_module": "@jupyter-widgets/base",
            "_view_module_version": "1.2.0",
            "_view_name": "LayoutView",
            "align_content": null,
            "align_items": null,
            "align_self": null,
            "border": null,
            "bottom": null,
            "display": null,
            "flex": null,
            "flex_flow": null,
            "grid_area": null,
            "grid_auto_columns": null,
            "grid_auto_flow": null,
            "grid_auto_rows": null,
            "grid_column": null,
            "grid_gap": null,
            "grid_row": null,
            "grid_template_areas": null,
            "grid_template_columns": null,
            "grid_template_rows": null,
            "height": null,
            "justify_content": null,
            "justify_items": null,
            "left": null,
            "margin": null,
            "max_height": null,
            "max_width": null,
            "min_height": null,
            "min_width": null,
            "object_fit": null,
            "object_position": null,
            "order": null,
            "overflow": null,
            "overflow_x": null,
            "overflow_y": null,
            "padding": null,
            "right": null,
            "top": null,
            "visibility": null,
            "width": null
          }
        },
        "f95d7c68416d4d108a57942a402eea7e": {
          "model_module": "@jupyter-widgets/controls",
          "model_name": "DescriptionStyleModel",
          "model_module_version": "1.5.0",
          "state": {
            "_model_module": "@jupyter-widgets/controls",
            "_model_module_version": "1.5.0",
            "_model_name": "DescriptionStyleModel",
            "_view_count": null,
            "_view_module": "@jupyter-widgets/base",
            "_view_module_version": "1.2.0",
            "_view_name": "StyleView",
            "description_width": ""
          }
        },
        "f6469b18233c4c6cadcc602a7371f280": {
          "model_module": "@jupyter-widgets/controls",
          "model_name": "HBoxModel",
          "model_module_version": "1.5.0",
          "state": {
            "_dom_classes": [],
            "_model_module": "@jupyter-widgets/controls",
            "_model_module_version": "1.5.0",
            "_model_name": "HBoxModel",
            "_view_count": null,
            "_view_module": "@jupyter-widgets/controls",
            "_view_module_version": "1.5.0",
            "_view_name": "HBoxView",
            "box_style": "",
            "children": [
              "IPY_MODEL_6e04fb21dabe4ff0ad5dae5f660cef1c",
              "IPY_MODEL_a956622488f140949dd78adc1da4f85d",
              "IPY_MODEL_375f848966014f479c1c5050623f7427"
            ],
            "layout": "IPY_MODEL_b326c8d024d44272832d964e79feba0b"
          }
        },
        "6e04fb21dabe4ff0ad5dae5f660cef1c": {
          "model_module": "@jupyter-widgets/controls",
          "model_name": "HTMLModel",
          "model_module_version": "1.5.0",
          "state": {
            "_dom_classes": [],
            "_model_module": "@jupyter-widgets/controls",
            "_model_module_version": "1.5.0",
            "_model_name": "HTMLModel",
            "_view_count": null,
            "_view_module": "@jupyter-widgets/controls",
            "_view_module_version": "1.5.0",
            "_view_name": "HTMLView",
            "description": "",
            "description_tooltip": null,
            "layout": "IPY_MODEL_58e18ec22c3549d297afae0ca3652fc1",
            "placeholder": "​",
            "style": "IPY_MODEL_6f3dea12c2a146439da84fd9835524f5",
            "value": "100%"
          }
        },
        "a956622488f140949dd78adc1da4f85d": {
          "model_module": "@jupyter-widgets/controls",
          "model_name": "FloatProgressModel",
          "model_module_version": "1.5.0",
          "state": {
            "_dom_classes": [],
            "_model_module": "@jupyter-widgets/controls",
            "_model_module_version": "1.5.0",
            "_model_name": "FloatProgressModel",
            "_view_count": null,
            "_view_module": "@jupyter-widgets/controls",
            "_view_module_version": "1.5.0",
            "_view_name": "ProgressView",
            "bar_style": "success",
            "description": "",
            "description_tooltip": null,
            "layout": "IPY_MODEL_6fd985de22a942389f4ca7042e18fb7e",
            "max": 29515,
            "min": 0,
            "orientation": "horizontal",
            "style": "IPY_MODEL_73ac5e06d8b94466806630d2e73a04a9",
            "value": 29515
          }
        },
        "375f848966014f479c1c5050623f7427": {
          "model_module": "@jupyter-widgets/controls",
          "model_name": "HTMLModel",
          "model_module_version": "1.5.0",
          "state": {
            "_dom_classes": [],
            "_model_module": "@jupyter-widgets/controls",
            "_model_module_version": "1.5.0",
            "_model_name": "HTMLModel",
            "_view_count": null,
            "_view_module": "@jupyter-widgets/controls",
            "_view_module_version": "1.5.0",
            "_view_name": "HTMLView",
            "description": "",
            "description_tooltip": null,
            "layout": "IPY_MODEL_b222c895342f435e9563f4375b90a3a6",
            "placeholder": "​",
            "style": "IPY_MODEL_81f70f4e704e4d79a3b9f3bd24fbd82a",
            "value": " 29515/29515 [00:00&lt;00:00, 297279.43it/s]"
          }
        },
        "b326c8d024d44272832d964e79feba0b": {
          "model_module": "@jupyter-widgets/base",
          "model_name": "LayoutModel",
          "model_module_version": "1.2.0",
          "state": {
            "_model_module": "@jupyter-widgets/base",
            "_model_module_version": "1.2.0",
            "_model_name": "LayoutModel",
            "_view_count": null,
            "_view_module": "@jupyter-widgets/base",
            "_view_module_version": "1.2.0",
            "_view_name": "LayoutView",
            "align_content": null,
            "align_items": null,
            "align_self": null,
            "border": null,
            "bottom": null,
            "display": null,
            "flex": null,
            "flex_flow": null,
            "grid_area": null,
            "grid_auto_columns": null,
            "grid_auto_flow": null,
            "grid_auto_rows": null,
            "grid_column": null,
            "grid_gap": null,
            "grid_row": null,
            "grid_template_areas": null,
            "grid_template_columns": null,
            "grid_template_rows": null,
            "height": null,
            "justify_content": null,
            "justify_items": null,
            "left": null,
            "margin": null,
            "max_height": null,
            "max_width": null,
            "min_height": null,
            "min_width": null,
            "object_fit": null,
            "object_position": null,
            "order": null,
            "overflow": null,
            "overflow_x": null,
            "overflow_y": null,
            "padding": null,
            "right": null,
            "top": null,
            "visibility": null,
            "width": null
          }
        },
        "58e18ec22c3549d297afae0ca3652fc1": {
          "model_module": "@jupyter-widgets/base",
          "model_name": "LayoutModel",
          "model_module_version": "1.2.0",
          "state": {
            "_model_module": "@jupyter-widgets/base",
            "_model_module_version": "1.2.0",
            "_model_name": "LayoutModel",
            "_view_count": null,
            "_view_module": "@jupyter-widgets/base",
            "_view_module_version": "1.2.0",
            "_view_name": "LayoutView",
            "align_content": null,
            "align_items": null,
            "align_self": null,
            "border": null,
            "bottom": null,
            "display": null,
            "flex": null,
            "flex_flow": null,
            "grid_area": null,
            "grid_auto_columns": null,
            "grid_auto_flow": null,
            "grid_auto_rows": null,
            "grid_column": null,
            "grid_gap": null,
            "grid_row": null,
            "grid_template_areas": null,
            "grid_template_columns": null,
            "grid_template_rows": null,
            "height": null,
            "justify_content": null,
            "justify_items": null,
            "left": null,
            "margin": null,
            "max_height": null,
            "max_width": null,
            "min_height": null,
            "min_width": null,
            "object_fit": null,
            "object_position": null,
            "order": null,
            "overflow": null,
            "overflow_x": null,
            "overflow_y": null,
            "padding": null,
            "right": null,
            "top": null,
            "visibility": null,
            "width": null
          }
        },
        "6f3dea12c2a146439da84fd9835524f5": {
          "model_module": "@jupyter-widgets/controls",
          "model_name": "DescriptionStyleModel",
          "model_module_version": "1.5.0",
          "state": {
            "_model_module": "@jupyter-widgets/controls",
            "_model_module_version": "1.5.0",
            "_model_name": "DescriptionStyleModel",
            "_view_count": null,
            "_view_module": "@jupyter-widgets/base",
            "_view_module_version": "1.2.0",
            "_view_name": "StyleView",
            "description_width": ""
          }
        },
        "6fd985de22a942389f4ca7042e18fb7e": {
          "model_module": "@jupyter-widgets/base",
          "model_name": "LayoutModel",
          "model_module_version": "1.2.0",
          "state": {
            "_model_module": "@jupyter-widgets/base",
            "_model_module_version": "1.2.0",
            "_model_name": "LayoutModel",
            "_view_count": null,
            "_view_module": "@jupyter-widgets/base",
            "_view_module_version": "1.2.0",
            "_view_name": "LayoutView",
            "align_content": null,
            "align_items": null,
            "align_self": null,
            "border": null,
            "bottom": null,
            "display": null,
            "flex": null,
            "flex_flow": null,
            "grid_area": null,
            "grid_auto_columns": null,
            "grid_auto_flow": null,
            "grid_auto_rows": null,
            "grid_column": null,
            "grid_gap": null,
            "grid_row": null,
            "grid_template_areas": null,
            "grid_template_columns": null,
            "grid_template_rows": null,
            "height": null,
            "justify_content": null,
            "justify_items": null,
            "left": null,
            "margin": null,
            "max_height": null,
            "max_width": null,
            "min_height": null,
            "min_width": null,
            "object_fit": null,
            "object_position": null,
            "order": null,
            "overflow": null,
            "overflow_x": null,
            "overflow_y": null,
            "padding": null,
            "right": null,
            "top": null,
            "visibility": null,
            "width": null
          }
        },
        "73ac5e06d8b94466806630d2e73a04a9": {
          "model_module": "@jupyter-widgets/controls",
          "model_name": "ProgressStyleModel",
          "model_module_version": "1.5.0",
          "state": {
            "_model_module": "@jupyter-widgets/controls",
            "_model_module_version": "1.5.0",
            "_model_name": "ProgressStyleModel",
            "_view_count": null,
            "_view_module": "@jupyter-widgets/base",
            "_view_module_version": "1.2.0",
            "_view_name": "StyleView",
            "bar_color": null,
            "description_width": ""
          }
        },
        "b222c895342f435e9563f4375b90a3a6": {
          "model_module": "@jupyter-widgets/base",
          "model_name": "LayoutModel",
          "model_module_version": "1.2.0",
          "state": {
            "_model_module": "@jupyter-widgets/base",
            "_model_module_version": "1.2.0",
            "_model_name": "LayoutModel",
            "_view_count": null,
            "_view_module": "@jupyter-widgets/base",
            "_view_module_version": "1.2.0",
            "_view_name": "LayoutView",
            "align_content": null,
            "align_items": null,
            "align_self": null,
            "border": null,
            "bottom": null,
            "display": null,
            "flex": null,
            "flex_flow": null,
            "grid_area": null,
            "grid_auto_columns": null,
            "grid_auto_flow": null,
            "grid_auto_rows": null,
            "grid_column": null,
            "grid_gap": null,
            "grid_row": null,
            "grid_template_areas": null,
            "grid_template_columns": null,
            "grid_template_rows": null,
            "height": null,
            "justify_content": null,
            "justify_items": null,
            "left": null,
            "margin": null,
            "max_height": null,
            "max_width": null,
            "min_height": null,
            "min_width": null,
            "object_fit": null,
            "object_position": null,
            "order": null,
            "overflow": null,
            "overflow_x": null,
            "overflow_y": null,
            "padding": null,
            "right": null,
            "top": null,
            "visibility": null,
            "width": null
          }
        },
        "81f70f4e704e4d79a3b9f3bd24fbd82a": {
          "model_module": "@jupyter-widgets/controls",
          "model_name": "DescriptionStyleModel",
          "model_module_version": "1.5.0",
          "state": {
            "_model_module": "@jupyter-widgets/controls",
            "_model_module_version": "1.5.0",
            "_model_name": "DescriptionStyleModel",
            "_view_count": null,
            "_view_module": "@jupyter-widgets/base",
            "_view_module_version": "1.2.0",
            "_view_name": "StyleView",
            "description_width": ""
          }
        },
        "ea7dfb964ab7418f99844ac84cc40157": {
          "model_module": "@jupyter-widgets/controls",
          "model_name": "HBoxModel",
          "model_module_version": "1.5.0",
          "state": {
            "_dom_classes": [],
            "_model_module": "@jupyter-widgets/controls",
            "_model_module_version": "1.5.0",
            "_model_name": "HBoxModel",
            "_view_count": null,
            "_view_module": "@jupyter-widgets/controls",
            "_view_module_version": "1.5.0",
            "_view_name": "HBoxView",
            "box_style": "",
            "children": [
              "IPY_MODEL_02e8467325f14287b00b65478b9ecbe5",
              "IPY_MODEL_dcec326436eb41d1a866878a1b46ab95",
              "IPY_MODEL_2af192d2571d4ec49493a7b179a62d3c"
            ],
            "layout": "IPY_MODEL_227c701fd60c4ef0a714f6633dda5714"
          }
        },
        "02e8467325f14287b00b65478b9ecbe5": {
          "model_module": "@jupyter-widgets/controls",
          "model_name": "HTMLModel",
          "model_module_version": "1.5.0",
          "state": {
            "_dom_classes": [],
            "_model_module": "@jupyter-widgets/controls",
            "_model_module_version": "1.5.0",
            "_model_name": "HTMLModel",
            "_view_count": null,
            "_view_module": "@jupyter-widgets/controls",
            "_view_module_version": "1.5.0",
            "_view_name": "HTMLView",
            "description": "",
            "description_tooltip": null,
            "layout": "IPY_MODEL_9d5f15f8daeb4e3db88f3903e06925dc",
            "placeholder": "​",
            "style": "IPY_MODEL_7fd9c676d13f42b285d639cda97431b7",
            "value": "100%"
          }
        },
        "dcec326436eb41d1a866878a1b46ab95": {
          "model_module": "@jupyter-widgets/controls",
          "model_name": "FloatProgressModel",
          "model_module_version": "1.5.0",
          "state": {
            "_dom_classes": [],
            "_model_module": "@jupyter-widgets/controls",
            "_model_module_version": "1.5.0",
            "_model_name": "FloatProgressModel",
            "_view_count": null,
            "_view_module": "@jupyter-widgets/controls",
            "_view_module_version": "1.5.0",
            "_view_name": "ProgressView",
            "bar_style": "success",
            "description": "",
            "description_tooltip": null,
            "layout": "IPY_MODEL_b583075cd08d439392aa32288e77c277",
            "max": 4422102,
            "min": 0,
            "orientation": "horizontal",
            "style": "IPY_MODEL_25a8d88a599c4e5492596b491afa156c",
            "value": 4422102
          }
        },
        "2af192d2571d4ec49493a7b179a62d3c": {
          "model_module": "@jupyter-widgets/controls",
          "model_name": "HTMLModel",
          "model_module_version": "1.5.0",
          "state": {
            "_dom_classes": [],
            "_model_module": "@jupyter-widgets/controls",
            "_model_module_version": "1.5.0",
            "_model_name": "HTMLModel",
            "_view_count": null,
            "_view_module": "@jupyter-widgets/controls",
            "_view_module_version": "1.5.0",
            "_view_name": "HTMLView",
            "description": "",
            "description_tooltip": null,
            "layout": "IPY_MODEL_f1544d3369564b4ca73ce3738e12452e",
            "placeholder": "​",
            "style": "IPY_MODEL_ee7d53b9f74e4a49806ea69748be7d0d",
            "value": " 4422102/4422102 [00:00&lt;00:00, 8018427.39it/s]"
          }
        },
        "227c701fd60c4ef0a714f6633dda5714": {
          "model_module": "@jupyter-widgets/base",
          "model_name": "LayoutModel",
          "model_module_version": "1.2.0",
          "state": {
            "_model_module": "@jupyter-widgets/base",
            "_model_module_version": "1.2.0",
            "_model_name": "LayoutModel",
            "_view_count": null,
            "_view_module": "@jupyter-widgets/base",
            "_view_module_version": "1.2.0",
            "_view_name": "LayoutView",
            "align_content": null,
            "align_items": null,
            "align_self": null,
            "border": null,
            "bottom": null,
            "display": null,
            "flex": null,
            "flex_flow": null,
            "grid_area": null,
            "grid_auto_columns": null,
            "grid_auto_flow": null,
            "grid_auto_rows": null,
            "grid_column": null,
            "grid_gap": null,
            "grid_row": null,
            "grid_template_areas": null,
            "grid_template_columns": null,
            "grid_template_rows": null,
            "height": null,
            "justify_content": null,
            "justify_items": null,
            "left": null,
            "margin": null,
            "max_height": null,
            "max_width": null,
            "min_height": null,
            "min_width": null,
            "object_fit": null,
            "object_position": null,
            "order": null,
            "overflow": null,
            "overflow_x": null,
            "overflow_y": null,
            "padding": null,
            "right": null,
            "top": null,
            "visibility": null,
            "width": null
          }
        },
        "9d5f15f8daeb4e3db88f3903e06925dc": {
          "model_module": "@jupyter-widgets/base",
          "model_name": "LayoutModel",
          "model_module_version": "1.2.0",
          "state": {
            "_model_module": "@jupyter-widgets/base",
            "_model_module_version": "1.2.0",
            "_model_name": "LayoutModel",
            "_view_count": null,
            "_view_module": "@jupyter-widgets/base",
            "_view_module_version": "1.2.0",
            "_view_name": "LayoutView",
            "align_content": null,
            "align_items": null,
            "align_self": null,
            "border": null,
            "bottom": null,
            "display": null,
            "flex": null,
            "flex_flow": null,
            "grid_area": null,
            "grid_auto_columns": null,
            "grid_auto_flow": null,
            "grid_auto_rows": null,
            "grid_column": null,
            "grid_gap": null,
            "grid_row": null,
            "grid_template_areas": null,
            "grid_template_columns": null,
            "grid_template_rows": null,
            "height": null,
            "justify_content": null,
            "justify_items": null,
            "left": null,
            "margin": null,
            "max_height": null,
            "max_width": null,
            "min_height": null,
            "min_width": null,
            "object_fit": null,
            "object_position": null,
            "order": null,
            "overflow": null,
            "overflow_x": null,
            "overflow_y": null,
            "padding": null,
            "right": null,
            "top": null,
            "visibility": null,
            "width": null
          }
        },
        "7fd9c676d13f42b285d639cda97431b7": {
          "model_module": "@jupyter-widgets/controls",
          "model_name": "DescriptionStyleModel",
          "model_module_version": "1.5.0",
          "state": {
            "_model_module": "@jupyter-widgets/controls",
            "_model_module_version": "1.5.0",
            "_model_name": "DescriptionStyleModel",
            "_view_count": null,
            "_view_module": "@jupyter-widgets/base",
            "_view_module_version": "1.2.0",
            "_view_name": "StyleView",
            "description_width": ""
          }
        },
        "b583075cd08d439392aa32288e77c277": {
          "model_module": "@jupyter-widgets/base",
          "model_name": "LayoutModel",
          "model_module_version": "1.2.0",
          "state": {
            "_model_module": "@jupyter-widgets/base",
            "_model_module_version": "1.2.0",
            "_model_name": "LayoutModel",
            "_view_count": null,
            "_view_module": "@jupyter-widgets/base",
            "_view_module_version": "1.2.0",
            "_view_name": "LayoutView",
            "align_content": null,
            "align_items": null,
            "align_self": null,
            "border": null,
            "bottom": null,
            "display": null,
            "flex": null,
            "flex_flow": null,
            "grid_area": null,
            "grid_auto_columns": null,
            "grid_auto_flow": null,
            "grid_auto_rows": null,
            "grid_column": null,
            "grid_gap": null,
            "grid_row": null,
            "grid_template_areas": null,
            "grid_template_columns": null,
            "grid_template_rows": null,
            "height": null,
            "justify_content": null,
            "justify_items": null,
            "left": null,
            "margin": null,
            "max_height": null,
            "max_width": null,
            "min_height": null,
            "min_width": null,
            "object_fit": null,
            "object_position": null,
            "order": null,
            "overflow": null,
            "overflow_x": null,
            "overflow_y": null,
            "padding": null,
            "right": null,
            "top": null,
            "visibility": null,
            "width": null
          }
        },
        "25a8d88a599c4e5492596b491afa156c": {
          "model_module": "@jupyter-widgets/controls",
          "model_name": "ProgressStyleModel",
          "model_module_version": "1.5.0",
          "state": {
            "_model_module": "@jupyter-widgets/controls",
            "_model_module_version": "1.5.0",
            "_model_name": "ProgressStyleModel",
            "_view_count": null,
            "_view_module": "@jupyter-widgets/base",
            "_view_module_version": "1.2.0",
            "_view_name": "StyleView",
            "bar_color": null,
            "description_width": ""
          }
        },
        "f1544d3369564b4ca73ce3738e12452e": {
          "model_module": "@jupyter-widgets/base",
          "model_name": "LayoutModel",
          "model_module_version": "1.2.0",
          "state": {
            "_model_module": "@jupyter-widgets/base",
            "_model_module_version": "1.2.0",
            "_model_name": "LayoutModel",
            "_view_count": null,
            "_view_module": "@jupyter-widgets/base",
            "_view_module_version": "1.2.0",
            "_view_name": "LayoutView",
            "align_content": null,
            "align_items": null,
            "align_self": null,
            "border": null,
            "bottom": null,
            "display": null,
            "flex": null,
            "flex_flow": null,
            "grid_area": null,
            "grid_auto_columns": null,
            "grid_auto_flow": null,
            "grid_auto_rows": null,
            "grid_column": null,
            "grid_gap": null,
            "grid_row": null,
            "grid_template_areas": null,
            "grid_template_columns": null,
            "grid_template_rows": null,
            "height": null,
            "justify_content": null,
            "justify_items": null,
            "left": null,
            "margin": null,
            "max_height": null,
            "max_width": null,
            "min_height": null,
            "min_width": null,
            "object_fit": null,
            "object_position": null,
            "order": null,
            "overflow": null,
            "overflow_x": null,
            "overflow_y": null,
            "padding": null,
            "right": null,
            "top": null,
            "visibility": null,
            "width": null
          }
        },
        "ee7d53b9f74e4a49806ea69748be7d0d": {
          "model_module": "@jupyter-widgets/controls",
          "model_name": "DescriptionStyleModel",
          "model_module_version": "1.5.0",
          "state": {
            "_model_module": "@jupyter-widgets/controls",
            "_model_module_version": "1.5.0",
            "_model_name": "DescriptionStyleModel",
            "_view_count": null,
            "_view_module": "@jupyter-widgets/base",
            "_view_module_version": "1.2.0",
            "_view_name": "StyleView",
            "description_width": ""
          }
        },
        "f5660cfdd61b4ab6b4637a1c2027310d": {
          "model_module": "@jupyter-widgets/controls",
          "model_name": "HBoxModel",
          "model_module_version": "1.5.0",
          "state": {
            "_dom_classes": [],
            "_model_module": "@jupyter-widgets/controls",
            "_model_module_version": "1.5.0",
            "_model_name": "HBoxModel",
            "_view_count": null,
            "_view_module": "@jupyter-widgets/controls",
            "_view_module_version": "1.5.0",
            "_view_name": "HBoxView",
            "box_style": "",
            "children": [
              "IPY_MODEL_626580a3db6d4c98a8a7225ac56c6e19",
              "IPY_MODEL_53d928c423214df99621ecf1ea70fdfc",
              "IPY_MODEL_ea8c5105c3a04bb5b4f13d115d2415b0"
            ],
            "layout": "IPY_MODEL_c4f0fe9195b54848887e6f5948d1ced7"
          }
        },
        "626580a3db6d4c98a8a7225ac56c6e19": {
          "model_module": "@jupyter-widgets/controls",
          "model_name": "HTMLModel",
          "model_module_version": "1.5.0",
          "state": {
            "_dom_classes": [],
            "_model_module": "@jupyter-widgets/controls",
            "_model_module_version": "1.5.0",
            "_model_name": "HTMLModel",
            "_view_count": null,
            "_view_module": "@jupyter-widgets/controls",
            "_view_module_version": "1.5.0",
            "_view_name": "HTMLView",
            "description": "",
            "description_tooltip": null,
            "layout": "IPY_MODEL_7b18d1210a1641738a8806615f004c43",
            "placeholder": "​",
            "style": "IPY_MODEL_17139ca1aab24a4cb066e1510d79d71e",
            "value": "100%"
          }
        },
        "53d928c423214df99621ecf1ea70fdfc": {
          "model_module": "@jupyter-widgets/controls",
          "model_name": "FloatProgressModel",
          "model_module_version": "1.5.0",
          "state": {
            "_dom_classes": [],
            "_model_module": "@jupyter-widgets/controls",
            "_model_module_version": "1.5.0",
            "_model_name": "FloatProgressModel",
            "_view_count": null,
            "_view_module": "@jupyter-widgets/controls",
            "_view_module_version": "1.5.0",
            "_view_name": "ProgressView",
            "bar_style": "success",
            "description": "",
            "description_tooltip": null,
            "layout": "IPY_MODEL_f8a168abda3e4b7cbbfa966646294f33",
            "max": 5148,
            "min": 0,
            "orientation": "horizontal",
            "style": "IPY_MODEL_c39d621f42514678baca2105752fc6ef",
            "value": 5148
          }
        },
        "ea8c5105c3a04bb5b4f13d115d2415b0": {
          "model_module": "@jupyter-widgets/controls",
          "model_name": "HTMLModel",
          "model_module_version": "1.5.0",
          "state": {
            "_dom_classes": [],
            "_model_module": "@jupyter-widgets/controls",
            "_model_module_version": "1.5.0",
            "_model_name": "HTMLModel",
            "_view_count": null,
            "_view_module": "@jupyter-widgets/controls",
            "_view_module_version": "1.5.0",
            "_view_name": "HTMLView",
            "description": "",
            "description_tooltip": null,
            "layout": "IPY_MODEL_40cfd7b7c11b456aa2ec52c902610186",
            "placeholder": "​",
            "style": "IPY_MODEL_72c188352c0946d68888d32665e1a9d0",
            "value": " 5148/5148 [00:00&lt;00:00, 98378.35it/s]"
          }
        },
        "c4f0fe9195b54848887e6f5948d1ced7": {
          "model_module": "@jupyter-widgets/base",
          "model_name": "LayoutModel",
          "model_module_version": "1.2.0",
          "state": {
            "_model_module": "@jupyter-widgets/base",
            "_model_module_version": "1.2.0",
            "_model_name": "LayoutModel",
            "_view_count": null,
            "_view_module": "@jupyter-widgets/base",
            "_view_module_version": "1.2.0",
            "_view_name": "LayoutView",
            "align_content": null,
            "align_items": null,
            "align_self": null,
            "border": null,
            "bottom": null,
            "display": null,
            "flex": null,
            "flex_flow": null,
            "grid_area": null,
            "grid_auto_columns": null,
            "grid_auto_flow": null,
            "grid_auto_rows": null,
            "grid_column": null,
            "grid_gap": null,
            "grid_row": null,
            "grid_template_areas": null,
            "grid_template_columns": null,
            "grid_template_rows": null,
            "height": null,
            "justify_content": null,
            "justify_items": null,
            "left": null,
            "margin": null,
            "max_height": null,
            "max_width": null,
            "min_height": null,
            "min_width": null,
            "object_fit": null,
            "object_position": null,
            "order": null,
            "overflow": null,
            "overflow_x": null,
            "overflow_y": null,
            "padding": null,
            "right": null,
            "top": null,
            "visibility": null,
            "width": null
          }
        },
        "7b18d1210a1641738a8806615f004c43": {
          "model_module": "@jupyter-widgets/base",
          "model_name": "LayoutModel",
          "model_module_version": "1.2.0",
          "state": {
            "_model_module": "@jupyter-widgets/base",
            "_model_module_version": "1.2.0",
            "_model_name": "LayoutModel",
            "_view_count": null,
            "_view_module": "@jupyter-widgets/base",
            "_view_module_version": "1.2.0",
            "_view_name": "LayoutView",
            "align_content": null,
            "align_items": null,
            "align_self": null,
            "border": null,
            "bottom": null,
            "display": null,
            "flex": null,
            "flex_flow": null,
            "grid_area": null,
            "grid_auto_columns": null,
            "grid_auto_flow": null,
            "grid_auto_rows": null,
            "grid_column": null,
            "grid_gap": null,
            "grid_row": null,
            "grid_template_areas": null,
            "grid_template_columns": null,
            "grid_template_rows": null,
            "height": null,
            "justify_content": null,
            "justify_items": null,
            "left": null,
            "margin": null,
            "max_height": null,
            "max_width": null,
            "min_height": null,
            "min_width": null,
            "object_fit": null,
            "object_position": null,
            "order": null,
            "overflow": null,
            "overflow_x": null,
            "overflow_y": null,
            "padding": null,
            "right": null,
            "top": null,
            "visibility": null,
            "width": null
          }
        },
        "17139ca1aab24a4cb066e1510d79d71e": {
          "model_module": "@jupyter-widgets/controls",
          "model_name": "DescriptionStyleModel",
          "model_module_version": "1.5.0",
          "state": {
            "_model_module": "@jupyter-widgets/controls",
            "_model_module_version": "1.5.0",
            "_model_name": "DescriptionStyleModel",
            "_view_count": null,
            "_view_module": "@jupyter-widgets/base",
            "_view_module_version": "1.2.0",
            "_view_name": "StyleView",
            "description_width": ""
          }
        },
        "f8a168abda3e4b7cbbfa966646294f33": {
          "model_module": "@jupyter-widgets/base",
          "model_name": "LayoutModel",
          "model_module_version": "1.2.0",
          "state": {
            "_model_module": "@jupyter-widgets/base",
            "_model_module_version": "1.2.0",
            "_model_name": "LayoutModel",
            "_view_count": null,
            "_view_module": "@jupyter-widgets/base",
            "_view_module_version": "1.2.0",
            "_view_name": "LayoutView",
            "align_content": null,
            "align_items": null,
            "align_self": null,
            "border": null,
            "bottom": null,
            "display": null,
            "flex": null,
            "flex_flow": null,
            "grid_area": null,
            "grid_auto_columns": null,
            "grid_auto_flow": null,
            "grid_auto_rows": null,
            "grid_column": null,
            "grid_gap": null,
            "grid_row": null,
            "grid_template_areas": null,
            "grid_template_columns": null,
            "grid_template_rows": null,
            "height": null,
            "justify_content": null,
            "justify_items": null,
            "left": null,
            "margin": null,
            "max_height": null,
            "max_width": null,
            "min_height": null,
            "min_width": null,
            "object_fit": null,
            "object_position": null,
            "order": null,
            "overflow": null,
            "overflow_x": null,
            "overflow_y": null,
            "padding": null,
            "right": null,
            "top": null,
            "visibility": null,
            "width": null
          }
        },
        "c39d621f42514678baca2105752fc6ef": {
          "model_module": "@jupyter-widgets/controls",
          "model_name": "ProgressStyleModel",
          "model_module_version": "1.5.0",
          "state": {
            "_model_module": "@jupyter-widgets/controls",
            "_model_module_version": "1.5.0",
            "_model_name": "ProgressStyleModel",
            "_view_count": null,
            "_view_module": "@jupyter-widgets/base",
            "_view_module_version": "1.2.0",
            "_view_name": "StyleView",
            "bar_color": null,
            "description_width": ""
          }
        },
        "40cfd7b7c11b456aa2ec52c902610186": {
          "model_module": "@jupyter-widgets/base",
          "model_name": "LayoutModel",
          "model_module_version": "1.2.0",
          "state": {
            "_model_module": "@jupyter-widgets/base",
            "_model_module_version": "1.2.0",
            "_model_name": "LayoutModel",
            "_view_count": null,
            "_view_module": "@jupyter-widgets/base",
            "_view_module_version": "1.2.0",
            "_view_name": "LayoutView",
            "align_content": null,
            "align_items": null,
            "align_self": null,
            "border": null,
            "bottom": null,
            "display": null,
            "flex": null,
            "flex_flow": null,
            "grid_area": null,
            "grid_auto_columns": null,
            "grid_auto_flow": null,
            "grid_auto_rows": null,
            "grid_column": null,
            "grid_gap": null,
            "grid_row": null,
            "grid_template_areas": null,
            "grid_template_columns": null,
            "grid_template_rows": null,
            "height": null,
            "justify_content": null,
            "justify_items": null,
            "left": null,
            "margin": null,
            "max_height": null,
            "max_width": null,
            "min_height": null,
            "min_width": null,
            "object_fit": null,
            "object_position": null,
            "order": null,
            "overflow": null,
            "overflow_x": null,
            "overflow_y": null,
            "padding": null,
            "right": null,
            "top": null,
            "visibility": null,
            "width": null
          }
        },
        "72c188352c0946d68888d32665e1a9d0": {
          "model_module": "@jupyter-widgets/controls",
          "model_name": "DescriptionStyleModel",
          "model_module_version": "1.5.0",
          "state": {
            "_model_module": "@jupyter-widgets/controls",
            "_model_module_version": "1.5.0",
            "_model_name": "DescriptionStyleModel",
            "_view_count": null,
            "_view_module": "@jupyter-widgets/base",
            "_view_module_version": "1.2.0",
            "_view_name": "StyleView",
            "description_width": ""
          }
        }
      }
    }
  },
  "cells": [
    {
      "cell_type": "markdown",
      "metadata": {
        "id": "jiQpiJ4x4Dzi"
      },
      "source": [
        "「PyTorch入門  6. 最適化」\n",
        "===============================================================\n",
        "【原題】OPTIMIZING MODEL PARAMETERS\n",
        "\n",
        "【原著】\n",
        "[Suraj Subramanian](https://github.com/suraj813)、[Seth Juarez](https://github.com/sethjuarez/) 、[Cassie Breviu](https://github.com/cassieview/) 、[Dmitry Soshnikov](https://soshnikov.com/)、[Ari Bornstein](https://github.com/aribornstein/) \n",
        "\n",
        "\n",
        "【元URL】https://pytorch.org/tutorials/beginner/basics/optimization_tutorial.html\n",
        "\n",
        "【翻訳】電通国際情報サービスISID AIトランスフォーメーションセンター　小川 雄太郎\n",
        "\n",
        "【日付】2021年03月20日\n",
        "\n",
        "【チュトーリアル概要】\n",
        "\n",
        "本チュートリアルでは、オプティマイザー（Optimizer）を使用した、パラメータの最適化（≒学習）について解説を行います。\n",
        "\n",
        "---\n"
      ]
    },
    {
      "cell_type": "markdown",
      "metadata": {
        "id": "YPkyI-DJ38-R"
      },
      "source": [
        "パラメータの最適化\n",
        "===========================\n",
        "\n",
        "モデルとデータを用意できたので続いてはモデルを訓練、検証することで、データに対してモデルのパラメータを最適化し、テストを行います。\n",
        "\n",
        "\n"
      ]
    },
    {
      "cell_type": "markdown",
      "metadata": {
        "id": "ow4ZimTD48XR"
      },
      "source": [
        "モデルの訓練は反復的なプロセスとなります。\n",
        "\n",
        "各イテレーション（エポックと呼ばれます）で、モデルは出力を計算し、損失を求めます。そして各パラメータについて損失に対する偏微分の値を求めます。\n",
        "\n",
        "その後、勾配降下法に基づいてパラメータを最適化します。\n",
        "\n",
        "この最適化プロセスの流れについては、以下の動画も参考にご覧ください。\n",
        "\n",
        "- 動画：[backpropagation from 3Blue1Brown](https://www.youtube.com/watch?v=tIeHLnjs5U8)"
      ]
    },
    {
      "cell_type": "markdown",
      "metadata": {
        "id": "yz96ICKoEgie"
      },
      "source": [
        "---\n"
      ]
    },
    {
      "cell_type": "markdown",
      "metadata": {
        "id": "k0HPbxJy480B"
      },
      "source": [
        "コード準備 \n",
        "-----------------\n",
        "入門シリーズの「2. データセットとデータローダー」および、「4. モデル構築」からコードを再利用します。\n"
      ]
    },
    {
      "cell_type": "code",
      "metadata": {
        "id": "u-QFvrJl38-L"
      },
      "source": [
        "%matplotlib inline"
      ],
      "execution_count": null,
      "outputs": []
    },
    {
      "cell_type": "code",
      "source": [
        "# import torch\n",
        "# from torch import nn\n",
        "# from torch.utils.data import DataLoader\n",
        "# from torchvision import datasets\n",
        "# from torchvision.transforms import ToTensor, Lambda\n",
        "\n",
        "# training_data = datasets.FashinMNIST(\n",
        "#     root='data',\n",
        "#     train=True,\n",
        "#     download=True,\n",
        "#     transform=ToTensor()\n",
        "# )\n",
        "\n",
        "# test_data = datasets.FashionMNIST(\n",
        "#     root='data',\n",
        "#     train=False,\n",
        "#     download=True,\n",
        "#     trainsform=ToTensor()\n",
        "# )\n",
        "\n",
        "# train_dataloader = DataLoader(training_data, batch_size=64)\n",
        "# test_dataloader = DataLoader(test_data, batch_size=64)\n",
        "\n",
        "# class NeuralNetwork(nn.Module):\n",
        "#   def __init__(self):\n",
        "#     super(NeuralNetwork, self).__init__()\n",
        "#     self.flatten = nn.Flatten()\n",
        "#     self.linear_relu_stack = nn.Sequential(\n",
        "#         nn.Linear(28*28, 512)\n",
        "#         nn.ReLU(),\n",
        "#         nn.Linear(512, 512),\n",
        "#         nn.LeLU(),\n",
        "#         nn.Linear(512, 10),\n",
        "#         nn.ReLU()\n",
        "#     )\n",
        "\n",
        "#   def foward(self, x):\n",
        "#     x = self.flatten(x)\n",
        "#     logits = self.linear_relu_stack(x)\n",
        "#     return logits\n",
        "\n",
        "# model = NeuralNetwork()"
      ],
      "metadata": {
        "id": "dIzg3Pfo-oNl"
      },
      "execution_count": null,
      "outputs": []
    },
    {
      "cell_type": "code",
      "metadata": {
        "id": "wNpggd8W38-R",
        "colab": {
          "base_uri": "https://localhost:8080/",
          "height": 439,
          "referenced_widgets": [
            "e678c0caffb64bd192461f0f7770d8d6",
            "cca380e84af3422ab931ba4077c56e14",
            "77a9f531c70549a285a20ec7d941ee17",
            "7b19476c3d0549cbb18ae44804c93ef7",
            "ad7180f9de4d4bb6aa7753b320cc8812",
            "e2e98784fab5478aaff810ada4cfece6",
            "3581237c15ee48cd8235f00d7e507d13",
            "7bff93c50f3645e9b828826e809f6485",
            "57e77521ad5f43e497354b75d455fbb7",
            "d7fcdf052ef44e2da90a6013ad3d5aeb",
            "f95d7c68416d4d108a57942a402eea7e",
            "f6469b18233c4c6cadcc602a7371f280",
            "6e04fb21dabe4ff0ad5dae5f660cef1c",
            "a956622488f140949dd78adc1da4f85d",
            "375f848966014f479c1c5050623f7427",
            "b326c8d024d44272832d964e79feba0b",
            "58e18ec22c3549d297afae0ca3652fc1",
            "6f3dea12c2a146439da84fd9835524f5",
            "6fd985de22a942389f4ca7042e18fb7e",
            "73ac5e06d8b94466806630d2e73a04a9",
            "b222c895342f435e9563f4375b90a3a6",
            "81f70f4e704e4d79a3b9f3bd24fbd82a",
            "ea7dfb964ab7418f99844ac84cc40157",
            "02e8467325f14287b00b65478b9ecbe5",
            "dcec326436eb41d1a866878a1b46ab95",
            "2af192d2571d4ec49493a7b179a62d3c",
            "227c701fd60c4ef0a714f6633dda5714",
            "9d5f15f8daeb4e3db88f3903e06925dc",
            "7fd9c676d13f42b285d639cda97431b7",
            "b583075cd08d439392aa32288e77c277",
            "25a8d88a599c4e5492596b491afa156c",
            "f1544d3369564b4ca73ce3738e12452e",
            "ee7d53b9f74e4a49806ea69748be7d0d",
            "f5660cfdd61b4ab6b4637a1c2027310d",
            "626580a3db6d4c98a8a7225ac56c6e19",
            "53d928c423214df99621ecf1ea70fdfc",
            "ea8c5105c3a04bb5b4f13d115d2415b0",
            "c4f0fe9195b54848887e6f5948d1ced7",
            "7b18d1210a1641738a8806615f004c43",
            "17139ca1aab24a4cb066e1510d79d71e",
            "f8a168abda3e4b7cbbfa966646294f33",
            "c39d621f42514678baca2105752fc6ef",
            "40cfd7b7c11b456aa2ec52c902610186",
            "72c188352c0946d68888d32665e1a9d0"
          ]
        },
        "outputId": "e6474bd9-9a95-4a25-b307-4d2b286b8e9d"
      },
      "source": [
        "import torch\n",
        "from torch import nn\n",
        "from torch.utils.data import DataLoader\n",
        "from torchvision import datasets\n",
        "from torchvision.transforms import ToTensor, Lambda\n",
        "\n",
        "training_data = datasets.FashionMNIST(\n",
        "    root=\"data\",\n",
        "    train=True,\n",
        "    download=True,\n",
        "    transform=ToTensor()\n",
        ")\n",
        "\n",
        "test_data = datasets.FashionMNIST(\n",
        "    root=\"data\",\n",
        "    train=False,\n",
        "    download=True,\n",
        "    transform=ToTensor()\n",
        ")\n",
        "\n",
        "train_dataloader = DataLoader(training_data, batch_size=64)\n",
        "test_dataloader = DataLoader(test_data, batch_size=64)\n",
        "\n",
        "class NeuralNetwork(nn.Module):\n",
        "    def __init__(self):\n",
        "        super(NeuralNetwork, self).__init__()\n",
        "        self.flatten = nn.Flatten()\n",
        "        self.linear_relu_stack = nn.Sequential(\n",
        "            nn.Linear(28*28, 512),\n",
        "            nn.ReLU(),\n",
        "            nn.Linear(512, 512),\n",
        "            nn.ReLU(),\n",
        "            nn.Linear(512, 10),\n",
        "            nn.ReLU()\n",
        "        )\n",
        "\n",
        "    def forward(self, x):\n",
        "        x = self.flatten(x)\n",
        "        logits = self.linear_relu_stack(x)\n",
        "        return logits\n",
        "\n",
        "model = NeuralNetwork()"
      ],
      "execution_count": null,
      "outputs": [
        {
          "output_type": "stream",
          "name": "stdout",
          "text": [
            "Downloading http://fashion-mnist.s3-website.eu-central-1.amazonaws.com/train-images-idx3-ubyte.gz\n",
            "Downloading http://fashion-mnist.s3-website.eu-central-1.amazonaws.com/train-images-idx3-ubyte.gz to data/FashionMNIST/raw/train-images-idx3-ubyte.gz\n"
          ]
        },
        {
          "output_type": "display_data",
          "data": {
            "text/plain": [
              "  0%|          | 0/26421880 [00:00<?, ?it/s]"
            ],
            "application/vnd.jupyter.widget-view+json": {
              "version_major": 2,
              "version_minor": 0,
              "model_id": "e678c0caffb64bd192461f0f7770d8d6"
            }
          },
          "metadata": {}
        },
        {
          "output_type": "stream",
          "name": "stdout",
          "text": [
            "Extracting data/FashionMNIST/raw/train-images-idx3-ubyte.gz to data/FashionMNIST/raw\n",
            "\n",
            "Downloading http://fashion-mnist.s3-website.eu-central-1.amazonaws.com/train-labels-idx1-ubyte.gz\n",
            "Downloading http://fashion-mnist.s3-website.eu-central-1.amazonaws.com/train-labels-idx1-ubyte.gz to data/FashionMNIST/raw/train-labels-idx1-ubyte.gz\n"
          ]
        },
        {
          "output_type": "display_data",
          "data": {
            "text/plain": [
              "  0%|          | 0/29515 [00:00<?, ?it/s]"
            ],
            "application/vnd.jupyter.widget-view+json": {
              "version_major": 2,
              "version_minor": 0,
              "model_id": "f6469b18233c4c6cadcc602a7371f280"
            }
          },
          "metadata": {}
        },
        {
          "output_type": "stream",
          "name": "stdout",
          "text": [
            "Extracting data/FashionMNIST/raw/train-labels-idx1-ubyte.gz to data/FashionMNIST/raw\n",
            "\n",
            "Downloading http://fashion-mnist.s3-website.eu-central-1.amazonaws.com/t10k-images-idx3-ubyte.gz\n",
            "Downloading http://fashion-mnist.s3-website.eu-central-1.amazonaws.com/t10k-images-idx3-ubyte.gz to data/FashionMNIST/raw/t10k-images-idx3-ubyte.gz\n"
          ]
        },
        {
          "output_type": "display_data",
          "data": {
            "text/plain": [
              "  0%|          | 0/4422102 [00:00<?, ?it/s]"
            ],
            "application/vnd.jupyter.widget-view+json": {
              "version_major": 2,
              "version_minor": 0,
              "model_id": "ea7dfb964ab7418f99844ac84cc40157"
            }
          },
          "metadata": {}
        },
        {
          "output_type": "stream",
          "name": "stdout",
          "text": [
            "Extracting data/FashionMNIST/raw/t10k-images-idx3-ubyte.gz to data/FashionMNIST/raw\n",
            "\n",
            "Downloading http://fashion-mnist.s3-website.eu-central-1.amazonaws.com/t10k-labels-idx1-ubyte.gz\n",
            "Downloading http://fashion-mnist.s3-website.eu-central-1.amazonaws.com/t10k-labels-idx1-ubyte.gz to data/FashionMNIST/raw/t10k-labels-idx1-ubyte.gz\n"
          ]
        },
        {
          "output_type": "display_data",
          "data": {
            "text/plain": [
              "  0%|          | 0/5148 [00:00<?, ?it/s]"
            ],
            "application/vnd.jupyter.widget-view+json": {
              "version_major": 2,
              "version_minor": 0,
              "model_id": "f5660cfdd61b4ab6b4637a1c2027310d"
            }
          },
          "metadata": {}
        },
        {
          "output_type": "stream",
          "name": "stdout",
          "text": [
            "Extracting data/FashionMNIST/raw/t10k-labels-idx1-ubyte.gz to data/FashionMNIST/raw\n",
            "\n"
          ]
        }
      ]
    },
    {
      "cell_type": "markdown",
      "metadata": {
        "id": "PidFXE1LEjR1"
      },
      "source": [
        "---\n",
        "\n"
      ]
    },
    {
      "cell_type": "markdown",
      "metadata": {
        "id": "CeozEcms38-S"
      },
      "source": [
        "ハイパーパラメータ\n",
        "-----------------\n",
        "\n",
        "ハイパーパラメータは、モデルの最適化プロセスを制御するためのパラメータです。\n",
        "\n",
        "ハイパーパラメータの値が異なると、モデルの学習や収束率に影響します（詳細なハイパーパラメータチューニングの解説は[こちら](https://pytorch.org/tutorials/beginner/hyperparameter_tuning_tutorial.html)をご覧ください）。\n",
        "\n"
      ]
    },
    {
      "cell_type": "markdown",
      "metadata": {
        "id": "6XWChnhIEtHH"
      },
      "source": [
        "\n",
        "今回は、訓練用のハイパーパラメータとして以下の値を使用します。\n",
        "\n",
        " - **Number of Epochs**：イテレーション回数\n",
        " - **Batch Size**：ミニバッチサイズを構成するデータ数\n",
        " - **Learning Rate**：パラメータ更新の係数。値が小さいと変化が少なく、大きすぎると訓練に失敗する可能性が生まれる\n",
        " "
      ]
    },
    {
      "cell_type": "code",
      "source": [
        "# lwarning_rate = 1e-3\n",
        "# batch_size = 64\n",
        "# epochs = 5"
      ],
      "metadata": {
        "id": "KIM_KdRCAh4-"
      },
      "execution_count": null,
      "outputs": []
    },
    {
      "cell_type": "code",
      "metadata": {
        "id": "gpay3IJz38-U"
      },
      "source": [
        "learning_rate = 1e-3\n",
        "batch_size = 64\n",
        "epochs = 5"
      ],
      "execution_count": null,
      "outputs": []
    },
    {
      "cell_type": "markdown",
      "metadata": {
        "id": "KW8AYLUtExtf"
      },
      "source": [
        "---\n"
      ]
    },
    {
      "cell_type": "markdown",
      "metadata": {
        "id": "Wx1bOwA_38-V"
      },
      "source": [
        "最適化ループ\n",
        "-----------------\n",
        "ハイパーパラメータを設定後、訓練で最適化のループを回すことで、モデルを最適化します。\n",
        "\n",
        "最適化ループの1回のイテレーションは、**エポック(epoch)**と呼ばれます。\n",
        "\n",
        "各エポックでは2種類のループから構成されます。\n",
        "\n",
        " - **訓練ループ**：データセットに対して訓練を実行し、パラメータを収束させます\n",
        " \n",
        " - **検証 / テストループ**：テストデータセットでモデルを評価し、性能が向上しているか確認します\n",
        " \n",
        "\n"
      ]
    },
    {
      "cell_type": "markdown",
      "metadata": {
        "id": "m8_uj3QLLxvT"
      },
      "source": [
        "訓練ループ内で使用される概念について、簡単に把握しておきましょう。\n",
        "\n",
        "本チュートリアルの最後には、最適化ループの完全な実装を紹介します。"
      ]
    },
    {
      "cell_type": "markdown",
      "metadata": {
        "id": "i7JihOQJLx4B"
      },
      "source": [
        "**損失関数：Loss Function**\n",
        "\n",
        "データが与えられても、訓練されていないネットワークは正しい答えを出力しない可能性があります。\n",
        " \n",
        "損失関数はモデルが推論した結果と、実際の正解との誤差の大きさを測定する関数です。訓練ではこの損失関数の値を小さくしていきます。\n",
        "\n",
        "損失を計算するためには、入力データに対するモデルの推論結果を求め、その値と正解のラベルとの違いを比較します。\n",
        "\n"
      ]
    },
    {
      "cell_type": "markdown",
      "metadata": {
        "id": "xbuOTl6wNm-7"
      },
      "source": [
        "一般的な損失関数としては、回帰タスクでは[`nn.MSELoss`](https://pytorch.org/docs/stable/generated/torch.nn.MSELoss.html#torch.nn.MSELoss)(Mean Square Error)、分類タスクでは[`nn.NLLLoss`](https://pytorch.org/docs/stable/generated/torch.nn.NLLLoss.html#torch.nn.NLLLoss)(Negative Log Likelihood) が使用されます。\n",
        "\n",
        "[`nn.CrossEntropyLoss`](https://pytorch.org/docs/stable/generated/torch.nn.CrossEntropyLoss.html#torch.nn.CrossEntropyLoss)は、``nn.LogSoftmax`` と ``nn.NLLLoss``を結合した損失関数となります。\n",
        "\n",
        "モデルが出力する`logit`値を`nn.CrossEntropyLoss`に与えて正規化し、予測誤差を求めます。"
      ]
    },
    {
      "cell_type": "code",
      "source": [
        "# loss_fn = nn.CrossEntropyLoss()"
      ],
      "metadata": {
        "id": "YKxzEl7sD5YL"
      },
      "execution_count": null,
      "outputs": []
    },
    {
      "cell_type": "code",
      "metadata": {
        "id": "ayTh0SOU38-W"
      },
      "source": [
        "# loss functionの初期化、定義\n",
        "loss_fn = nn.CrossEntropyLoss()"
      ],
      "execution_count": null,
      "outputs": []
    },
    {
      "cell_type": "markdown",
      "metadata": {
        "id": "TEUFRDx638-W"
      },
      "source": [
        "**最適化器：Optimizer**\n",
        "\n",
        "最適化は各訓練ステップにおいてモデルの誤差を小さくなるように、モデルパラメータを調整するプロセスです。\n",
        "\n",
        "<br>\n",
        "\n",
        "**最適化アルゴリズム：Optimization algorithms**\n",
        "\n",
        "最適化アルゴリズムは、最適化プロセスの具体的な手続きです（本チュートリアルでは確率的勾配降下法：Stochastic Gradient Descentを使用します）。\n",
        "\n",
        "最適化のロジックは全て``optimizer``オブジェクト内に隠ぺいされます。\n",
        "\n"
      ]
    },
    {
      "cell_type": "markdown",
      "metadata": {
        "id": "mB8RLaw3PQ3Z"
      },
      "source": [
        " 今回はSGD optimizerを使用します。ただし、最適化関数にはADAMやRMSPropなど、様々な種類があります。\n",
        " \n",
        " 詳細については、[こちら](https://pytorch.org/docs/stable/optim.html)を参照ください。\n",
        " "
      ]
    },
    {
      "cell_type": "markdown",
      "metadata": {
        "id": "EMwa7PPmFzjv"
      },
      "source": [
        "\n",
        "訓練したいモデルパラメータをoptimizerに登録し、合わせて学習率をハイパーパラメータとして渡すことで初期化を行います。\n",
        "\n",
        "\n"
      ]
    },
    {
      "cell_type": "code",
      "source": [
        "# optimizer = torch.optim.SGD(model.parameters(), lr=learning_rate)"
      ],
      "metadata": {
        "id": "G8_UpLTLEMV3"
      },
      "execution_count": null,
      "outputs": []
    },
    {
      "cell_type": "code",
      "metadata": {
        "id": "FIH9ERrX38-X"
      },
      "source": [
        "optimizer = torch.optim.SGD(model.parameters(), lr=learning_rate)"
      ],
      "execution_count": null,
      "outputs": []
    },
    {
      "cell_type": "markdown",
      "metadata": {
        "id": "c53YLpx038-Y"
      },
      "source": [
        "訓練ループ内で、最適化（optimization）は3つのステップから構成されます。\n",
        "\n",
        "[1] ``optimizer.zero_grad()``を実行し、モデルパラメータの勾配をリセットします。\n",
        "\n",
        "勾配の計算は蓄積されていくので、毎イテレーション、明示的にリセットします。\n",
        "\n",
        "<br>\n",
        "\n",
        "[2] 続いて、``loss.backwards()``を実行し、バックプロパゲーションを実行します。\n",
        "\n",
        "PyTorchは損失に対する各パラメータの偏微分の値（勾配）を求めます。\n",
        "\n",
        "<br>\n",
        "\n",
        "[3] 最後に、``optimizer.step()``を実行し、各パラメータの勾配を使用してパラメータの値を調整します。\n",
        "\n"
      ]
    },
    {
      "cell_type": "markdown",
      "metadata": {
        "id": "T4vSCUCEGBEz"
      },
      "source": [
        "---\n"
      ]
    },
    {
      "cell_type": "markdown",
      "metadata": {
        "id": "Ulov18zc38-Y"
      },
      "source": [
        "実装全体：Full Implementation\n",
        "-----------------------\n",
        "最適化を実行するコードをループする``train_loop``と、テストデータに対してモデルの性能を評価する``test_loop``を定義します。\n",
        "\n",
        "\n"
      ]
    },
    {
      "cell_type": "code",
      "source": [
        "# def train_loop(dataloader, model, loss_fn, optimizer):\n",
        "#   size = len(dataloader.dataset)\n",
        "#   for batch, (X, y) in enumerate(dataloader):\n",
        "#     pred = model(X)\n",
        "#     loss = loss_fn(pred, y)\n",
        "\n",
        "#     optimizer.zero_grad()\n",
        "#     loss.backword()\n",
        "#     optimizer.step()\n",
        "\n",
        "#     if batch % 100 == 0:\n",
        "#       loss, current = loss.item(), batch * len(X)\n",
        "#       print(f\"loss: {loss:>7f}  [{current:>5d}/{size:>5d}]\")\n",
        "\n",
        "\n",
        "# def test_loop(dataloader, model, loss_fn):\n",
        "#   size = len(dataloader.dataset)\n",
        "#   test_loss, correct = 0, 0\n",
        "\n",
        "#   with torch.no_grad():\n",
        "#     for X, y in dataloader:\n",
        "#       pred = model(X)\n",
        "#       test_loss += loss_fn(pred, y).item()\n",
        "#       correct += (pred.argmax(1) == y).type(torch.float).sum().item()\n",
        "  \n",
        "#   test_loss /= size\n",
        "#   correct /= size\n"
      ],
      "metadata": {
        "id": "fOqiD6aeEoN1"
      },
      "execution_count": null,
      "outputs": []
    },
    {
      "cell_type": "code",
      "metadata": {
        "id": "qVvdppwu38-Z"
      },
      "source": [
        "def train_loop(dataloader, model, loss_fn, optimizer):\n",
        "    size = len(dataloader.dataset)\n",
        "    for batch, (X, y) in enumerate(dataloader):        \n",
        "        # 予測と損失の計算\n",
        "        pred = model(X)\n",
        "        loss = loss_fn(pred, y)\n",
        "        \n",
        "        # バックプロパゲーション\n",
        "        optimizer.zero_grad()\n",
        "        loss.backward()\n",
        "        optimizer.step()\n",
        "\n",
        "        if batch % 100 == 0:\n",
        "            loss, current = loss.item(), batch * len(X)\n",
        "            print(f\"loss: {loss:>7f}  [{current:>5d}/{size:>5d}]\")\n",
        "\n",
        "\n",
        "def test_loop(dataloader, model, loss_fn):\n",
        "    size = len(dataloader.dataset)\n",
        "    test_loss, correct = 0, 0\n",
        "\n",
        "    with torch.no_grad():\n",
        "        for X, y in dataloader:\n",
        "            pred = model(X)\n",
        "            test_loss += loss_fn(pred, y).item()\n",
        "            correct += (pred.argmax(1) == y).type(torch.float).sum().item()\n",
        "            \n",
        "    test_loss /= size\n",
        "    correct /= size\n",
        "    print(f\"Test Error: \\n Accuracy: {(100*correct):>0.1f}%, Avg loss: {test_loss:>8f} \\n\")"
      ],
      "execution_count": null,
      "outputs": []
    },
    {
      "cell_type": "markdown",
      "metadata": {
        "id": "3Pq-tYFz38-Z"
      },
      "source": [
        "損失関数とoptimizerを初期化し、それを ``train_loop`` と ``test_loop`` に渡します。\n",
        "\n",
        "<br>\n",
        "\n",
        "以下の実装例において、モデルの性能を向上させるために、`epoch`数は自由に変えてみてください。\n",
        "\n",
        "\n",
        "\n"
      ]
    },
    {
      "cell_type": "code",
      "source": [
        "# loss_fn = nn.CrossEntropyLoss()\n",
        "# optimizer = torch.optim.SGD(model.parameters(), lr=learning_rate)\n",
        "\n",
        "# epochs = 10\n",
        "# for t in range(epochs):\n",
        "\n",
        "#   train_loop(train_dataloader, model, loss_fn, optimizer)\n",
        "#   test_loop(test_dataloader, model, loss_fn)"
      ],
      "metadata": {
        "id": "mlad1TSdGcwM"
      },
      "execution_count": null,
      "outputs": []
    },
    {
      "cell_type": "code",
      "metadata": {
        "id": "bhpe8Lia38-Z",
        "colab": {
          "base_uri": "https://localhost:8080/"
        },
        "outputId": "5d461270-22bd-4a92-c745-1c9d28d13728"
      },
      "source": [
        "loss_fn = nn.CrossEntropyLoss()\n",
        "optimizer = torch.optim.SGD(model.parameters(), lr=learning_rate)\n",
        "\n",
        "epochs = 12\n",
        "for t in range(epochs):\n",
        "    print(f\"Epoch {t+1}\\n-------------------------------\")\n",
        "    train_loop(train_dataloader, model, loss_fn, optimizer)\n",
        "    test_loop(test_dataloader, model, loss_fn)\n",
        "print(\"Done!\")"
      ],
      "execution_count": null,
      "outputs": [
        {
          "output_type": "stream",
          "name": "stdout",
          "text": [
            "Epoch 1\n",
            "-------------------------------\n",
            "loss: 1.260394  [    0/60000]\n",
            "loss: 1.274509  [ 6400/60000]\n",
            "loss: 1.049880  [12800/60000]\n",
            "loss: 1.168550  [19200/60000]\n",
            "loss: 1.198193  [25600/60000]\n",
            "loss: 0.987110  [32000/60000]\n",
            "loss: 1.116601  [38400/60000]\n",
            "loss: 1.036793  [44800/60000]\n",
            "loss: 1.173918  [51200/60000]\n",
            "loss: 1.084226  [57600/60000]\n",
            "Test Error: \n",
            " Accuracy: 67.2%, Avg loss: 0.017549 \n",
            "\n",
            "Epoch 2\n",
            "-------------------------------\n",
            "loss: 1.233889  [    0/60000]\n",
            "loss: 1.255357  [ 6400/60000]\n",
            "loss: 1.024351  [12800/60000]\n",
            "loss: 1.144753  [19200/60000]\n",
            "loss: 1.178863  [25600/60000]\n",
            "loss: 0.966583  [32000/60000]\n",
            "loss: 1.098348  [38400/60000]\n",
            "loss: 1.022956  [44800/60000]\n",
            "loss: 1.156242  [51200/60000]\n",
            "loss: 1.068057  [57600/60000]\n",
            "Test Error: \n",
            " Accuracy: 67.5%, Avg loss: 0.017280 \n",
            "\n",
            "Epoch 3\n",
            "-------------------------------\n",
            "loss: 1.212021  [    0/60000]\n",
            "loss: 1.239538  [ 6400/60000]\n",
            "loss: 1.003811  [12800/60000]\n",
            "loss: 1.124613  [19200/60000]\n",
            "loss: 1.162891  [25600/60000]\n",
            "loss: 0.950637  [32000/60000]\n",
            "loss: 1.083194  [38400/60000]\n",
            "loss: 1.012217  [44800/60000]\n",
            "loss: 1.141843  [51200/60000]\n",
            "loss: 1.054231  [57600/60000]\n",
            "Test Error: \n",
            " Accuracy: 67.7%, Avg loss: 0.017053 \n",
            "\n",
            "Epoch 4\n",
            "-------------------------------\n",
            "loss: 1.193376  [    0/60000]\n",
            "loss: 1.225909  [ 6400/60000]\n",
            "loss: 0.986896  [12800/60000]\n",
            "loss: 1.107691  [19200/60000]\n",
            "loss: 1.149416  [25600/60000]\n",
            "loss: 0.937387  [32000/60000]\n",
            "loss: 1.070065  [38400/60000]\n",
            "loss: 1.004104  [44800/60000]\n",
            "loss: 1.129758  [51200/60000]\n",
            "loss: 1.042238  [57600/60000]\n",
            "Test Error: \n",
            " Accuracy: 67.9%, Avg loss: 0.016857 \n",
            "\n",
            "Epoch 5\n",
            "-------------------------------\n",
            "loss: 1.177102  [    0/60000]\n",
            "loss: 1.213730  [ 6400/60000]\n",
            "loss: 0.972534  [12800/60000]\n",
            "loss: 1.093027  [19200/60000]\n",
            "loss: 1.138817  [25600/60000]\n",
            "loss: 0.925950  [32000/60000]\n",
            "loss: 1.058543  [38400/60000]\n",
            "loss: 0.997531  [44800/60000]\n",
            "loss: 1.119476  [51200/60000]\n",
            "loss: 1.031919  [57600/60000]\n",
            "Test Error: \n",
            " Accuracy: 68.1%, Avg loss: 0.016683 \n",
            "\n",
            "Epoch 6\n",
            "-------------------------------\n",
            "loss: 1.162797  [    0/60000]\n",
            "loss: 1.202532  [ 6400/60000]\n",
            "loss: 0.960282  [12800/60000]\n",
            "loss: 1.079950  [19200/60000]\n",
            "loss: 1.129596  [25600/60000]\n",
            "loss: 0.916464  [32000/60000]\n",
            "loss: 1.048324  [38400/60000]\n",
            "loss: 0.992669  [44800/60000]\n",
            "loss: 1.110647  [51200/60000]\n",
            "loss: 1.023069  [57600/60000]\n",
            "Test Error: \n",
            " Accuracy: 68.4%, Avg loss: 0.016527 \n",
            "\n",
            "Epoch 7\n",
            "-------------------------------\n",
            "loss: 1.149785  [    0/60000]\n",
            "loss: 1.192369  [ 6400/60000]\n",
            "loss: 0.949630  [12800/60000]\n",
            "loss: 1.068460  [19200/60000]\n",
            "loss: 1.121377  [25600/60000]\n",
            "loss: 0.908202  [32000/60000]\n",
            "loss: 1.039471  [38400/60000]\n",
            "loss: 0.988332  [44800/60000]\n",
            "loss: 1.102924  [51200/60000]\n",
            "loss: 1.014670  [57600/60000]\n",
            "Test Error: \n",
            " Accuracy: 68.6%, Avg loss: 0.016384 \n",
            "\n",
            "Epoch 8\n",
            "-------------------------------\n",
            "loss: 1.138166  [    0/60000]\n",
            "loss: 1.182691  [ 6400/60000]\n",
            "loss: 0.940133  [12800/60000]\n",
            "loss: 1.057922  [19200/60000]\n",
            "loss: 1.113369  [25600/60000]\n",
            "loss: 0.901079  [32000/60000]\n",
            "loss: 1.031324  [38400/60000]\n",
            "loss: 0.984963  [44800/60000]\n",
            "loss: 1.096151  [51200/60000]\n",
            "loss: 1.006731  [57600/60000]\n",
            "Test Error: \n",
            " Accuracy: 68.8%, Avg loss: 0.016253 \n",
            "\n",
            "Epoch 9\n",
            "-------------------------------\n",
            "loss: 1.127510  [    0/60000]\n",
            "loss: 1.173465  [ 6400/60000]\n",
            "loss: 0.931592  [12800/60000]\n",
            "loss: 1.048458  [19200/60000]\n",
            "loss: 1.106295  [25600/60000]\n",
            "loss: 0.894782  [32000/60000]\n",
            "loss: 1.023952  [38400/60000]\n",
            "loss: 0.982153  [44800/60000]\n",
            "loss: 1.090210  [51200/60000]\n",
            "loss: 0.999080  [57600/60000]\n",
            "Test Error: \n",
            " Accuracy: 68.9%, Avg loss: 0.016131 \n",
            "\n",
            "Epoch 10\n",
            "-------------------------------\n",
            "loss: 1.117652  [    0/60000]\n",
            "loss: 1.164854  [ 6400/60000]\n",
            "loss: 0.923936  [12800/60000]\n",
            "loss: 1.040002  [19200/60000]\n",
            "loss: 1.100205  [25600/60000]\n",
            "loss: 0.888662  [32000/60000]\n",
            "loss: 1.016922  [38400/60000]\n",
            "loss: 0.980773  [44800/60000]\n",
            "loss: 1.084834  [51200/60000]\n",
            "loss: 0.991950  [57600/60000]\n",
            "Test Error: \n",
            " Accuracy: 69.0%, Avg loss: 0.016017 \n",
            "\n",
            "Epoch 11\n",
            "-------------------------------\n",
            "loss: 1.108374  [    0/60000]\n",
            "loss: 1.156602  [ 6400/60000]\n",
            "loss: 0.916896  [12800/60000]\n",
            "loss: 1.032118  [19200/60000]\n",
            "loss: 1.094269  [25600/60000]\n",
            "loss: 0.883081  [32000/60000]\n",
            "loss: 1.010532  [38400/60000]\n",
            "loss: 0.979073  [44800/60000]\n",
            "loss: 1.079980  [51200/60000]\n",
            "loss: 0.985000  [57600/60000]\n",
            "Test Error: \n",
            " Accuracy: 69.2%, Avg loss: 0.015912 \n",
            "\n",
            "Epoch 12\n",
            "-------------------------------\n",
            "loss: 1.099718  [    0/60000]\n",
            "loss: 1.148955  [ 6400/60000]\n",
            "loss: 0.910810  [12800/60000]\n",
            "loss: 1.024915  [19200/60000]\n",
            "loss: 1.088850  [25600/60000]\n",
            "loss: 0.878011  [32000/60000]\n",
            "loss: 1.004475  [38400/60000]\n",
            "loss: 0.978208  [44800/60000]\n",
            "loss: 1.075822  [51200/60000]\n",
            "loss: 0.978198  [57600/60000]\n",
            "Test Error: \n",
            " Accuracy: 69.4%, Avg loss: 0.015813 \n",
            "\n",
            "Done!\n"
          ]
        }
      ]
    },
    {
      "cell_type": "markdown",
      "metadata": {
        "id": "tiEF7C4Y38-Z"
      },
      "source": [
        "さらなる詳細\n",
        "--------------\n",
        "以下のページも参考ください。\n",
        "\n",
        "- [`Loss Functions](https://pytorch.org/docs/stable/nn.html#loss-functions)\n",
        "- [`torch.optim](https://pytorch.org/docs/stable/optim.html)\n",
        "- [`Warmstart Training a Model](https://pytorch.org/tutorials/recipes/recipes/warmstarting_model_using_parameters_from_a_different_model.html)\n",
        "\n",
        "\n"
      ]
    },
    {
      "cell_type": "markdown",
      "metadata": {
        "id": "hrbzhvZTS2zq"
      },
      "source": [
        "以上。"
      ]
    }
  ]
}