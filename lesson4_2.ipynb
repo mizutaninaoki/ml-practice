{
  "cells": [
    {
      "cell_type": "code",
      "source": [
        "from tensorflow.keras.preprocessing.text import Tokenizer\n",
        "from sklearn.model_selection import train_test_split\n",
        "from tensorflow.keras.preprocessing.sequence import pad_sequences\n",
        "\n",
        "def load_data(file_path):\n",
        "    tokenizer = Tokenizer(filters=\"\")\n",
        "    whole_texts = []\n",
        "    for line in open(file_path, encoding='utf-8'):\n",
        "        whole_texts.append(\"<s> \" + line.strip() + \" </s>\")\n",
        "        \n",
        "    tokenizer.fit_on_texts(whole_texts)\n",
        "    \n",
        "    return tokenizer.texts_to_sequences(whole_texts), tokenizer\n",
        "\n",
        "# 読み込み＆Tokenizerによる数値化\n",
        "x_train, tokenizer_en = load_data('train.en')\n",
        "y_train, tokenizer_ja = load_data('train.ja')\n",
        "\n",
        "en_vcab_size = len(tokenizer_en.word_index) + 1\n",
        "ja_vocab_size = len(tokenizer_ja.word_index) + 1\n",
        "\n",
        "x_train, x_test, y_train, y_test = train_test_split(x_train, y_train, test_size=0.02, random_state=42)\n",
        "\n",
        "# パディング\n",
        "# Embeddingレイヤーではmask_zero=Trueを引数として指定することで、計算上先程のパディング部分を無視することができる。\n",
        "x_train = pad_sequences(x_train, padding='post')\n",
        "y_train = pad_sequences(y_train, padding='post')\n",
        "\n",
        "seqX_len = len(x_train[0])\n",
        "seqY_len = len(y_train[0])"
      ],
      "metadata": {
        "id": "zmcTpTUPqRDH"
      },
      "execution_count": 4,
      "outputs": []
    },
    {
      "cell_type": "code",
      "source": [
        "from tensorflow.keras.models import Model\n",
        "from tensorflow.keras.layers import Input, Embedding, Dense, LSTM\n",
        "\n",
        "emb_dim = 256\n",
        "hid_dim = 256\n",
        "\n",
        "## 符号化器\n",
        "# Inputレイヤー（返り値としてテンソルを受け取る）\n",
        "encoder_inputs = Input(shape=(seqX_len,))\n",
        "# モデルの層構成（手前の層の返り値テンソルを、次の接続したい層に別途引数として与える）\n",
        "# InputレイヤーとEmbeddingレイヤーを接続（+Embeddingレイヤーのインスタンス化）\n",
        "encoder_embedded = Embedding(en_vcab_size, emb_dim, mask_zero=True)(encoder_inputs)\n",
        "# EmbeddingレイヤーとLSTMレイヤーを接続（+LSTMレイヤーのインスタンス化）\n",
        "_, *encoder_states = LSTM(hid_dim, return_state=True)(encoder_embedded) # shape: (seqX_len, emb_dim)->(hid_dim, )"
      ],
      "metadata": {
        "id": "rFbFpu6vqRFl"
      },
      "execution_count": 6,
      "outputs": []
    },
    {
      "cell_type": "code",
      "source": [
        "## 復号化器\n",
        "# Inputレイヤー（返り値としてテンソルを受け取る）\n",
        "decoder_inputs = Input(shape=(seqY_len,))\n",
        "\n",
        "# モデルの層構成（手前の層の返り値テンソルを、次の接続したい層に別途引数として与える）\n",
        "# InputレイヤーとEmbeddingレイヤーを接続\n",
        "decoder_embedding = Embedding(ja_vocab_size, emb_dim) # 後で参照したいので、レイヤー自体を変数化\n",
        "decoder_embedded = decoder_embedding(decoder_inputs)  # shape: (seqY_len,)->(seqY_len, emb_dim)\n",
        "# EmbeddingレイヤーとLSTMレイヤーを接続（encoder_statesを初期状態として指定）\n",
        "decoder_lstm = LSTM(hid_dim, return_sequences=True, return_state=True) # 後で参照したいので、レイヤー自体を変数化\n",
        "decoder_outputs, _, _ = decoder_lstm(decoder_embedded, initial_state=encoder_states) # shape: (seqY_len, emb_dim)->(seqY_len, hid_dim)\n",
        "# LSTMレイヤーとDenseレイヤーを接続\n",
        "decoder_dense = Dense(ja_vocab_size, activation='softmax') # 後で参照したいので、レイヤー自体を変数化\n",
        "decoder_outputs = decoder_dense(decoder_outputs) # shape: (seqY_len, hid_dim)->(seqY_len, ja_vocab_size)\n",
        "\n",
        "# モデル構築（入力は符号化器＆復号化器、出力は復号化器のみ）\n",
        "model = Model([encoder_inputs, decoder_inputs], decoder_outputs)\n",
        "model.compile(optimizer='rmsprop', loss='sparse_categorical_crossentropy')\n",
        "# 今回は、sparse_categorical_crossentropy（正解ラベルとしてone_hot表現のベクトルでなく数値を受け取るcategorical_crossentropy）を使用\n"
      ],
      "metadata": {
        "id": "9GLOQXwxqRHi"
      },
      "execution_count": 7,
      "outputs": []
    },
    {
      "cell_type": "code",
      "source": [
        "import numpy as np\n",
        "\n",
        "train_target = np.hstack((y_train[:, 1:], np.zeros((len(y_train),1), dtype=np.int32))) # 右端に全て０の列を１列追加でくっつけている\n",
        "model.fit([x_train, y_train], np.expand_dims(train_target, -1), batch_size=128, epochs=15, verbose=1, validation_split=0.2)"
      ],
      "metadata": {
        "id": "RN1zy9pSIPq-"
      },
      "execution_count": null,
      "outputs": []
    },
    {
      "cell_type": "code",
      "source": [
        "# サンプリング用（生成用）のモデルを作成\n",
        "\n",
        "# 符号化器（学習時と同じ構成、学習したレイヤーを利用）\n",
        "encoder_model = Model(encoder_inputs, encoder_states)\n",
        "\n",
        "# 復号化器\n",
        "decoder_states_inputs = [Input(shape=(hid_dim,)), Input(shape=(hid_dim,))] # decorder_lstmの初期状態指定用(h_t, c_t)\n",
        "\n",
        "decoder_inputs = Input(shape=(1,))\n",
        "decoder_embedded = decoder_embedding(decoder_inputs) # 学習済みEmbeddingレイヤーを利用\n",
        "decoder_outputs, *decoder_states = decoder_lstm(decoder_embedded, initial_state=decoder_states_inputs) # 学習済みLSTMレイヤーを利用\n",
        "decoder_outputs = decoder_dense(decoder_outputs) # 学習済みDenseレイヤーを利用\n",
        "decoder_model = Model([decoder_inputs] + decoder_states_inputs, [decoder_outputs] + decoder_states)"
      ],
      "metadata": {
        "id": "SIiqoX3SIPtF"
      },
      "execution_count": 17,
      "outputs": []
    },
    {
      "cell_type": "code",
      "source": [
        "def decode_sequence(input_seq, bos_eos, max_output_length = 1000):\n",
        "    states_value = encoder_model.predict(input_seq)\n",
        "\n",
        "    target_seq = np.array(bos_eos[0])  # bos_eos[0]=\"<s>\"に対応するインデックス\n",
        "    output_seq= bos_eos[0][:]\n",
        "    \n",
        "    while True:\n",
        "        output_tokens, *states_value = decoder_model.predict([target_seq] + states_value)\n",
        "        sampled_token_index = [np.argmax(output_tokens[0, -1, :])]\n",
        "        output_seq += sampled_token_index\n",
        "        \n",
        "        if (sampled_token_index == bos_eos[1] or len(output_seq) > max_output_length):\n",
        "            break\n",
        "\n",
        "        target_seq = np.array(sampled_token_index)\n",
        "\n",
        "    return output_seq"
      ],
      "metadata": {
        "id": "OBV2mtQ1IPvG"
      },
      "execution_count": 35,
      "outputs": []
    },
    {
      "cell_type": "code",
      "source": [
        "detokenizer_en = dict(map(reversed, tokenizer_en.word_index.items()))\n",
        "detokenizer_ja = dict(map(reversed, tokenizer_ja.word_index.items()))\n",
        "\n",
        "text_no = 0\n",
        "input_seq = pad_sequences([x_test[text_no]], seqX_len, padding='post')\n",
        "bos_eos = tokenizer_ja.texts_to_sequences([\"<s>\", \"</s>\"])\n",
        "\n",
        "print('元の文:', ' '.join([detokenizer_en[i] for i in x_test[text_no]]))\n",
        "print('生成文:', ' '.join([detokenizer_ja[i] for i in decode_sequence(input_seq, bos_eos)]))\n",
        "print('正解文:', ' '.join([detokenizer_ja[i] for i in y_test[text_no]]))"
      ],
      "metadata": {
        "colab": {
          "base_uri": "https://localhost:8080/"
        },
        "id": "LpfSNSGdS363",
        "outputId": "cb654c52-11d6-4105-ece0-c441aa2e9ac3"
      },
      "execution_count": 37,
      "outputs": [
        {
          "output_type": "stream",
          "name": "stdout",
          "text": [
            "元の文: <s> you may extend your stay in tokyo . </s>\n",
            "生成文: <s> あなた は 東京 に い て い っ て い る の で す か 。 </s>\n",
            "正解文: <s> 東京 滞在 を 延ば し て も い い で す よ 。 </s>\n"
          ]
        }
      ]
    },
    {
      "cell_type": "code",
      "source": [
        "model.summary()"
      ],
      "metadata": {
        "colab": {
          "base_uri": "https://localhost:8080/"
        },
        "id": "TNzazU7IS39e",
        "outputId": "69da5d3d-2b13-4a90-9fe3-7f1c46f511dc"
      },
      "execution_count": 38,
      "outputs": [
        {
          "output_type": "stream",
          "name": "stdout",
          "text": [
            "Model: \"model\"\n",
            "__________________________________________________________________________________________________\n",
            " Layer (type)                   Output Shape         Param #     Connected to                     \n",
            "==================================================================================================\n",
            " input_2 (InputLayer)           [(None, 18)]         0           []                               \n",
            "                                                                                                  \n",
            " input_3 (InputLayer)           [(None, 18)]         0           []                               \n",
            "                                                                                                  \n",
            " embedding_1 (Embedding)        (None, 18, 256)      1699072     ['input_2[0][0]']                \n",
            "                                                                                                  \n",
            " embedding_2 (Embedding)        multiple             2246912     ['input_3[0][0]']                \n",
            "                                                                                                  \n",
            " lstm_1 (LSTM)                  [(None, 256),        525312      ['embedding_1[0][0]']            \n",
            "                                 (None, 256),                                                     \n",
            "                                 (None, 256)]                                                     \n",
            "                                                                                                  \n",
            " lstm_2 (LSTM)                  multiple             525312      ['embedding_2[0][0]',            \n",
            "                                                                  'lstm_1[0][1]',                 \n",
            "                                                                  'lstm_1[0][2]']                 \n",
            "                                                                                                  \n",
            " dense (Dense)                  multiple             2255689     ['lstm_2[0][0]']                 \n",
            "                                                                                                  \n",
            "==================================================================================================\n",
            "Total params: 7,252,297\n",
            "Trainable params: 7,252,297\n",
            "Non-trainable params: 0\n",
            "__________________________________________________________________________________________________\n"
          ]
        }
      ]
    },
    {
      "cell_type": "code",
      "source": [
        "from nltk.translate.bleu_score import sentence_bleu, SmoothingFunction\n",
        "\n",
        "prediction = ['I', 'am', 'a', 'graduate', 'student', 'at', 'a', 'university']\n",
        "reference = [['I', 'am', 'a', 'graduate', 'student', 'at', 'the', 'university', 'of', 'tokyo']]\n",
        "\n",
        "print(sentence_bleu(reference, prediction))"
      ],
      "metadata": {
        "colab": {
          "base_uri": "https://localhost:8080/"
        },
        "id": "MdIwvU1dUpp3",
        "outputId": "33b1f073-2893-4ff2-8331-d3b6753e4207"
      },
      "execution_count": 39,
      "outputs": [
        {
          "output_type": "stream",
          "name": "stdout",
          "text": [
            "0.5506953149031837\n"
          ]
        }
      ]
    },
    {
      "cell_type": "code",
      "source": [
        "text_no = 1\n",
        "input_seq = pad_sequences([x_test[text_no]], seqX_len, padding='post')\n",
        "bos_eos = tokenizer_ja.texts_to_sequences([\"<s>\", \"</s>\"])\n",
        "\n",
        "prediction = [detokenizer_ja[i] for i in decode_sequence(input_seq, bos_eos)]\n",
        "reference = [[detokenizer_ja[i] for i in y_test[text_no]]]\n",
        "\n",
        "print(prediction)\n",
        "print(reference)\n",
        "\n",
        "print(sentence_bleu(reference, prediction))"
      ],
      "metadata": {
        "colab": {
          "base_uri": "https://localhost:8080/"
        },
        "id": "PXgoqdDNUptB",
        "outputId": "c0b8f1e3-aef7-45e5-d6a2-ffe402fda5c4"
      },
      "execution_count": 40,
      "outputs": [
        {
          "output_type": "stream",
          "name": "stdout",
          "text": [
            "['<s>', '私', 'は', '学校', 'で', '勉強', 'し', 'ま', 'す', '。', '</s>']\n",
            "[['<s>', '私', 'は', '学校', 'で', '勉強', 'する', '。', '</s>']]\n",
            "0.5193071778680676\n"
          ]
        }
      ]
    }
  ],
  "metadata": {
    "accelerator": "GPU",
    "colab": {
      "collapsed_sections": [],
      "name": "lesson4-2",
      "provenance": [],
      "mount_file_id": "1icy6ktlHyEjWqB9ib9eKXwt1RoFbiUuQ",
      "authorship_tag": "ABX9TyM9yOVVIvfzX+e1Jn/8rhbn"
    },
    "gpuClass": "standard",
    "kernelspec": {
      "display_name": "Python 3",
      "name": "python3"
    },
    "language_info": {
      "name": "python"
    }
  },
  "nbformat": 4,
  "nbformat_minor": 0
}